{
 "cells": [
  {
   "attachments": {},
   "cell_type": "markdown",
   "id": "bb5fd8fe",
   "metadata": {},
   "source": [
    "1 .Given a string of odd length greater than 5, return a new string made of the middle three characters of a given String:\n",
    "Example:\n",
    "\n",
    "\"Murat\" >>> \"ura\"\n",
    "\"Techpro\" >>> \"chp\" "
   ]
  },
  {
   "cell_type": "code",
   "execution_count": 87,
   "id": "200330a8",
   "metadata": {},
   "outputs": [
    {
     "data": {
      "text/plain": [
       "'ura'"
      ]
     },
     "execution_count": 87,
     "metadata": {},
     "output_type": "execute_result"
    }
   ],
   "source": [
    "def middle_three_char(str):\n",
    "    x = len(str) // 2 - 1\n",
    "    if len(str) % 2 == 1 and len(str) >= 5:\n",
    "        return(str[x : x + 3])\n",
    "    else:\n",
    "        print(\"False\")\n",
    "\n",
    "middle_three_char(\"murat\")\n",
    "\n"
   ]
  },
  {
   "attachments": {},
   "cell_type": "markdown",
   "id": "bac258c8",
   "metadata": {},
   "source": [
    "2. Kullanıcıdan bir sayı alın. Ve geriye doğru saymasını sağlayın. Aralarda \"*\" işareti olacaktır. En sonunda ise \"GO!\" ifadesi.\n",
    "\n",
    "Example:\n",
    "input >> 3\n",
    "output >> '3*2*1*GO!'"
   ]
  },
  {
   "cell_type": "code",
   "execution_count": 104,
   "id": "548b905f",
   "metadata": {},
   "outputs": [
    {
     "name": "stdout",
     "output_type": "stream",
     "text": [
      "54321*GO!\n"
     ]
    }
   ],
   "source": [
    "number = int(input(\"please enter a number\"))\n",
    "list_ = [] \n",
    "for i in range(number, 0, -1):\n",
    "    list_.append(i)\n",
    "new_str = \"\".join(map(str,list_))\n",
    "print(new_str+\"*GO!\")\n",
    "   \n",
    "\n"
   ]
  },
  {
   "attachments": {},
   "cell_type": "markdown",
   "id": "d4504fd6",
   "metadata": {},
   "source": [
    "3. Write a Python program to remove all elements from a given list present in another list. Go to the editor\n",
    "Original lists:\n",
    "list1: [1, 2, 3, 4, 5, 6, 7, 8, 9, 10]\n",
    "list2: [2, 4, 6, 8]\n",
    "Remove all elements from 'list1' present in 'list2:\n",
    "[1, 3, 5, 7, 9, 10]"
   ]
  },
  {
   "cell_type": "code",
   "execution_count": null,
   "id": "8c8e0c14",
   "metadata": {},
   "outputs": [
    {
     "name": "stdout",
     "output_type": "stream",
     "text": [
      "[1, 3, 5, 7, 9, 10]\n"
     ]
    }
   ],
   "source": [
    "list1 = [1,2,3,4,5,6,7,8,9,10]\n",
    "list2 = [2,4,6,8]\n",
    "list3 = []\n",
    "for i in list1 :\n",
    "    if i not in list2:\n",
    "        list3.append(i)\n",
    "print(list3)\n"
   ]
  },
  {
   "attachments": {},
   "cell_type": "markdown",
   "id": "5deef34a",
   "metadata": {},
   "source": [
    "4 - Negatif olmayan iki sayı alınız ve bu iki sayı arasındaki sayılardan tek olanları key, karelerini de value olacak şekilde sözlük haline getiren bir fonksiyon yazınız. (Sayıların kendileri dahil!)\n",
    "\n",
    "Example:\n",
    "keyvalue(12,5)\n",
    "\n",
    "{5: 25, 7: 49, 9: 81, 11: 121}"
   ]
  },
  {
   "cell_type": "code",
   "execution_count": null,
   "id": "392998d1",
   "metadata": {},
   "outputs": [
    {
     "data": {
      "text/plain": [
       "{1: 1, 3: 9, 5: 25, 7: 49}"
      ]
     },
     "execution_count": 26,
     "metadata": {},
     "output_type": "execute_result"
    }
   ],
   "source": [
    "def myNumbers(x,y):\n",
    "    dict_ = {}\n",
    "    if x >= 0 and y >= 0:\n",
    "        if x < y:\n",
    "            for i in range(x, y+1):\n",
    "                if i %2:\n",
    "                    dict_[i] = i**2\n",
    "        elif x > y:\n",
    "           for i in range(y, x+1):\n",
    "                if i %2:\n",
    "                    dict_[i] = i**2\n",
    "        else:\n",
    "            return (\"Equal numbers\")\n",
    "    else:\n",
    "        return (\"Both numbers should be positive\")\n",
    "    return(dict_)\n",
    "\n",
    "myNumbers(1,7)"
   ]
  },
  {
   "attachments": {},
   "cell_type": "markdown",
   "id": "903f7ae5",
   "metadata": {},
   "source": [
    "5 - Ardışık sıfırlar ve birler:\n",
    "\n",
    "Bu sorunun amacı, yalnızca sıfırlar ve birlerden oluşan bir ikili diziyi analiz etmektir. Kodunuz, dizedeki en büyük ardışık sıfır ve birlerin sayısını bulmalıdır. Örneğin, dize verildiğinde:\n",
    "\n",
    "\"1001101000110\" Ardışık sıfırların en büyük sayısı 3'tür.\n",
    "\n",
    "\"1001101000110\" Ardışık birlerin en büyük sayısı 2'dir.\n",
    "\n",
    "Sıfırlar ve birler dizisi olan tek bir parametre alan ardışık_sıfırlar adlı bir fonksiyon tanımlayın."
   ]
  },
  {
   "cell_type": "code",
   "execution_count": null,
   "id": "83823ad3",
   "metadata": {},
   "outputs": [
    {
     "data": {
      "text/plain": [
       "'max sifir sayisi: 4, max bir sayisi: 5'"
      ]
     },
     "execution_count": 27,
     "metadata": {},
     "output_type": "execute_result"
    }
   ],
   "source": [
    "def ardisik_sifirlar(x):\n",
    "    list1 = []\n",
    "    list2 = []\n",
    "    for i in str(x).split(\"1\"):\n",
    "        list1.append(len(i))\n",
    "        a = (max(list1))\n",
    "    for j in str(x).split(\"0\"):\n",
    "        list2.append(len(j))\n",
    "        b = (max(list2))\n",
    "    return(f\"max sifir sayisi: {a}, max bir sayisi: {b}\")\n",
    "\n",
    "\n",
    "\n",
    "ardisik_sifirlar(1000011111001011)\n",
    "\n",
    "\n"
   ]
  },
  {
   "cell_type": "markdown",
   "id": "eb2e035c",
   "metadata": {},
   "source": [
    "## len(max, (sayi.split(\"1), key =len)) bu sekilde key ile de cozulebilir"
   ]
  },
  {
   "cell_type": "code",
   "execution_count": null,
   "id": "8e1bbb7e",
   "metadata": {},
   "outputs": [
    {
     "data": {
      "text/plain": [
       "'max sifir sayisi: 5, max bir sayisi: 3'"
      ]
     },
     "execution_count": 91,
     "metadata": {},
     "output_type": "execute_result"
    }
   ],
   "source": [
    "# list comprehension solution\n",
    "def ardisik_sifirlar(x):\n",
    "    list1= [len(i) for i in str(x).split(\"1\")] \n",
    "    list2 = [len(j) for j in str(x).split(\"0\")]\n",
    "    return(f\"max sifir sayisi: {max(list1)}, max bir sayisi: {max(list2)}\")\n",
    "\n",
    "\n",
    "ardisik_sifirlar(100001110010100000)\n"
   ]
  },
  {
   "attachments": {},
   "cell_type": "markdown",
   "id": "26614e94",
   "metadata": {},
   "source": [
    "6- \n",
    "Parametre olarak negatif olmayan bir sayı alan \"format_number\" adında bir fonksiyon yazın.\n",
    "\n",
    "Fonksiyonunuz sayıyı bir stringe dönüştürmeli ve binlik ayırıcı olarak virgül eklemelidir.\n",
    "\n",
    "Örneğin, format_number(1000000) Output: \"1,000,000\" çıktısını vermelidir."
   ]
  },
  {
   "cell_type": "code",
   "execution_count": null,
   "id": "d4efed96",
   "metadata": {},
   "outputs": [
    {
     "data": {
      "text/plain": [
       "'23,456,444,734'"
      ]
     },
     "execution_count": 31,
     "metadata": {},
     "output_type": "execute_result"
    }
   ],
   "source": [
    "def format_number(x): \n",
    "    y = list(str(x))\n",
    "    for i in range((len(y)),0, -3):\n",
    "            y.insert(i, \",\") \n",
    "    return \"\".join(y).strip(\",\")\n",
    "       \n",
    "format_number(23456444734)"
   ]
  },
  {
   "attachments": {},
   "cell_type": "markdown",
   "id": "52dc60b7",
   "metadata": {},
   "source": [
    "7-\n",
    "Kullanıcıdan alınan bir text dizisinin tüm noktalama işaretlerini temizleyen bir fonksiyon yazınız.\n",
    "Example:\n",
    "cleaning(\"nas,ıls..ın\") >>> \"nasılsın\""
   ]
  },
  {
   "cell_type": "code",
   "execution_count": null,
   "id": "00a9c818",
   "metadata": {},
   "outputs": [
    {
     "name": "stdout",
     "output_type": "stream",
     "text": [
      "nasilsin"
     ]
    }
   ],
   "source": [
    "def cleaning(x):\n",
    "    for i in list(x):\n",
    "        if i not in (\",\",\".\",\"?\",\"!\"):\n",
    "            print (i, end= \"\")\n",
    "    \n",
    "    \n",
    "cleaning(\"nas,ils..in\")\n"
   ]
  },
  {
   "attachments": {},
   "cell_type": "markdown",
   "id": "d7d5f9a8",
   "metadata": {},
   "source": [
    "8-\n",
    "Kullanıcıdan bir sayı girmesini isteyin ve girilen sayıya göre papatya falı döndüren algoritma yazın. Son çıktının tüm karakterlerinin upper olmasına dikkat edin.\n",
    "\n",
    "example:\n",
    "input >> 5\n",
    "output >> ['Loves Me', 'Loves Me Not', 'Loves Me', 'Loves Me Not', 'LOVES ME']"
   ]
  },
  {
   "cell_type": "code",
   "execution_count": null,
   "id": "1675c738",
   "metadata": {},
   "outputs": [
    {
     "name": "stdout",
     "output_type": "stream",
     "text": [
      "['Loves Me', 'Loves Me Not', 'Loves Me', 'Loves Me Not', 'LOVES ME']\n"
     ]
    }
   ],
   "source": [
    "x  = int(input(\"please enter a number\"))\n",
    "list_ = []\n",
    "for i in range(x):\n",
    "    if i %2:\n",
    "        list_.append(\"Loves Me Not\")\n",
    "    else:\n",
    "        list_.append(\"Loves Me\")\n",
    "list_[x-1] = list_[x-1].upper()\n",
    "print(list_)\n",
    "\n",
    "    \n"
   ]
  },
  {
   "cell_type": "code",
   "execution_count": null,
   "id": "bc63e37e",
   "metadata": {},
   "outputs": [
    {
     "name": "stdout",
     "output_type": "stream",
     "text": [
      "['Loves Me', 'Loves Me Not', 'Loves Me', 'Loves Me Not', 'LOVES ME']\n"
     ]
    }
   ],
   "source": [
    "# list comprehension ile cozumu\n",
    "x  = int(input(\"please enter a number\"))\n",
    "list_ = [\"Loves Me Not\" if i %2 else \"Loves Me\" for i in range(x)]\n",
    "list_[x-1] = list_[x-1].upper()\n",
    "print(list_)\n",
    "\n",
    "    "
   ]
  },
  {
   "attachments": {},
   "cell_type": "markdown",
   "id": "573a4d18",
   "metadata": {},
   "source": [
    "9 - Girilen bir sayının basanaklarını toplayan ve her seferinde oluşan yeni sayıya aynı işlemi yapan ve sonuç olarak tek basamaklı sayıya ulaşana kadar bu işlemi yapan ve işlemi kaç kere yaptığını döndüren bir fonksiyon yazın. \n",
    "\n",
    "Example\n",
    "\n",
    "input >> 142536\n",
    "process\n",
    "1 -  1+4+2+5+3+6 = 21\n",
    "2 -  2+1 = 3\n",
    "\n",
    "iki kere de işlem tamamlandı"
   ]
  },
  {
   "cell_type": "code",
   "execution_count": null,
   "id": "3dd36d82",
   "metadata": {},
   "outputs": [
    {
     "data": {
      "text/plain": [
       "'sayiniz 3, 2 kere islem gerceklesti'"
      ]
     },
     "execution_count": 1,
     "metadata": {},
     "output_type": "execute_result"
    }
   ],
   "source": [
    "def myFunction(x):\n",
    "    count = 0\n",
    "    \n",
    "    while len(str(x)) > 1:\n",
    "        y = 0\n",
    "        for i in str(x):\n",
    "            y += int(i)\n",
    "            x = y\n",
    "        count += 1\n",
    "        \n",
    "    return (f\"sayiniz {x}, {count} kere islem gerceklesti\")\n",
    "        \n",
    "myFunction(142536)\n",
    "        \n",
    "\n"
   ]
  },
  {
   "attachments": {},
   "cell_type": "markdown",
   "id": "f75b8f0f",
   "metadata": {},
   "source": [
    "10 - Write a function that sorts the odd numbers in ascending order that leaves the even numbers in their original positions in a given string of numbers.\n",
    "\n",
    "Example:\n",
    "\n",
    "[7, 1] => [1, 7]\n",
    "\n",
    "[5, 8, 6, 3, 4] => [3, 8, 6, 5, 4]\n",
    "\n",
    "[9, 8, 7, 6, 5, 4, 3, 2, 1, 0] => [1, 8, 3, 6, 5, 4, 7, 2, 9, 0]"
   ]
  },
  {
   "cell_type": "code",
   "execution_count": null,
   "id": "9d37421c",
   "metadata": {},
   "outputs": [
    {
     "name": "stdout",
     "output_type": "stream",
     "text": [
      "[3, 8, 5, 6, 7, 4, 9, 2]\n"
     ]
    }
   ],
   "source": [
    "\n",
    "def numbersOrders(*x):\n",
    "    x = list(x)        \n",
    "    ordered_list = (sorted([i for i in x if i %2]))\n",
    "    index_list = []\n",
    "\n",
    "    for i in x:\n",
    "        if i %2:\n",
    "            index_list.append(x.index(i)) \n",
    "        else:\n",
    "            pass\n",
    "\n",
    "    for a in range (0, len(index_list) ):\n",
    "        x[index_list[a]] = ordered_list[a]\n",
    "    print(x)\n",
    "\n",
    "numbersOrders(9,8,7,6,5,4,3,2)\n",
    "\n",
    "\n",
    "\n",
    "\n"
   ]
  },
  {
   "cell_type": "markdown",
   "id": "44d622b6",
   "metadata": {},
   "source": [
    "## alternatif olarak sonuc degiskeni olusturup indexi listeye eklemektense ikinci if bloguna gerek kalmadan sorted listteki indexi +1 dongusune sokarak append edebilirsin\n",
    "# ornek asagida"
   ]
  },
  {
   "cell_type": "code",
   "execution_count": 17,
   "id": "1097f120",
   "metadata": {},
   "outputs": [
    {
     "data": {
      "text/plain": [
       "[3, 8, 5, 6, 7, 4, 9, 2]"
      ]
     },
     "execution_count": 17,
     "metadata": {},
     "output_type": "execute_result"
    }
   ],
   "source": [
    "def numbersOrders(*x):\n",
    "\n",
    "    sorted_liste = (sorted([i for i in x if i %2]))\n",
    "\n",
    "    sonuc = []\n",
    "\n",
    "    index = 0\n",
    "    for i in x:\n",
    "        if i % 2 == 1:\n",
    "            sonuc.append(sorted_liste[index])\n",
    "            index += 1\n",
    "        else:\n",
    "            sonuc.append(i)\n",
    "    return sonuc\n",
    "\n",
    "numbersOrders(9,8,7,6,5,4,3,2)"
   ]
  },
  {
   "attachments": {},
   "cell_type": "markdown",
   "id": "0de6ca91",
   "metadata": {},
   "source": [
    "11 - bir fonksiyon yazın. İçerisine girilen string ifadenin her seferinde sırayla bir harfini büyük yazdırsın. Sonuç olarak liste döndürsün. Punctuation lar işleme dahil edilmemelidir.\n",
    "\n",
    "Example:\n",
    "input >> ankara\n",
    "\n",
    "output >> ['Ankara', 'aNkara', 'anKara', 'ankAra', 'ankaRa', 'ankarA']"
   ]
  },
  {
   "cell_type": "code",
   "execution_count": null,
   "id": "23ea59c8",
   "metadata": {},
   "outputs": [
    {
     "data": {
      "text/plain": [
       "['Ankara', 'aNkara', 'anKara', 'ankAra', 'ankaRa', 'ankarA']"
      ]
     },
     "execution_count": 33,
     "metadata": {},
     "output_type": "execute_result"
    }
   ],
   "source": [
    "\n",
    "def myCapitalFunction(x):\n",
    "    x = x.lower()\n",
    "    list1 = []\n",
    "    for i in range(len(x)): \n",
    "        list1.append(x[:i] + x[i].upper() + x[i+1:])\n",
    "    return list1\n",
    "   \n",
    "    \n",
    "\n",
    "myCapitalFunction(\"ankara\") \n",
    "\n"
   ]
  },
  {
   "cell_type": "markdown",
   "id": "6432d692",
   "metadata": {},
   "source": [
    "## import string as st\n",
    "## st.ascii_lowercase, sadece kucuk harfleri icerir\n",
    "\n",
    "# bu sekilde punctuationlari silebilirsin\n"
   ]
  },
  {
   "cell_type": "code",
   "execution_count": null,
   "id": "c6d86f5c",
   "metadata": {},
   "outputs": [],
   "source": [
    "## for i,j in zip( kelime, range(kelime)):\n",
    "## liste. append(kelime[0:j] + aa[j].upper() + aa[ja=1:])\n",
    "\n",
    "\n",
    "# bu sekilde de for dongusu yapilir"
   ]
  },
  {
   "attachments": {},
   "cell_type": "markdown",
   "id": "1e98a1a3",
   "metadata": {},
   "source": [
    "12 - Write a function, which takes a non-negative integer (seconds) as input and returns the time in a human-readable format (HH:MM:SS)\n",
    "\n",
    "HH = hours, padded to 2 digits, range: 00 - 99\n",
    "MM = minutes, padded to 2 digits, range: 00 - 59\n",
    "SS = seconds, padded to 2 digits, range: 00 - 59\n",
    "The maximum time never exceeds 359999 (99:59:59)\n",
    "[bağlantı metni](https://www.codewars.com/kata/52685f7382004e774f0001f7)"
   ]
  },
  {
   "cell_type": "code",
   "execution_count": null,
   "id": "9c0eb1c8",
   "metadata": {},
   "outputs": [
    {
     "name": "stdout",
     "output_type": "stream",
     "text": [
      "12:41:13\n"
     ]
    }
   ],
   "source": [
    "x = int(input(\"please enter the number of seconds\"))\n",
    "if x <= 359999:\n",
    "    sn = x % 60 \n",
    "    dk = x // 60\n",
    "    saat = dk // 60\n",
    "    dk2 = dk % 60\n",
    "    if saat in (0,1,2,3,4,5,6,7,8,9):\n",
    "        saat = \"0\"+ str(saat)\n",
    "    if dk2 in (0,1,2,3,4,5,6,7,8,9):\n",
    "        dk2 = \"0\"+str(dk2)\n",
    "    if sn in (0,1,2,3,4,5,6,7,8,9):\n",
    "        sn = \"0\"+str(sn)\n",
    "\n",
    "\n",
    "print( saat, \":\", dk2, \":\", sn, sep = \"\")\n",
    "\n",
    "\n",
    "\n",
    "\n",
    "\n"
   ]
  },
  {
   "attachments": {},
   "cell_type": "markdown",
   "id": "3ecf0ab9",
   "metadata": {},
   "source": [
    "13 - Write a function scramble(str1, str2) that returns true if some of the str 1 characters can be rearranged to match str 2, false otherwise\n",
    "#Note >> Only lower case letters will be used (a-z). No punctuation or digits will be included.\n",
    "\n",
    "#Examples\n",
    "#scramble('rkqodlw', 'world') ==> True\n",
    "#scramble('katas', 'steak') ==> False"
   ]
  },
  {
   "cell_type": "code",
   "execution_count": null,
   "id": "0d3f0772",
   "metadata": {},
   "outputs": [
    {
     "data": {
      "text/plain": [
       "True"
      ]
     },
     "execution_count": 82,
     "metadata": {},
     "output_type": "execute_result"
    }
   ],
   "source": [
    "def scramble(str1,str2):\n",
    "    str1 = set(str1)\n",
    "    list4 = []\n",
    "    while len(list4) <= len(str2):\n",
    "        for i in str2:\n",
    "            if i in str1:\n",
    "                list4.append(i)\n",
    "        return set(list4) == set(str2)\n",
    "scramble( \"rkqodlw\", \"world\")"
   ]
  },
  {
   "cell_type": "code",
   "execution_count": 19,
   "id": "42006380",
   "metadata": {},
   "outputs": [],
   "source": [
    "# alternatif cozum\n",
    "def scramble(str1,str2):\n",
    "    set1 = set(str1)\n",
    "\n",
    "    count = 0\n",
    "\n",
    "    for i in str2:\n",
    "        if i in set1:\n",
    "            count += 1\n",
    "\n",
    "    if count == len(str2):\n",
    "        return True\n",
    "    else:\n",
    "        return False"
   ]
  },
  {
   "cell_type": "code",
   "execution_count": 20,
   "id": "bd711df7",
   "metadata": {},
   "outputs": [],
   "source": [
    "def scramble(str1,str2):\n",
    "\n",
    "    set1,set2 = set(str1), set(str2)\n",
    "\n",
    "    return set2.issubset(set1)"
   ]
  },
  {
   "attachments": {},
   "cell_type": "markdown",
   "id": "c0900727",
   "metadata": {},
   "source": [
    "14 - 1 den 100 e kadar olan sayılardaki asal sayıları bulun. \n",
    "\n",
    "Output >>> [2, 3, 5, 7, 11, 13, 17, 19, 23, 29, 31, 37, 41, 43, 47, 53, 59, 61, 67, 71, 73, 79, 83, 89, 97]"
   ]
  },
  {
   "cell_type": "code",
   "execution_count": 103,
   "id": "5b6cc46c",
   "metadata": {},
   "outputs": [
    {
     "name": "stdout",
     "output_type": "stream",
     "text": [
      "[2][3][5][7][11][13][17][19][23][29][31][37][41][43][47][53][59][61][67][71][73][79][83][89][97]"
     ]
    }
   ],
   "source": [
    "\n",
    "for i in range(2,101):\n",
    "    \n",
    "    liste = []\n",
    "    result = []\n",
    "    for j in range(2,i): \n",
    "        if i % j == 0:\n",
    "            liste.append(i)\n",
    "    if len(liste) == 0:\n",
    "        result.append(i)\n",
    "        print(result, end = \"\")\n",
    "        # tek bir liste halinde yazdiramadim\n",
    "        \n",
    "        \n"
   ]
  },
  {
   "attachments": {},
   "cell_type": "markdown",
   "id": "e8a6836f",
   "metadata": {},
   "source": [
    "15 - ```\n",
    "7- Once upon a time, on a way through the old wild mountainous west,…\n",
    "… a man was given directions to go from one point to another. The directions were \"NORTH\", \"SOUTH\", \"WEST\", \"EAST\". Clearly \"NORTH\" and \"SOUTH\" are opposite, \"WEST\" and \"EAST\" too.\n",
    "\n",
    "Going to one direction and coming back the opposite direction right away is a needless effort. Since this is the wild west, with dreadfull weather and not much water, it's important to save yourself some energy, otherwise you might die of thirst!\n",
    "\n",
    "How I crossed a mountainous desert the smart way.\n",
    "The directions given to the man are, for example, the following (depending on the language):\n",
    "\n",
    "[\"NORTH\", \"SOUTH\", \"SOUTH\", \"EAST\", \"WEST\", \"NORTH\", \"WEST\"].\n",
    "or\n",
    "{ \"NORTH\", \"SOUTH\", \"SOUTH\", \"EAST\", \"WEST\", \"NORTH\", \"WEST\" };\n",
    "or\n",
    "[North, South, South, East, West, North, West]\n",
    "You can immediatly see that going \"NORTH\" and immediately \"SOUTH\" is not reasonable, better stay to the same place! So the task is to give to the man a simplified version of the plan. A better plan in this case is simply:\n",
    "\n",
    "[\"WEST\"]\n",
    "or\n",
    "{ \"WEST\" }\n",
    "or\n",
    "[West]\n",
    "Other examples:\n",
    "In [\"NORTH\", \"SOUTH\", \"EAST\", \"WEST\"], the direction \"NORTH\" + \"SOUTH\" is going north and coming back right away.\n",
    "\n",
    "The path becomes [\"EAST\", \"WEST\"], now \"EAST\" and \"WEST\" annihilate each other, therefore, the final result is [] (nil in Clojure).\n",
    "\n",
    "In [\"NORTH\", \"EAST\", \"WEST\", \"SOUTH\", \"WEST\", \"WEST\"], \"NORTH\" and \"SOUTH\" are not directly opposite but they become directly opposite after the reduction of \"EAST\" and \"WEST\" so the whole path is reducible to [\"WEST\", \"WEST\"].\n",
    "\n",
    "Task\n",
    "Write a function dirReduc which will take an array of strings and returns an array of strings with the needless directions removed (W<->E or S<->N side by side).\n",
    "\n",
    "The Haskell version takes a list of directions with data Direction = North | East | West | South.\n",
    "The Clojure version returns nil when the path is reduced to nothing.\n",
    "The Rust version takes a slice of enum Direction {North, East, West, South}.\n",
    "See more examples in \"Sample Tests:\"\n",
    "Notes\n",
    "Not all paths can be made simpler. The path [\"NORTH\", \"WEST\", \"SOUTH\", \"EAST\"] is not reducible. \"NORTH\" and \"WEST\", \"WEST\" and \"SOUTH\", \"SOUTH\" and \"EAST\" are not directly opposite of each other and can't become such. Hence the result path is itself : [\"NORTH\", \"WEST\", \"SOUTH\", \"EAST\"].\n",
    "```\n",
    "\n",
    "\n"
   ]
  },
  {
   "cell_type": "code",
   "execution_count": 11,
   "id": "eaf6c540",
   "metadata": {},
   "outputs": [
    {
     "data": {
      "text/plain": [
       "['west']"
      ]
     },
     "execution_count": 11,
     "metadata": {},
     "output_type": "execute_result"
    }
   ],
   "source": [
    "# solution 1\n",
    "def dirReduc(arr):\n",
    "    d = {\"north\": 1, \"south\": -1, \"west\": 2, \"east\": -2}\n",
    "    new_arr = []\n",
    "    for direction in arr:\n",
    "        if new_arr and d[direction] + d[new_arr[-1]] == 0:\n",
    "            new_arr.pop()\n",
    "        else:\n",
    "            new_arr.append(direction)\n",
    "    return new_arr\n",
    "\n",
    "dirReduc([\"north\",\"south\",\"south\", \"east\", \"west\",\"north\",\"west\"])"
   ]
  },
  {
   "cell_type": "code",
   "execution_count": null,
   "id": "0f79bc0c",
   "metadata": {},
   "outputs": [],
   "source": [
    "# new_arr and \n",
    "# bunu koymayinca index out of range diyordu, onu bi coz bakalim."
   ]
  },
  {
   "cell_type": "code",
   "execution_count": null,
   "id": "38b3fe0d",
   "metadata": {},
   "outputs": [
    {
     "data": {
      "text/plain": [
       "['west']"
      ]
     },
     "execution_count": 85,
     "metadata": {},
     "output_type": "execute_result"
    }
   ],
   "source": [
    "# solution 2\n",
    "def dirReduc(arr):\n",
    "    idx = 0\n",
    "    opposites = {'north': 'south', 'east': 'west',\n",
    "                 'south': 'north', 'west': 'east'}\n",
    "    while idx < len(arr) - 1:\n",
    "        if arr[idx + 1] == opposites[arr[idx]]:\n",
    "            arr.pop(idx)\n",
    "            arr.pop(idx)\n",
    "            idx = 0\n",
    "        else:\n",
    "            idx += 1\n",
    "    else:\n",
    "        return arr\n",
    "    \n",
    "dirReduc([\"north\",\"south\",\"south\", \"east\", \"west\",\"north\",\"west\"])"
   ]
  },
  {
   "cell_type": "markdown",
   "id": "a25188a5",
   "metadata": {},
   "source": [
    "### alternative solution"
   ]
  },
  {
   "cell_type": "code",
   "execution_count": 9,
   "id": "fbfac409",
   "metadata": {},
   "outputs": [
    {
     "name": "stdout",
     "output_type": "stream",
     "text": [
      "W\n"
     ]
    }
   ],
   "source": [
    "yonler = ['NORTH', 'SOUTH', 'SOUTH', 'EAST', 'WEST', 'NORTH', 'WEST']\n",
    "\n",
    "yonler_1 = \"\". join([i[0] for i in yonler])\n",
    "\n",
    "while \"NS\" in yonler_1 or \"SN\" in yonler_1 or \"WE\" in yonler_1 or \"EW\" in yonler_1:\n",
    "    yonler_1 = yonler_1.replace(\"NS\", \"\").replace(\"SN\", \"\").replace(\"WE\", \"\").replace(\"EW\", \"\")\n",
    "\n",
    "print(str(yonler_1))"
   ]
  },
  {
   "cell_type": "markdown",
   "id": "58506de0",
   "metadata": {},
   "source": [
    "## eslesen parantezler cozumu de buna benzer, tekrar gozden gecir"
   ]
  }
 ],
 "metadata": {
  "kernelspec": {
   "display_name": "Python 3 (ipykernel)",
   "language": "python",
   "name": "python3"
  },
  "language_info": {
   "codemirror_mode": {
    "name": "ipython",
    "version": 3
   },
   "file_extension": ".py",
   "mimetype": "text/x-python",
   "name": "python",
   "nbconvert_exporter": "python",
   "pygments_lexer": "ipython3",
   "version": "3.10.9"
  }
 },
 "nbformat": 4,
 "nbformat_minor": 5
}
