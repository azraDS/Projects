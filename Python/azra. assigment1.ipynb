{
 "cells": [
  {
   "attachments": {},
   "cell_type": "markdown",
   "metadata": {},
   "source": [
    "### SORU 1"
   ]
  },
  {
   "cell_type": "code",
   "execution_count": 8,
   "metadata": {},
   "outputs": [
    {
     "name": "stdout",
     "output_type": "stream",
     "text": [
      "113.04\n",
      "37.68\n"
     ]
    }
   ],
   "source": [
    "r = int(input(\"Please enter the value of radius\"))\n",
    "pi = 3.14\n",
    "area = pi * r**2\n",
    "circum = 2 * pi * r\n",
    "print(area)\n",
    "print(circum)"
   ]
  },
  {
   "attachments": {},
   "cell_type": "markdown",
   "metadata": {},
   "source": [
    "### SORU 2"
   ]
  },
  {
   "cell_type": "code",
   "execution_count": 9,
   "metadata": {},
   "outputs": [
    {
     "name": "stdout",
     "output_type": "stream",
     "text": [
      "start year : 1234 \n",
      "faculty no : 56 \n",
      "area no:78 \n",
      "learn no :9 \n",
      "student number: 23\n"
     ]
    }
   ],
   "source": [
    "number = input(\"please enter the student's number\")\n",
    "start_year = number[0:4]\n",
    "faculty_no = number[4:6]\n",
    "area_no = number[6:8]\n",
    "learn_no = number[8]\n",
    "student_no = number[10:12]\n",
    "print(f\"\"\"start year : {start_year} \\nfaculty no : {faculty_no} \n",
    "area no:{area_no} \\nlearn no :{learn_no} \\nstudent number: {student_no}\"\"\")\n",
    "\n",
    "      \n",
    "\n",
    "\n"
   ]
  },
  {
   "attachments": {},
   "cell_type": "markdown",
   "metadata": {},
   "source": [
    "### SORU 3"
   ]
  },
  {
   "cell_type": "code",
   "execution_count": 11,
   "metadata": {},
   "outputs": [
    {
     "name": "stdout",
     "output_type": "stream",
     "text": [
      "5\n",
      "20\n",
      "75\n"
     ]
    }
   ],
   "source": [
    "myList = [2,5,7,9,20,14566,46,75,89,123,46]\n",
    "for x in myList:\n",
    "    if x%5 == 0:\n",
    "        print(x)\n",
    "\n",
    "\n",
    "\n",
    "    \n",
    "\n"
   ]
  },
  {
   "attachments": {},
   "cell_type": "markdown",
   "metadata": {},
   "source": [
    "### SORU 4"
   ]
  },
  {
   "cell_type": "code",
   "execution_count": 5,
   "metadata": {},
   "outputs": [
    {
     "data": {
      "text/plain": [
       "[2, 3, 4, 9, 2, 3, 2, 0, 0, 0, 0]"
      ]
     },
     "execution_count": 5,
     "metadata": {},
     "output_type": "execute_result"
    }
   ],
   "source": [
    "numbers= [2,3,4,0,9,0,2,3,0,2,0]\n",
    "def moveZeroes(numbers):\n",
    "    for i in numbers:\n",
    "        if i == 0:\n",
    "            numbers.remove(i)  \n",
    "            numbers.append(i)\n",
    "    return (numbers)\n",
    "\n",
    " \n",
    "moveZeroes(numbers)\n",
    "\n",
    "            \n"
   ]
  },
  {
   "attachments": {},
   "cell_type": "markdown",
   "metadata": {},
   "source": [
    "### SORU 5"
   ]
  },
  {
   "cell_type": "code",
   "execution_count": 11,
   "metadata": {},
   "outputs": [
    {
     "data": {
      "text/plain": [
       "True"
      ]
     },
     "execution_count": 11,
     "metadata": {},
     "output_type": "execute_result"
    }
   ],
   "source": [
    "def validMountainArray(arr): \n",
    "        if len(arr) < 3:\n",
    "            return False\n",
    "        l = 0 # the peak number on the leftside list\n",
    "        r = len(arr) - 1 # the peak number on the rightside list\n",
    "        while l + 1 < len(arr) - 1 and arr[l] < arr[l + 1]: \n",
    "            l += 1\n",
    "        while r - 1 > 0 and arr[r] < arr[r - 1]: \n",
    "            r -= 1\n",
    "        return l == r #there is only one peak number which should be equal\n",
    "validMountainArray([3,4,13,2])"
   ]
  },
  {
   "cell_type": "code",
   "execution_count": 4,
   "metadata": {},
   "outputs": [
    {
     "data": {
      "text/plain": [
       "True"
      ]
     },
     "execution_count": 4,
     "metadata": {},
     "output_type": "execute_result"
    }
   ],
   "source": [
    "def validMountainArray(arr): \n",
    "        if len(arr) < 3:\n",
    "            return False\n",
    "        climb = 0\n",
    "        while climb < len(arr) - 1 and arr[climb] < arr[climb + 1]: \n",
    "            climb += 1\n",
    "            if climb == 0 or climb == len(arr)-1:\n",
    "                 return False\n",
    "        while climb < len(arr)- 1 and arr[climb] > arr[climb + 1]:\n",
    "            climb += 1\n",
    "            if climb == len(arr)- 1:\n",
    "                return True\n",
    "        else:\n",
    "            return False\n",
    "  \n",
    "validMountainArray([3,4,13,15,7,2])"
   ]
  },
  {
   "cell_type": "code",
   "execution_count": null,
   "metadata": {},
   "outputs": [],
   "source": [
    "1,2,3,4,5,4,2,0"
   ]
  }
 ],
 "metadata": {
  "kernelspec": {
   "display_name": "base",
   "language": "python",
   "name": "python3"
  },
  "language_info": {
   "codemirror_mode": {
    "name": "ipython",
    "version": 3
   },
   "file_extension": ".py",
   "mimetype": "text/x-python",
   "name": "python",
   "nbconvert_exporter": "python",
   "pygments_lexer": "ipython3",
   "version": "3.10.9"
  },
  "orig_nbformat": 4
 },
 "nbformat": 4,
 "nbformat_minor": 2
}
