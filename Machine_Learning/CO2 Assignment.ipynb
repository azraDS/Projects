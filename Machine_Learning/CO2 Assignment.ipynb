{
 "cells": [
  {
   "cell_type": "markdown",
   "id": "0a001dff",
   "metadata": {},
   "source": [
    "## Importing libraries"
   ]
  },
  {
   "cell_type": "code",
   "execution_count": 229,
   "id": "b6ef415a",
   "metadata": {},
   "outputs": [],
   "source": [
    "import numpy as np\n",
    "import pandas as pd\n",
    "import scipy.stats as stats\n",
    "import matplotlib.pyplot as plt\n",
    "import seaborn as sns\n",
    "\n",
    "plt.rcParams[\"figure.figsize\"] = (10, 6)\n",
    "import warnings\n",
    "warnings.filterwarnings(\"ignore\")"
   ]
  },
  {
   "cell_type": "markdown",
   "id": "c69641b6",
   "metadata": {},
   "source": [
    "## EDA"
   ]
  },
  {
   "cell_type": "code",
   "execution_count": 230,
   "id": "2b5d3235",
   "metadata": {},
   "outputs": [],
   "source": [
    "df = pd.read_csv(\"co2.csv\")"
   ]
  },
  {
   "cell_type": "code",
   "execution_count": 231,
   "id": "d0cf2050",
   "metadata": {},
   "outputs": [
    {
     "data": {
      "text/html": [
       "<div>\n",
       "<style scoped>\n",
       "    .dataframe tbody tr th:only-of-type {\n",
       "        vertical-align: middle;\n",
       "    }\n",
       "\n",
       "    .dataframe tbody tr th {\n",
       "        vertical-align: top;\n",
       "    }\n",
       "\n",
       "    .dataframe thead th {\n",
       "        text-align: right;\n",
       "    }\n",
       "</style>\n",
       "<table border=\"1\" class=\"dataframe\">\n",
       "  <thead>\n",
       "    <tr style=\"text-align: right;\">\n",
       "      <th></th>\n",
       "      <th>Make</th>\n",
       "      <th>Model</th>\n",
       "      <th>Vehicle Class</th>\n",
       "      <th>Engine Size(L)</th>\n",
       "      <th>Cylinders</th>\n",
       "      <th>Transmission</th>\n",
       "      <th>Fuel Type</th>\n",
       "      <th>Fuel Consumption City (L/100 km)</th>\n",
       "      <th>Fuel Consumption Hwy (L/100 km)</th>\n",
       "      <th>Fuel Consumption Comb (L/100 km)</th>\n",
       "      <th>Fuel Consumption Comb (mpg)</th>\n",
       "      <th>CO2 Emissions(g/km)</th>\n",
       "    </tr>\n",
       "  </thead>\n",
       "  <tbody>\n",
       "    <tr>\n",
       "      <th>0</th>\n",
       "      <td>ACURA</td>\n",
       "      <td>ILX</td>\n",
       "      <td>COMPACT</td>\n",
       "      <td>2.0</td>\n",
       "      <td>4</td>\n",
       "      <td>AS5</td>\n",
       "      <td>Z</td>\n",
       "      <td>9.9</td>\n",
       "      <td>6.7</td>\n",
       "      <td>8.5</td>\n",
       "      <td>33</td>\n",
       "      <td>196</td>\n",
       "    </tr>\n",
       "    <tr>\n",
       "      <th>1</th>\n",
       "      <td>ACURA</td>\n",
       "      <td>ILX</td>\n",
       "      <td>COMPACT</td>\n",
       "      <td>2.4</td>\n",
       "      <td>4</td>\n",
       "      <td>M6</td>\n",
       "      <td>Z</td>\n",
       "      <td>11.2</td>\n",
       "      <td>7.7</td>\n",
       "      <td>9.6</td>\n",
       "      <td>29</td>\n",
       "      <td>221</td>\n",
       "    </tr>\n",
       "    <tr>\n",
       "      <th>2</th>\n",
       "      <td>ACURA</td>\n",
       "      <td>ILX HYBRID</td>\n",
       "      <td>COMPACT</td>\n",
       "      <td>1.5</td>\n",
       "      <td>4</td>\n",
       "      <td>AV7</td>\n",
       "      <td>Z</td>\n",
       "      <td>6.0</td>\n",
       "      <td>5.8</td>\n",
       "      <td>5.9</td>\n",
       "      <td>48</td>\n",
       "      <td>136</td>\n",
       "    </tr>\n",
       "    <tr>\n",
       "      <th>3</th>\n",
       "      <td>ACURA</td>\n",
       "      <td>MDX 4WD</td>\n",
       "      <td>SUV - SMALL</td>\n",
       "      <td>3.5</td>\n",
       "      <td>6</td>\n",
       "      <td>AS6</td>\n",
       "      <td>Z</td>\n",
       "      <td>12.7</td>\n",
       "      <td>9.1</td>\n",
       "      <td>11.1</td>\n",
       "      <td>25</td>\n",
       "      <td>255</td>\n",
       "    </tr>\n",
       "    <tr>\n",
       "      <th>4</th>\n",
       "      <td>ACURA</td>\n",
       "      <td>RDX AWD</td>\n",
       "      <td>SUV - SMALL</td>\n",
       "      <td>3.5</td>\n",
       "      <td>6</td>\n",
       "      <td>AS6</td>\n",
       "      <td>Z</td>\n",
       "      <td>12.1</td>\n",
       "      <td>8.7</td>\n",
       "      <td>10.6</td>\n",
       "      <td>27</td>\n",
       "      <td>244</td>\n",
       "    </tr>\n",
       "    <tr>\n",
       "      <th>5</th>\n",
       "      <td>ACURA</td>\n",
       "      <td>RLX</td>\n",
       "      <td>MID-SIZE</td>\n",
       "      <td>3.5</td>\n",
       "      <td>6</td>\n",
       "      <td>AS6</td>\n",
       "      <td>Z</td>\n",
       "      <td>11.9</td>\n",
       "      <td>7.7</td>\n",
       "      <td>10.0</td>\n",
       "      <td>28</td>\n",
       "      <td>230</td>\n",
       "    </tr>\n",
       "    <tr>\n",
       "      <th>6</th>\n",
       "      <td>ACURA</td>\n",
       "      <td>TL</td>\n",
       "      <td>MID-SIZE</td>\n",
       "      <td>3.5</td>\n",
       "      <td>6</td>\n",
       "      <td>AS6</td>\n",
       "      <td>Z</td>\n",
       "      <td>11.8</td>\n",
       "      <td>8.1</td>\n",
       "      <td>10.1</td>\n",
       "      <td>28</td>\n",
       "      <td>232</td>\n",
       "    </tr>\n",
       "    <tr>\n",
       "      <th>7</th>\n",
       "      <td>ACURA</td>\n",
       "      <td>TL AWD</td>\n",
       "      <td>MID-SIZE</td>\n",
       "      <td>3.7</td>\n",
       "      <td>6</td>\n",
       "      <td>AS6</td>\n",
       "      <td>Z</td>\n",
       "      <td>12.8</td>\n",
       "      <td>9.0</td>\n",
       "      <td>11.1</td>\n",
       "      <td>25</td>\n",
       "      <td>255</td>\n",
       "    </tr>\n",
       "    <tr>\n",
       "      <th>8</th>\n",
       "      <td>ACURA</td>\n",
       "      <td>TL AWD</td>\n",
       "      <td>MID-SIZE</td>\n",
       "      <td>3.7</td>\n",
       "      <td>6</td>\n",
       "      <td>M6</td>\n",
       "      <td>Z</td>\n",
       "      <td>13.4</td>\n",
       "      <td>9.5</td>\n",
       "      <td>11.6</td>\n",
       "      <td>24</td>\n",
       "      <td>267</td>\n",
       "    </tr>\n",
       "    <tr>\n",
       "      <th>9</th>\n",
       "      <td>ACURA</td>\n",
       "      <td>TSX</td>\n",
       "      <td>COMPACT</td>\n",
       "      <td>2.4</td>\n",
       "      <td>4</td>\n",
       "      <td>AS5</td>\n",
       "      <td>Z</td>\n",
       "      <td>10.6</td>\n",
       "      <td>7.5</td>\n",
       "      <td>9.2</td>\n",
       "      <td>31</td>\n",
       "      <td>212</td>\n",
       "    </tr>\n",
       "  </tbody>\n",
       "</table>\n",
       "</div>"
      ],
      "text/plain": [
       "    Make       Model Vehicle Class  Engine Size(L)  Cylinders Transmission  \\\n",
       "0  ACURA         ILX       COMPACT             2.0          4          AS5   \n",
       "1  ACURA         ILX       COMPACT             2.4          4           M6   \n",
       "2  ACURA  ILX HYBRID       COMPACT             1.5          4          AV7   \n",
       "3  ACURA     MDX 4WD   SUV - SMALL             3.5          6          AS6   \n",
       "4  ACURA     RDX AWD   SUV - SMALL             3.5          6          AS6   \n",
       "5  ACURA         RLX      MID-SIZE             3.5          6          AS6   \n",
       "6  ACURA          TL      MID-SIZE             3.5          6          AS6   \n",
       "7  ACURA      TL AWD      MID-SIZE             3.7          6          AS6   \n",
       "8  ACURA      TL AWD      MID-SIZE             3.7          6           M6   \n",
       "9  ACURA         TSX       COMPACT             2.4          4          AS5   \n",
       "\n",
       "  Fuel Type  Fuel Consumption City (L/100 km)  \\\n",
       "0         Z                               9.9   \n",
       "1         Z                              11.2   \n",
       "2         Z                               6.0   \n",
       "3         Z                              12.7   \n",
       "4         Z                              12.1   \n",
       "5         Z                              11.9   \n",
       "6         Z                              11.8   \n",
       "7         Z                              12.8   \n",
       "8         Z                              13.4   \n",
       "9         Z                              10.6   \n",
       "\n",
       "   Fuel Consumption Hwy (L/100 km)  Fuel Consumption Comb (L/100 km)  \\\n",
       "0                              6.7                               8.5   \n",
       "1                              7.7                               9.6   \n",
       "2                              5.8                               5.9   \n",
       "3                              9.1                              11.1   \n",
       "4                              8.7                              10.6   \n",
       "5                              7.7                              10.0   \n",
       "6                              8.1                              10.1   \n",
       "7                              9.0                              11.1   \n",
       "8                              9.5                              11.6   \n",
       "9                              7.5                               9.2   \n",
       "\n",
       "   Fuel Consumption Comb (mpg)  CO2 Emissions(g/km)  \n",
       "0                           33                  196  \n",
       "1                           29                  221  \n",
       "2                           48                  136  \n",
       "3                           25                  255  \n",
       "4                           27                  244  \n",
       "5                           28                  230  \n",
       "6                           28                  232  \n",
       "7                           25                  255  \n",
       "8                           24                  267  \n",
       "9                           31                  212  "
      ]
     },
     "execution_count": 231,
     "metadata": {},
     "output_type": "execute_result"
    }
   ],
   "source": [
    "df.head(10)"
   ]
  },
  {
   "cell_type": "code",
   "execution_count": 232,
   "id": "b36dac17",
   "metadata": {
    "scrolled": false
   },
   "outputs": [
    {
     "name": "stdout",
     "output_type": "stream",
     "text": [
      "<class 'pandas.core.frame.DataFrame'>\n",
      "RangeIndex: 7385 entries, 0 to 7384\n",
      "Data columns (total 12 columns):\n",
      " #   Column                            Non-Null Count  Dtype  \n",
      "---  ------                            --------------  -----  \n",
      " 0   Make                              7385 non-null   object \n",
      " 1   Model                             7385 non-null   object \n",
      " 2   Vehicle Class                     7385 non-null   object \n",
      " 3   Engine Size(L)                    7385 non-null   float64\n",
      " 4   Cylinders                         7385 non-null   int64  \n",
      " 5   Transmission                      7385 non-null   object \n",
      " 6   Fuel Type                         7385 non-null   object \n",
      " 7   Fuel Consumption City (L/100 km)  7385 non-null   float64\n",
      " 8   Fuel Consumption Hwy (L/100 km)   7385 non-null   float64\n",
      " 9   Fuel Consumption Comb (L/100 km)  7385 non-null   float64\n",
      " 10  Fuel Consumption Comb (mpg)       7385 non-null   int64  \n",
      " 11  CO2 Emissions(g/km)               7385 non-null   int64  \n",
      "dtypes: float64(4), int64(3), object(5)\n",
      "memory usage: 692.5+ KB\n"
     ]
    }
   ],
   "source": [
    "df.info()"
   ]
  },
  {
   "cell_type": "code",
   "execution_count": 233,
   "id": "a89474f8",
   "metadata": {},
   "outputs": [
    {
     "data": {
      "image/png": "[encoded data removed]",
      "text/plain": [
       "<Figure size 2500x1000 with 2 Axes>"
      ]
     },
     "metadata": {},
     "output_type": "display_data"
    }
   ],
   "source": [
    "import missingno as msno\n",
    "msno.matrix(df);"
   ]
  },
  {
   "cell_type": "code",
   "execution_count": 234,
   "id": "9adbc5f8",
   "metadata": {},
   "outputs": [
    {
     "data": {
      "image/png": "[encoded data removed]",
      "text/plain": [
       "<Figure size 1000x600 with 2 Axes>"
      ]
     },
     "metadata": {},
     "output_type": "display_data"
    }
   ],
   "source": [
    "sns.heatmap(df.corr(), annot= True);\n",
    "# loooks like we have multicolinearity in our data set (corr>90 in between some features)"
   ]
  },
  {
   "cell_type": "code",
   "execution_count": 235,
   "id": "eff1edf3",
   "metadata": {},
   "outputs": [],
   "source": [
    "# our task was given to use \"CO2 Emissions(g/km) and \"Engine Size(L)\" for Simple Linear Regression Model."
   ]
  },
  {
   "cell_type": "code",
   "execution_count": 236,
   "id": "05c93853",
   "metadata": {},
   "outputs": [
    {
     "data": {
      "text/plain": [
       "0.8511446437899972"
      ]
     },
     "execution_count": 236,
     "metadata": {},
     "output_type": "execute_result"
    }
   ],
   "source": [
    "corr = df[\"CO2 Emissions(g/km)\"].corr(df[\"Engine Size(L)\"])\n",
    "corr"
   ]
  },
  {
   "cell_type": "code",
   "execution_count": 237,
   "id": "b8da0fd6",
   "metadata": {},
   "outputs": [
    {
     "data": {
      "text/html": [
       "<div>\n",
       "<style scoped>\n",
       "    .dataframe tbody tr th:only-of-type {\n",
       "        vertical-align: middle;\n",
       "    }\n",
       "\n",
       "    .dataframe tbody tr th {\n",
       "        vertical-align: top;\n",
       "    }\n",
       "\n",
       "    .dataframe thead th {\n",
       "        text-align: right;\n",
       "    }\n",
       "</style>\n",
       "<table border=\"1\" class=\"dataframe\">\n",
       "  <thead>\n",
       "    <tr style=\"text-align: right;\">\n",
       "      <th></th>\n",
       "      <th>Engine Size(L)</th>\n",
       "      <th>CO2 Emissions(g/km)</th>\n",
       "    </tr>\n",
       "  </thead>\n",
       "  <tbody>\n",
       "    <tr>\n",
       "      <th>0</th>\n",
       "      <td>2.0</td>\n",
       "      <td>196</td>\n",
       "    </tr>\n",
       "    <tr>\n",
       "      <th>1</th>\n",
       "      <td>2.4</td>\n",
       "      <td>221</td>\n",
       "    </tr>\n",
       "    <tr>\n",
       "      <th>2</th>\n",
       "      <td>1.5</td>\n",
       "      <td>136</td>\n",
       "    </tr>\n",
       "    <tr>\n",
       "      <th>3</th>\n",
       "      <td>3.5</td>\n",
       "      <td>255</td>\n",
       "    </tr>\n",
       "    <tr>\n",
       "      <th>4</th>\n",
       "      <td>3.5</td>\n",
       "      <td>244</td>\n",
       "    </tr>\n",
       "    <tr>\n",
       "      <th>...</th>\n",
       "      <td>...</td>\n",
       "      <td>...</td>\n",
       "    </tr>\n",
       "    <tr>\n",
       "      <th>7380</th>\n",
       "      <td>2.0</td>\n",
       "      <td>219</td>\n",
       "    </tr>\n",
       "    <tr>\n",
       "      <th>7381</th>\n",
       "      <td>2.0</td>\n",
       "      <td>232</td>\n",
       "    </tr>\n",
       "    <tr>\n",
       "      <th>7382</th>\n",
       "      <td>2.0</td>\n",
       "      <td>240</td>\n",
       "    </tr>\n",
       "    <tr>\n",
       "      <th>7383</th>\n",
       "      <td>2.0</td>\n",
       "      <td>232</td>\n",
       "    </tr>\n",
       "    <tr>\n",
       "      <th>7384</th>\n",
       "      <td>2.0</td>\n",
       "      <td>248</td>\n",
       "    </tr>\n",
       "  </tbody>\n",
       "</table>\n",
       "<p>7385 rows × 2 columns</p>\n",
       "</div>"
      ],
      "text/plain": [
       "      Engine Size(L)  CO2 Emissions(g/km)\n",
       "0                2.0                  196\n",
       "1                2.4                  221\n",
       "2                1.5                  136\n",
       "3                3.5                  255\n",
       "4                3.5                  244\n",
       "...              ...                  ...\n",
       "7380             2.0                  219\n",
       "7381             2.0                  232\n",
       "7382             2.0                  240\n",
       "7383             2.0                  232\n",
       "7384             2.0                  248\n",
       "\n",
       "[7385 rows x 2 columns]"
      ]
     },
     "execution_count": 237,
     "metadata": {},
     "output_type": "execute_result"
    }
   ],
   "source": [
    "df = df[[\"Engine Size(L)\",\"CO2 Emissions(g/km)\" ]]\n",
    "df"
   ]
  },
  {
   "cell_type": "code",
   "execution_count": 238,
   "id": "5a74f054",
   "metadata": {},
   "outputs": [
    {
     "data": {
      "text/html": [
       "<div>\n",
       "<style scoped>\n",
       "    .dataframe tbody tr th:only-of-type {\n",
       "        vertical-align: middle;\n",
       "    }\n",
       "\n",
       "    .dataframe tbody tr th {\n",
       "        vertical-align: top;\n",
       "    }\n",
       "\n",
       "    .dataframe thead th {\n",
       "        text-align: right;\n",
       "    }\n",
       "</style>\n",
       "<table border=\"1\" class=\"dataframe\">\n",
       "  <thead>\n",
       "    <tr style=\"text-align: right;\">\n",
       "      <th></th>\n",
       "      <th>count</th>\n",
       "      <th>mean</th>\n",
       "      <th>std</th>\n",
       "      <th>min</th>\n",
       "      <th>25%</th>\n",
       "      <th>50%</th>\n",
       "      <th>75%</th>\n",
       "      <th>max</th>\n",
       "    </tr>\n",
       "  </thead>\n",
       "  <tbody>\n",
       "    <tr>\n",
       "      <th>Engine Size(L)</th>\n",
       "      <td>7385.0</td>\n",
       "      <td>3.160068</td>\n",
       "      <td>1.354170</td>\n",
       "      <td>0.9</td>\n",
       "      <td>2.0</td>\n",
       "      <td>3.0</td>\n",
       "      <td>3.7</td>\n",
       "      <td>8.4</td>\n",
       "    </tr>\n",
       "    <tr>\n",
       "      <th>CO2 Emissions(g/km)</th>\n",
       "      <td>7385.0</td>\n",
       "      <td>250.584699</td>\n",
       "      <td>58.512679</td>\n",
       "      <td>96.0</td>\n",
       "      <td>208.0</td>\n",
       "      <td>246.0</td>\n",
       "      <td>288.0</td>\n",
       "      <td>522.0</td>\n",
       "    </tr>\n",
       "  </tbody>\n",
       "</table>\n",
       "</div>"
      ],
      "text/plain": [
       "                      count        mean        std   min    25%    50%    75%  \\\n",
       "Engine Size(L)       7385.0    3.160068   1.354170   0.9    2.0    3.0    3.7   \n",
       "CO2 Emissions(g/km)  7385.0  250.584699  58.512679  96.0  208.0  246.0  288.0   \n",
       "\n",
       "                       max  \n",
       "Engine Size(L)         8.4  \n",
       "CO2 Emissions(g/km)  522.0  "
      ]
     },
     "execution_count": 238,
     "metadata": {},
     "output_type": "execute_result"
    }
   ],
   "source": [
    "df.describe().T"
   ]
  },
  {
   "cell_type": "code",
   "execution_count": 239,
   "id": "6b2b0592",
   "metadata": {},
   "outputs": [],
   "source": [
    "X = df[[\"Engine Size(L)\"]]\n",
    "y = df[\"CO2 Emissions(g/km)\"]\n",
    "# feature datafFrame should always be 2D array rather than 1D. To prevent error, we adjusted df dimension"
   ]
  },
  {
   "cell_type": "code",
   "execution_count": 240,
   "id": "c8f48424",
   "metadata": {},
   "outputs": [
    {
     "name": "stdout",
     "output_type": "stream",
     "text": [
      "      Engine Size(L)\n",
      "0                2.0\n",
      "1                2.4\n",
      "2                1.5\n",
      "3                3.5\n",
      "4                3.5\n",
      "...              ...\n",
      "7380             2.0\n",
      "7381             2.0\n",
      "7382             2.0\n",
      "7383             2.0\n",
      "7384             2.0\n",
      "\n",
      "[7385 rows x 1 columns] 0       196\n",
      "1       221\n",
      "2       136\n",
      "3       255\n",
      "4       244\n",
      "       ... \n",
      "7380    219\n",
      "7381    232\n",
      "7382    240\n",
      "7383    232\n",
      "7384    248\n",
      "Name: CO2 Emissions(g/km), Length: 7385, dtype: int64\n"
     ]
    }
   ],
   "source": [
    "print(X,y)"
   ]
  },
  {
   "cell_type": "markdown",
   "id": "80b3f579",
   "metadata": {},
   "source": [
    "## Model Fitting"
   ]
  },
  {
   "cell_type": "code",
   "execution_count": 241,
   "id": "4acca6aa",
   "metadata": {},
   "outputs": [],
   "source": [
    "from sklearn.model_selection import train_test_split\n",
    "X_train, X_test, y_train, y_test = train_test_split(X, y, test_size = 0.2)"
   ]
  },
  {
   "cell_type": "code",
   "execution_count": 242,
   "id": "17ad5440",
   "metadata": {},
   "outputs": [],
   "source": [
    "from sklearn.linear_model import LinearRegression\n",
    "model = LinearRegression()"
   ]
  },
  {
   "cell_type": "code",
   "execution_count": 243,
   "id": "d63b5e27",
   "metadata": {},
   "outputs": [
    {
     "data": {
      "text/html": [
       "<style>#sk-container-id-12 {color: black;background-color: white;}#sk-container-id-12 pre{padding: 0;}#sk-container-id-12 div.sk-toggleable {background-color: white;}#sk-container-id-12 label.sk-toggleable__label {cursor: pointer;display: block;width: 100%;margin-bottom: 0;padding: 0.3em;box-sizing: border-box;text-align: center;}#sk-container-id-12 label.sk-toggleable__label-arrow:before {content: \"▸\";float: left;margin-right: 0.25em;color: #696969;}#sk-container-id-12 label.sk-toggleable__label-arrow:hover:before {color: black;}#sk-container-id-12 div.sk-estimator:hover label.sk-toggleable__label-arrow:before {color: black;}#sk-container-id-12 div.sk-toggleable__content {max-height: 0;max-width: 0;overflow: hidden;text-align: left;background-color: #f0f8ff;}#sk-container-id-12 div.sk-toggleable__content pre {margin: 0.2em;color: black;border-radius: 0.25em;background-color: #f0f8ff;}#sk-container-id-12 input.sk-toggleable__control:checked~div.sk-toggleable__content {max-height: 200px;max-width: 100%;overflow: auto;}#sk-container-id-12 input.sk-toggleable__control:checked~label.sk-toggleable__label-arrow:before {content: \"▾\";}#sk-container-id-12 div.sk-estimator input.sk-toggleable__control:checked~label.sk-toggleable__label {background-color: #d4ebff;}#sk-container-id-12 div.sk-label input.sk-toggleable__control:checked~label.sk-toggleable__label {background-color: #d4ebff;}#sk-container-id-12 input.sk-hidden--visually {border: 0;clip: rect(1px 1px 1px 1px);clip: rect(1px, 1px, 1px, 1px);height: 1px;margin: -1px;overflow: hidden;padding: 0;position: absolute;width: 1px;}#sk-container-id-12 div.sk-estimator {font-family: monospace;background-color: #f0f8ff;border: 1px dotted black;border-radius: 0.25em;box-sizing: border-box;margin-bottom: 0.5em;}#sk-container-id-12 div.sk-estimator:hover {background-color: #d4ebff;}#sk-container-id-12 div.sk-parallel-item::after {content: \"\";width: 100%;border-bottom: 1px solid gray;flex-grow: 1;}#sk-container-id-12 div.sk-label:hover label.sk-toggleable__label {background-color: #d4ebff;}#sk-container-id-12 div.sk-serial::before {content: \"\";position: absolute;border-left: 1px solid gray;box-sizing: border-box;top: 0;bottom: 0;left: 50%;z-index: 0;}#sk-container-id-12 div.sk-serial {display: flex;flex-direction: column;align-items: center;background-color: white;padding-right: 0.2em;padding-left: 0.2em;position: relative;}#sk-container-id-12 div.sk-item {position: relative;z-index: 1;}#sk-container-id-12 div.sk-parallel {display: flex;align-items: stretch;justify-content: center;background-color: white;position: relative;}#sk-container-id-12 div.sk-item::before, #sk-container-id-12 div.sk-parallel-item::before {content: \"\";position: absolute;border-left: 1px solid gray;box-sizing: border-box;top: 0;bottom: 0;left: 50%;z-index: -1;}#sk-container-id-12 div.sk-parallel-item {display: flex;flex-direction: column;z-index: 1;position: relative;background-color: white;}#sk-container-id-12 div.sk-parallel-item:first-child::after {align-self: flex-end;width: 50%;}#sk-container-id-12 div.sk-parallel-item:last-child::after {align-self: flex-start;width: 50%;}#sk-container-id-12 div.sk-parallel-item:only-child::after {width: 0;}#sk-container-id-12 div.sk-dashed-wrapped {border: 1px dashed gray;margin: 0 0.4em 0.5em 0.4em;box-sizing: border-box;padding-bottom: 0.4em;background-color: white;}#sk-container-id-12 div.sk-label label {font-family: monospace;font-weight: bold;display: inline-block;line-height: 1.2em;}#sk-container-id-12 div.sk-label-container {text-align: center;}#sk-container-id-12 div.sk-container {/* jupyter's `normalize.less` sets `[hidden] { display: none; }` but bootstrap.min.css set `[hidden] { display: none !important; }` so we also need the `!important` here to be able to override the default hidden behavior on the sphinx rendered scikit-learn.org. See: https://github.com/scikit-learn/scikit-learn/issues/21755 */display: inline-block !important;position: relative;}#sk-container-id-12 div.sk-text-repr-fallback {display: none;}</style><div id=\"sk-container-id-12\" class=\"sk-top-container\"><div class=\"sk-text-repr-fallback\"><pre>LinearRegression()</pre><b>In a Jupyter environment, please rerun this cell to show the HTML representation or trust the notebook. <br />On GitHub, the HTML representation is unable to render, please try loading this page with nbviewer.org.</b></div><div class=\"sk-container\" hidden><div class=\"sk-item\"><div class=\"sk-estimator sk-toggleable\"><input class=\"sk-toggleable__control sk-hidden--visually\" id=\"sk-estimator-id-12\" type=\"checkbox\" checked><label for=\"sk-estimator-id-12\" class=\"sk-toggleable__label sk-toggleable__label-arrow\">LinearRegression</label><div class=\"sk-toggleable__content\"><pre>LinearRegression()</pre></div></div></div></div></div>"
      ],
      "text/plain": [
       "LinearRegression()"
      ]
     },
     "execution_count": 243,
     "metadata": {},
     "output_type": "execute_result"
    }
   ],
   "source": [
    "model.fit(X_train, y_train)"
   ]
  },
  {
   "cell_type": "code",
   "execution_count": 244,
   "id": "d4702665",
   "metadata": {},
   "outputs": [
    {
     "data": {
      "text/plain": [
       "array([311.00214956, 207.71674396, 222.4718019 , ..., 251.98191779,\n",
       "       266.73697573, 218.78303742])"
      ]
     },
     "execution_count": 244,
     "metadata": {},
     "output_type": "execute_result"
    }
   ],
   "source": [
    "y_pred = model.predict(X_test)\n",
    "y_pred"
   ]
  },
  {
   "cell_type": "code",
   "execution_count": 245,
   "id": "ff877f54",
   "metadata": {},
   "outputs": [],
   "source": [
    "my_dict = {\"Actual\" : y_test, \"pred\" : y_pred, \"residual\": y_test - y_pred}"
   ]
  },
  {
   "cell_type": "code",
   "execution_count": 246,
   "id": "e14e52e0",
   "metadata": {},
   "outputs": [
    {
     "data": {
      "text/html": [
       "<div>\n",
       "<style scoped>\n",
       "    .dataframe tbody tr th:only-of-type {\n",
       "        vertical-align: middle;\n",
       "    }\n",
       "\n",
       "    .dataframe tbody tr th {\n",
       "        vertical-align: top;\n",
       "    }\n",
       "\n",
       "    .dataframe thead th {\n",
       "        text-align: right;\n",
       "    }\n",
       "</style>\n",
       "<table border=\"1\" class=\"dataframe\">\n",
       "  <thead>\n",
       "    <tr style=\"text-align: right;\">\n",
       "      <th></th>\n",
       "      <th>Actual</th>\n",
       "      <th>pred</th>\n",
       "      <th>residual</th>\n",
       "    </tr>\n",
       "  </thead>\n",
       "  <tbody>\n",
       "    <tr>\n",
       "      <th>6530</th>\n",
       "      <td>205</td>\n",
       "      <td>207.716744</td>\n",
       "      <td>-2.716744</td>\n",
       "    </tr>\n",
       "    <tr>\n",
       "      <th>5475</th>\n",
       "      <td>312</td>\n",
       "      <td>325.757207</td>\n",
       "      <td>-13.757207</td>\n",
       "    </tr>\n",
       "    <tr>\n",
       "      <th>667</th>\n",
       "      <td>239</td>\n",
       "      <td>226.160566</td>\n",
       "      <td>12.839434</td>\n",
       "    </tr>\n",
       "    <tr>\n",
       "      <th>5263</th>\n",
       "      <td>241</td>\n",
       "      <td>244.604389</td>\n",
       "      <td>-3.604389</td>\n",
       "    </tr>\n",
       "    <tr>\n",
       "      <th>4925</th>\n",
       "      <td>301</td>\n",
       "      <td>340.512265</td>\n",
       "      <td>-39.512265</td>\n",
       "    </tr>\n",
       "    <tr>\n",
       "      <th>32</th>\n",
       "      <td>265</td>\n",
       "      <td>281.492034</td>\n",
       "      <td>-16.492034</td>\n",
       "    </tr>\n",
       "    <tr>\n",
       "      <th>2845</th>\n",
       "      <td>318</td>\n",
       "      <td>318.379679</td>\n",
       "      <td>-0.379679</td>\n",
       "    </tr>\n",
       "    <tr>\n",
       "      <th>1678</th>\n",
       "      <td>214</td>\n",
       "      <td>222.471802</td>\n",
       "      <td>-8.471802</td>\n",
       "    </tr>\n",
       "    <tr>\n",
       "      <th>2802</th>\n",
       "      <td>255</td>\n",
       "      <td>222.471802</td>\n",
       "      <td>32.528198</td>\n",
       "    </tr>\n",
       "    <tr>\n",
       "      <th>4844</th>\n",
       "      <td>299</td>\n",
       "      <td>329.445972</td>\n",
       "      <td>-30.445972</td>\n",
       "    </tr>\n",
       "  </tbody>\n",
       "</table>\n",
       "</div>"
      ],
      "text/plain": [
       "      Actual        pred   residual\n",
       "6530     205  207.716744  -2.716744\n",
       "5475     312  325.757207 -13.757207\n",
       "667      239  226.160566  12.839434\n",
       "5263     241  244.604389  -3.604389\n",
       "4925     301  340.512265 -39.512265\n",
       "32       265  281.492034 -16.492034\n",
       "2845     318  318.379679  -0.379679\n",
       "1678     214  222.471802  -8.471802\n",
       "2802     255  222.471802  32.528198\n",
       "4844     299  329.445972 -30.445972"
      ]
     },
     "execution_count": 246,
     "metadata": {},
     "output_type": "execute_result"
    }
   ],
   "source": [
    "comparing = pd.DataFrame(my_dict).sample(10)\n",
    "comparing"
   ]
  },
  {
   "cell_type": "code",
   "execution_count": 247,
   "id": "22e2fbeb",
   "metadata": {},
   "outputs": [
    {
     "data": {
      "image/png": "[encoded data removed]",
      "text/plain": [
       "<Figure size 1500x900 with 1 Axes>"
      ]
     },
     "metadata": {},
     "output_type": "display_data"
    }
   ],
   "source": [
    "comparing.plot(kind = \"bar\", figsize = (15,9))\n",
    "plt.show()"
   ]
  },
  {
   "cell_type": "markdown",
   "id": "73a2294a",
   "metadata": {},
   "source": [
    "## Checking Error Metrics"
   ]
  },
  {
   "cell_type": "code",
   "execution_count": 248,
   "id": "18243f84",
   "metadata": {},
   "outputs": [],
   "source": [
    "from sklearn.metrics import mean_absolute_error, mean_squared_error, r2_score"
   ]
  },
  {
   "cell_type": "code",
   "execution_count": 249,
   "id": "39577865",
   "metadata": {},
   "outputs": [],
   "source": [
    "R2_score = r2_score (y_test, y_pred)\n",
    "mae = mean_absolute_error(y_test, y_pred)\n",
    "mse = mean_squared_error(y_test, y_pred)\n",
    "rmse = np.sqrt(mean_squared_error(y_test, y_pred))"
   ]
  },
  {
   "cell_type": "code",
   "execution_count": 250,
   "id": "4db0d457",
   "metadata": {},
   "outputs": [],
   "source": [
    "target_mean = df[\"CO2 Emissions(g/km)\"].mean()"
   ]
  },
  {
   "cell_type": "code",
   "execution_count": 251,
   "id": "b855ef39",
   "metadata": {},
   "outputs": [
    {
     "data": {
      "text/plain": [
       "0.09429181342985485"
      ]
     },
     "execution_count": 251,
     "metadata": {},
     "output_type": "execute_result"
    }
   ],
   "source": [
    "mae/ target_mean\n",
    "# the more this value gets closer to zero, the better our predictions become"
   ]
  },
  {
   "cell_type": "code",
   "execution_count": 252,
   "id": "bbf56ae6",
   "metadata": {},
   "outputs": [
    {
     "data": {
      "text/plain": [
       "0.12424019789545548"
      ]
     },
     "execution_count": 252,
     "metadata": {},
     "output_type": "execute_result"
    }
   ],
   "source": [
    "rmse/ target_mean\n",
    "# the more this value gets closer to zero, the better our predictions become"
   ]
  },
  {
   "cell_type": "code",
   "execution_count": 253,
   "id": "73fee51a",
   "metadata": {},
   "outputs": [],
   "source": [
    "def eval_metric(actual, pred):\n",
    "    mae = mean_absolute_error(actual, pred)\n",
    "    mse = mean_squared_error(actual, pred)\n",
    "    rmse = np.sqrt(mean_squared_error(actual, pred))\n",
    "    R2_score = r2_score(actual, pred)\n",
    "    print(\"Model testing performance: \")\n",
    "    print(\"---------------------------\")\n",
    "    print(f\"R2_score \\t: {R2_score}\")\n",
    "    print(f\"MAE \\t\\t: {mae}\")\n",
    "    print(f\"MSE \\t\\t: {mse}\")\n",
    "    print(f\"RMSE \\t\\t: {rmse}\")\n",
    "    "
   ]
  },
  {
   "cell_type": "code",
   "execution_count": 254,
   "id": "f506a6e4",
   "metadata": {},
   "outputs": [
    {
     "name": "stdout",
     "output_type": "stream",
     "text": [
      "Model testing performance: \n",
      "---------------------------\n",
      "R2_score \t: 0.7334634385779222\n",
      "MAE \t\t: 23.62808565947998\n",
      "MSE \t\t: 969.2445458954962\n",
      "RMSE \t\t: 31.13269255775183\n"
     ]
    }
   ],
   "source": [
    "eval_metric(y_test, y_pred)"
   ]
  },
  {
   "cell_type": "code",
   "execution_count": 255,
   "id": "85a66850",
   "metadata": {},
   "outputs": [],
   "source": [
    "y_train_pred = model.predict(X_train)"
   ]
  },
  {
   "cell_type": "code",
   "execution_count": 256,
   "id": "28451283",
   "metadata": {},
   "outputs": [
    {
     "name": "stdout",
     "output_type": "stream",
     "text": [
      "Model testing performance: \n",
      "---------------------------\n",
      "R2_score \t: 0.7215099773899243\n",
      "MAE \t\t: 23.20980472432297\n",
      "MSE \t\t: 936.8384792758123\n",
      "RMSE \t\t: 30.6078172902906\n"
     ]
    }
   ],
   "source": [
    "eval_metric(y_train, y_train_pred)"
   ]
  },
  {
   "cell_type": "raw",
   "id": "f7f16cb1",
   "metadata": {},
   "source": [
    "we have seen the underfitting. To be able to overcome underfitting using single linear regression is to increase model complexity.\n",
    "To achieve model complexity we can use:\n",
    "1. Polynomial Features\n",
    "2. Regularization\n",
    "3. Feature Engineering\n",
    "4. Using a different algorithm rather than LR\n",
    "5. Data Scaling \n",
    "6. Outliers detection and potential election\n",
    "7. Cross Validation"
   ]
  },
  {
   "cell_type": "markdown",
   "id": "47fa6691",
   "metadata": {},
   "source": [
    "## Polynomial Features"
   ]
  },
  {
   "cell_type": "code",
   "execution_count": 257,
   "id": "1dc4f70b",
   "metadata": {},
   "outputs": [],
   "source": [
    "from sklearn.pipeline import make_pipeline\n",
    "from sklearn.preprocessing import PolynomialFeatures\n",
    "from sklearn.linear_model import LinearRegression\n",
    "from sklearn.model_selection import cross_val_score"
   ]
  },
  {
   "cell_type": "code",
   "execution_count": 258,
   "id": "6a329d6c",
   "metadata": {},
   "outputs": [],
   "source": [
    "# lets define a function to see what we get as r2 if we use polynomial features and cv working together (through a pipeline)\n",
    "def r2_Poly(X_train, y_train):\n",
    "    degrees_to_try = [1, 2, 3, 4, 5, 6, 7, 8, 9, 10]\n",
    "\n",
    "    # Initialize an empty list to store the results\n",
    "    results = []\n",
    "\n",
    "    # Loop through degrees and perform cross-validation\n",
    "    for degree in degrees_to_try:\n",
    "        model = make_pipeline(PolynomialFeatures(degree), LinearRegression())\n",
    "        scores = cross_val_score(model, X_train, y_train, cv=5, scoring='r2')\n",
    "        \n",
    "        # Append the results for the current degree\n",
    "        results.append((degree, np.mean(scores)))\n",
    "        print(f\"degree={degree}, Mean R2 Score: {np.mean(scores)}\")\n",
    "\n",
    "  "
   ]
  },
  {
   "cell_type": "code",
   "execution_count": 259,
   "id": "3cb24f1c",
   "metadata": {},
   "outputs": [
    {
     "name": "stdout",
     "output_type": "stream",
     "text": [
      "degree=1, Mean R2 Score: 0.7209997623305205\n",
      "degree=2, Mean R2 Score: 0.7265876342427171\n",
      "degree=3, Mean R2 Score: 0.7269519689768537\n",
      "degree=4, Mean R2 Score: 0.7213516802209569\n",
      "degree=5, Mean R2 Score: 0.7177431192217535\n",
      "degree=6, Mean R2 Score: 0.7177030870631871\n",
      "degree=7, Mean R2 Score: 0.7304851577490151\n",
      "degree=8, Mean R2 Score: 0.7306450376484604\n",
      "degree=9, Mean R2 Score: 0.719032220487294\n",
      "degree=10, Mean R2 Score: 0.033761007057065306\n"
     ]
    }
   ],
   "source": [
    "r2_Poly(X_train, y_train)"
   ]
  },
  {
   "cell_type": "markdown",
   "id": "e7ea6f2a",
   "metadata": {},
   "source": [
    "##### polynomial features are generally used in datasets with multiple independent variables, adding higher-degree terms of a single independent variable to help the model capture non-linear relationships. However, in a dataset with only one variable, increasing the polynomial degree usually doesn't significantly improve the model's performance. This is because polynomial terms on a single variable often increase the complexity of the model, leading to an increased risk of overfitting rather than enhancing performance."
   ]
  },
  {
   "cell_type": "code",
   "execution_count": 260,
   "id": "5b3818b8",
   "metadata": {},
   "outputs": [],
   "source": [
    "def poly(d):   # degree derecesi içine ne yazarsam ona göre çözüm oluşturacak\n",
    "    train_rmse_errors = []   # trains rmse değerlerin toplayacak\n",
    "    test_rmse_errors = []    # test rmse değerlerin toplayacak\n",
    "    number_of_features = []  # derece arttıkça feature sayısının kaça çıktığnı göreceğiz\n",
    "    for i in range(1, d):  # 1 den kaçıncı dereceye kadar istiyorsak ona göre yazacağız\n",
    "        polynomial_converter = PolynomialFeatures(degree = i, include_bias =False)\n",
    "        poly_features = polynomial_converter.fit_transform(X)\n",
    "        X_train, X_test, y_train, y_test = train_test_split(poly_features, y, test_size=0.3, random_state=101)\n",
    "        model = LinearRegression(fit_intercept=True)\n",
    "        model.fit(X_train, y_train)\n",
    "        train_pred = model.predict(X_train)\n",
    "        test_pred = model.predict(X_test)\n",
    "        train_RMSE = np.sqrt(mean_squared_error(y_train,train_pred))\n",
    "        test_RMSE = np.sqrt(mean_squared_error(y_test,test_pred))\n",
    "        train_rmse_errors.append(train_RMSE)\n",
    "        test_rmse_errors.append(test_RMSE)\n",
    "        number_of_features.append(poly_features.shape[1])\n",
    "    return pd.DataFrame({\"train_rmse_errors\": train_rmse_errors, \"test_rmse_errors\":test_rmse_errors, \"number of features\":number_of_features},\n",
    "                        index=range(1,d))"
   ]
  },
  {
   "cell_type": "code",
   "execution_count": 261,
   "id": "5e6f1225",
   "metadata": {},
   "outputs": [
    {
     "data": {
      "text/html": [
       "<div>\n",
       "<style scoped>\n",
       "    .dataframe tbody tr th:only-of-type {\n",
       "        vertical-align: middle;\n",
       "    }\n",
       "\n",
       "    .dataframe tbody tr th {\n",
       "        vertical-align: top;\n",
       "    }\n",
       "\n",
       "    .dataframe thead th {\n",
       "        text-align: right;\n",
       "    }\n",
       "</style>\n",
       "<table border=\"1\" class=\"dataframe\">\n",
       "  <thead>\n",
       "    <tr style=\"text-align: right;\">\n",
       "      <th></th>\n",
       "      <th>train_rmse_errors</th>\n",
       "      <th>test_rmse_errors</th>\n",
       "      <th>number of features</th>\n",
       "    </tr>\n",
       "  </thead>\n",
       "  <tbody>\n",
       "    <tr>\n",
       "      <th>1</th>\n",
       "      <td>31.138608</td>\n",
       "      <td>29.700154</td>\n",
       "      <td>1</td>\n",
       "    </tr>\n",
       "    <tr>\n",
       "      <th>2</th>\n",
       "      <td>30.845854</td>\n",
       "      <td>29.264198</td>\n",
       "      <td>2</td>\n",
       "    </tr>\n",
       "    <tr>\n",
       "      <th>3</th>\n",
       "      <td>30.779317</td>\n",
       "      <td>29.228791</td>\n",
       "      <td>3</td>\n",
       "    </tr>\n",
       "    <tr>\n",
       "      <th>4</th>\n",
       "      <td>30.765844</td>\n",
       "      <td>29.267251</td>\n",
       "      <td>4</td>\n",
       "    </tr>\n",
       "    <tr>\n",
       "      <th>5</th>\n",
       "      <td>30.737148</td>\n",
       "      <td>29.221933</td>\n",
       "      <td>5</td>\n",
       "    </tr>\n",
       "    <tr>\n",
       "      <th>6</th>\n",
       "      <td>30.643937</td>\n",
       "      <td>29.223244</td>\n",
       "      <td>6</td>\n",
       "    </tr>\n",
       "    <tr>\n",
       "      <th>7</th>\n",
       "      <td>30.452786</td>\n",
       "      <td>29.156160</td>\n",
       "      <td>7</td>\n",
       "    </tr>\n",
       "    <tr>\n",
       "      <th>8</th>\n",
       "      <td>30.449917</td>\n",
       "      <td>29.148114</td>\n",
       "      <td>8</td>\n",
       "    </tr>\n",
       "    <tr>\n",
       "      <th>9</th>\n",
       "      <td>30.435627</td>\n",
       "      <td>29.145331</td>\n",
       "      <td>9</td>\n",
       "    </tr>\n",
       "  </tbody>\n",
       "</table>\n",
       "</div>"
      ],
      "text/plain": [
       "   train_rmse_errors  test_rmse_errors  number of features\n",
       "1          31.138608         29.700154                   1\n",
       "2          30.845854         29.264198                   2\n",
       "3          30.779317         29.228791                   3\n",
       "4          30.765844         29.267251                   4\n",
       "5          30.737148         29.221933                   5\n",
       "6          30.643937         29.223244                   6\n",
       "7          30.452786         29.156160                   7\n",
       "8          30.449917         29.148114                   8\n",
       "9          30.435627         29.145331                   9"
      ]
     },
     "execution_count": 261,
     "metadata": {},
     "output_type": "execute_result"
    }
   ],
   "source": [
    "poly(10)"
   ]
  },
  {
   "cell_type": "code",
   "execution_count": 262,
   "id": "06a85f08",
   "metadata": {},
   "outputs": [],
   "source": [
    "# as we can see above, since there is only one feature we have, PolynomialFeatures did not work properly. Since we can not add\n",
    "# more features exponentially, it did not significantly affect our error metrics. At this point, I will move into\n",
    "# MultiLinear Regression model to be able to have better predictions"
   ]
  },
  {
   "cell_type": "markdown",
   "id": "a2e063f6",
   "metadata": {},
   "source": [
    "## MultiLinear Regression"
   ]
  },
  {
   "cell_type": "code",
   "execution_count": 263,
   "id": "aba3c998",
   "metadata": {},
   "outputs": [],
   "source": [
    "df = pd.read_csv(\"co2.csv\")"
   ]
  },
  {
   "cell_type": "code",
   "execution_count": 264,
   "id": "6ffd6a82",
   "metadata": {},
   "outputs": [
    {
     "data": {
      "text/html": [
       "<div>\n",
       "<style scoped>\n",
       "    .dataframe tbody tr th:only-of-type {\n",
       "        vertical-align: middle;\n",
       "    }\n",
       "\n",
       "    .dataframe tbody tr th {\n",
       "        vertical-align: top;\n",
       "    }\n",
       "\n",
       "    .dataframe thead th {\n",
       "        text-align: right;\n",
       "    }\n",
       "</style>\n",
       "<table border=\"1\" class=\"dataframe\">\n",
       "  <thead>\n",
       "    <tr style=\"text-align: right;\">\n",
       "      <th></th>\n",
       "      <th>Make</th>\n",
       "      <th>Model</th>\n",
       "      <th>Vehicle Class</th>\n",
       "      <th>Engine Size(L)</th>\n",
       "      <th>Cylinders</th>\n",
       "      <th>Transmission</th>\n",
       "      <th>Fuel Type</th>\n",
       "      <th>Fuel Consumption City (L/100 km)</th>\n",
       "      <th>Fuel Consumption Hwy (L/100 km)</th>\n",
       "      <th>Fuel Consumption Comb (L/100 km)</th>\n",
       "      <th>Fuel Consumption Comb (mpg)</th>\n",
       "      <th>CO2 Emissions(g/km)</th>\n",
       "    </tr>\n",
       "  </thead>\n",
       "  <tbody>\n",
       "    <tr>\n",
       "      <th>0</th>\n",
       "      <td>ACURA</td>\n",
       "      <td>ILX</td>\n",
       "      <td>COMPACT</td>\n",
       "      <td>2.0</td>\n",
       "      <td>4</td>\n",
       "      <td>AS5</td>\n",
       "      <td>Z</td>\n",
       "      <td>9.9</td>\n",
       "      <td>6.7</td>\n",
       "      <td>8.5</td>\n",
       "      <td>33</td>\n",
       "      <td>196</td>\n",
       "    </tr>\n",
       "    <tr>\n",
       "      <th>1</th>\n",
       "      <td>ACURA</td>\n",
       "      <td>ILX</td>\n",
       "      <td>COMPACT</td>\n",
       "      <td>2.4</td>\n",
       "      <td>4</td>\n",
       "      <td>M6</td>\n",
       "      <td>Z</td>\n",
       "      <td>11.2</td>\n",
       "      <td>7.7</td>\n",
       "      <td>9.6</td>\n",
       "      <td>29</td>\n",
       "      <td>221</td>\n",
       "    </tr>\n",
       "    <tr>\n",
       "      <th>2</th>\n",
       "      <td>ACURA</td>\n",
       "      <td>ILX HYBRID</td>\n",
       "      <td>COMPACT</td>\n",
       "      <td>1.5</td>\n",
       "      <td>4</td>\n",
       "      <td>AV7</td>\n",
       "      <td>Z</td>\n",
       "      <td>6.0</td>\n",
       "      <td>5.8</td>\n",
       "      <td>5.9</td>\n",
       "      <td>48</td>\n",
       "      <td>136</td>\n",
       "    </tr>\n",
       "    <tr>\n",
       "      <th>3</th>\n",
       "      <td>ACURA</td>\n",
       "      <td>MDX 4WD</td>\n",
       "      <td>SUV - SMALL</td>\n",
       "      <td>3.5</td>\n",
       "      <td>6</td>\n",
       "      <td>AS6</td>\n",
       "      <td>Z</td>\n",
       "      <td>12.7</td>\n",
       "      <td>9.1</td>\n",
       "      <td>11.1</td>\n",
       "      <td>25</td>\n",
       "      <td>255</td>\n",
       "    </tr>\n",
       "    <tr>\n",
       "      <th>4</th>\n",
       "      <td>ACURA</td>\n",
       "      <td>RDX AWD</td>\n",
       "      <td>SUV - SMALL</td>\n",
       "      <td>3.5</td>\n",
       "      <td>6</td>\n",
       "      <td>AS6</td>\n",
       "      <td>Z</td>\n",
       "      <td>12.1</td>\n",
       "      <td>8.7</td>\n",
       "      <td>10.6</td>\n",
       "      <td>27</td>\n",
       "      <td>244</td>\n",
       "    </tr>\n",
       "  </tbody>\n",
       "</table>\n",
       "</div>"
      ],
      "text/plain": [
       "    Make       Model Vehicle Class  Engine Size(L)  Cylinders Transmission  \\\n",
       "0  ACURA         ILX       COMPACT             2.0          4          AS5   \n",
       "1  ACURA         ILX       COMPACT             2.4          4           M6   \n",
       "2  ACURA  ILX HYBRID       COMPACT             1.5          4          AV7   \n",
       "3  ACURA     MDX 4WD   SUV - SMALL             3.5          6          AS6   \n",
       "4  ACURA     RDX AWD   SUV - SMALL             3.5          6          AS6   \n",
       "\n",
       "  Fuel Type  Fuel Consumption City (L/100 km)  \\\n",
       "0         Z                               9.9   \n",
       "1         Z                              11.2   \n",
       "2         Z                               6.0   \n",
       "3         Z                              12.7   \n",
       "4         Z                              12.1   \n",
       "\n",
       "   Fuel Consumption Hwy (L/100 km)  Fuel Consumption Comb (L/100 km)  \\\n",
       "0                              6.7                               8.5   \n",
       "1                              7.7                               9.6   \n",
       "2                              5.8                               5.9   \n",
       "3                              9.1                              11.1   \n",
       "4                              8.7                              10.6   \n",
       "\n",
       "   Fuel Consumption Comb (mpg)  CO2 Emissions(g/km)  \n",
       "0                           33                  196  \n",
       "1                           29                  221  \n",
       "2                           48                  136  \n",
       "3                           25                  255  \n",
       "4                           27                  244  "
      ]
     },
     "execution_count": 264,
     "metadata": {},
     "output_type": "execute_result"
    }
   ],
   "source": [
    "df.head()"
   ]
  },
  {
   "cell_type": "code",
   "execution_count": 265,
   "id": "41ea4ed0",
   "metadata": {},
   "outputs": [
    {
     "data": {
      "text/plain": [
       "Index(['Make', 'Model', 'Vehicle Class', 'Engine Size(L)', 'Cylinders',\n",
       "       'Transmission', 'Fuel Type', 'Fuel Consumption City (L/100 km)',\n",
       "       'Fuel Consumption Hwy (L/100 km)', 'Fuel Consumption Comb (L/100 km)',\n",
       "       'Fuel Consumption Comb (mpg)', 'CO2 Emissions(g/km)'],\n",
       "      dtype='object')"
      ]
     },
     "execution_count": 265,
     "metadata": {},
     "output_type": "execute_result"
    }
   ],
   "source": [
    "df.columns"
   ]
  },
  {
   "cell_type": "code",
   "execution_count": 266,
   "id": "736611b3",
   "metadata": {},
   "outputs": [],
   "source": [
    "df = df[[\"Engine Size(L)\",\n",
    "        \"Fuel Consumption City (L/100 km)\",\n",
    "        \"Fuel Consumption Hwy (L/100 km)\", \n",
    "        \"Fuel Consumption Comb (L/100 km)\", \n",
    "        \"CO2 Emissions(g/km)\"]]"
   ]
  },
  {
   "cell_type": "code",
   "execution_count": 267,
   "id": "34a72220",
   "metadata": {
    "scrolled": true
   },
   "outputs": [
    {
     "data": {
      "text/html": [
       "<div>\n",
       "<style scoped>\n",
       "    .dataframe tbody tr th:only-of-type {\n",
       "        vertical-align: middle;\n",
       "    }\n",
       "\n",
       "    .dataframe tbody tr th {\n",
       "        vertical-align: top;\n",
       "    }\n",
       "\n",
       "    .dataframe thead th {\n",
       "        text-align: right;\n",
       "    }\n",
       "</style>\n",
       "<table border=\"1\" class=\"dataframe\">\n",
       "  <thead>\n",
       "    <tr style=\"text-align: right;\">\n",
       "      <th></th>\n",
       "      <th>Engine Size(L)</th>\n",
       "      <th>Fuel Consumption City (L/100 km)</th>\n",
       "      <th>Fuel Consumption Hwy (L/100 km)</th>\n",
       "      <th>Fuel Consumption Comb (L/100 km)</th>\n",
       "      <th>CO2 Emissions(g/km)</th>\n",
       "    </tr>\n",
       "  </thead>\n",
       "  <tbody>\n",
       "    <tr>\n",
       "      <th>0</th>\n",
       "      <td>2.0</td>\n",
       "      <td>9.9</td>\n",
       "      <td>6.7</td>\n",
       "      <td>8.5</td>\n",
       "      <td>196</td>\n",
       "    </tr>\n",
       "    <tr>\n",
       "      <th>1</th>\n",
       "      <td>2.4</td>\n",
       "      <td>11.2</td>\n",
       "      <td>7.7</td>\n",
       "      <td>9.6</td>\n",
       "      <td>221</td>\n",
       "    </tr>\n",
       "    <tr>\n",
       "      <th>2</th>\n",
       "      <td>1.5</td>\n",
       "      <td>6.0</td>\n",
       "      <td>5.8</td>\n",
       "      <td>5.9</td>\n",
       "      <td>136</td>\n",
       "    </tr>\n",
       "    <tr>\n",
       "      <th>3</th>\n",
       "      <td>3.5</td>\n",
       "      <td>12.7</td>\n",
       "      <td>9.1</td>\n",
       "      <td>11.1</td>\n",
       "      <td>255</td>\n",
       "    </tr>\n",
       "    <tr>\n",
       "      <th>4</th>\n",
       "      <td>3.5</td>\n",
       "      <td>12.1</td>\n",
       "      <td>8.7</td>\n",
       "      <td>10.6</td>\n",
       "      <td>244</td>\n",
       "    </tr>\n",
       "  </tbody>\n",
       "</table>\n",
       "</div>"
      ],
      "text/plain": [
       "   Engine Size(L)  Fuel Consumption City (L/100 km)  \\\n",
       "0             2.0                               9.9   \n",
       "1             2.4                              11.2   \n",
       "2             1.5                               6.0   \n",
       "3             3.5                              12.7   \n",
       "4             3.5                              12.1   \n",
       "\n",
       "   Fuel Consumption Hwy (L/100 km)  Fuel Consumption Comb (L/100 km)  \\\n",
       "0                              6.7                               8.5   \n",
       "1                              7.7                               9.6   \n",
       "2                              5.8                               5.9   \n",
       "3                              9.1                              11.1   \n",
       "4                              8.7                              10.6   \n",
       "\n",
       "   CO2 Emissions(g/km)  \n",
       "0                  196  \n",
       "1                  221  \n",
       "2                  136  \n",
       "3                  255  \n",
       "4                  244  "
      ]
     },
     "execution_count": 267,
     "metadata": {},
     "output_type": "execute_result"
    }
   ],
   "source": [
    "df.head()"
   ]
  },
  {
   "cell_type": "code",
   "execution_count": 271,
   "id": "4422f9a5",
   "metadata": {},
   "outputs": [
    {
     "data": {
      "text/plain": [
       "<AxesSubplot:>"
      ]
     },
     "execution_count": 271,
     "metadata": {},
     "output_type": "execute_result"
    },
    {
     "data": {
      "image/png": "[encoded data removed]",
      "text/plain": [
       "<Figure size 1000x600 with 2 Axes>"
      ]
     },
     "metadata": {},
     "output_type": "display_data"
    }
   ],
   "source": [
    "sns.heatmap(df.corr(), annot = True)"
   ]
  },
  {
   "cell_type": "code",
   "execution_count": 278,
   "id": "6aac51df",
   "metadata": {},
   "outputs": [],
   "source": [
    "X = df.drop(\"CO2 Emissions(g/km)\", axis =1)\n",
    "y = df[\"CO2 Emissions(g/km)\"] "
   ]
  },
  {
   "cell_type": "code",
   "execution_count": 279,
   "id": "186bd8f1",
   "metadata": {},
   "outputs": [
    {
     "name": "stdout",
     "output_type": "stream",
     "text": [
      "      Engine Size(L)  Fuel Consumption City (L/100 km)  \\\n",
      "0                2.0                               9.9   \n",
      "1                2.4                              11.2   \n",
      "2                1.5                               6.0   \n",
      "3                3.5                              12.7   \n",
      "4                3.5                              12.1   \n",
      "...              ...                               ...   \n",
      "7380             2.0                              10.7   \n",
      "7381             2.0                              11.2   \n",
      "7382             2.0                              11.7   \n",
      "7383             2.0                              11.2   \n",
      "7384             2.0                              12.2   \n",
      "\n",
      "      Fuel Consumption Hwy (L/100 km)  Fuel Consumption Comb (L/100 km)  \n",
      "0                                 6.7                               8.5  \n",
      "1                                 7.7                               9.6  \n",
      "2                                 5.8                               5.9  \n",
      "3                                 9.1                              11.1  \n",
      "4                                 8.7                              10.6  \n",
      "...                               ...                               ...  \n",
      "7380                              7.7                               9.4  \n",
      "7381                              8.3                               9.9  \n",
      "7382                              8.6                              10.3  \n",
      "7383                              8.3                               9.9  \n",
      "7384                              8.7                              10.7  \n",
      "\n",
      "[7385 rows x 4 columns] 0       196\n",
      "1       221\n",
      "2       136\n",
      "3       255\n",
      "4       244\n",
      "       ... \n",
      "7380    219\n",
      "7381    232\n",
      "7382    240\n",
      "7383    232\n",
      "7384    248\n",
      "Name: CO2 Emissions(g/km), Length: 7385, dtype: int64\n"
     ]
    }
   ],
   "source": [
    "print(X,y)"
   ]
  },
  {
   "cell_type": "markdown",
   "id": "8216b3cf",
   "metadata": {},
   "source": [
    "## Model Fitting"
   ]
  },
  {
   "cell_type": "code",
   "execution_count": 280,
   "id": "8d378d0c",
   "metadata": {},
   "outputs": [],
   "source": [
    "# we will build our model according to default values. We have already done EDA above and already know there is multicolinearity,\n",
    "# but first we want to see our default metrics\n",
    "\n",
    "from sklearn.model_selection import train_test_split\n",
    "\n",
    "X_train, X_test, y_train, y_test = train_test_split(X, y, test_size = 0.2)"
   ]
  },
  {
   "cell_type": "code",
   "execution_count": 281,
   "id": "7b4943a5",
   "metadata": {},
   "outputs": [
    {
     "data": {
      "text/html": [
       "<style>#sk-container-id-14 {color: black;background-color: white;}#sk-container-id-14 pre{padding: 0;}#sk-container-id-14 div.sk-toggleable {background-color: white;}#sk-container-id-14 label.sk-toggleable__label {cursor: pointer;display: block;width: 100%;margin-bottom: 0;padding: 0.3em;box-sizing: border-box;text-align: center;}#sk-container-id-14 label.sk-toggleable__label-arrow:before {content: \"▸\";float: left;margin-right: 0.25em;color: #696969;}#sk-container-id-14 label.sk-toggleable__label-arrow:hover:before {color: black;}#sk-container-id-14 div.sk-estimator:hover label.sk-toggleable__label-arrow:before {color: black;}#sk-container-id-14 div.sk-toggleable__content {max-height: 0;max-width: 0;overflow: hidden;text-align: left;background-color: #f0f8ff;}#sk-container-id-14 div.sk-toggleable__content pre {margin: 0.2em;color: black;border-radius: 0.25em;background-color: #f0f8ff;}#sk-container-id-14 input.sk-toggleable__control:checked~div.sk-toggleable__content {max-height: 200px;max-width: 100%;overflow: auto;}#sk-container-id-14 input.sk-toggleable__control:checked~label.sk-toggleable__label-arrow:before {content: \"▾\";}#sk-container-id-14 div.sk-estimator input.sk-toggleable__control:checked~label.sk-toggleable__label {background-color: #d4ebff;}#sk-container-id-14 div.sk-label input.sk-toggleable__control:checked~label.sk-toggleable__label {background-color: #d4ebff;}#sk-container-id-14 input.sk-hidden--visually {border: 0;clip: rect(1px 1px 1px 1px);clip: rect(1px, 1px, 1px, 1px);height: 1px;margin: -1px;overflow: hidden;padding: 0;position: absolute;width: 1px;}#sk-container-id-14 div.sk-estimator {font-family: monospace;background-color: #f0f8ff;border: 1px dotted black;border-radius: 0.25em;box-sizing: border-box;margin-bottom: 0.5em;}#sk-container-id-14 div.sk-estimator:hover {background-color: #d4ebff;}#sk-container-id-14 div.sk-parallel-item::after {content: \"\";width: 100%;border-bottom: 1px solid gray;flex-grow: 1;}#sk-container-id-14 div.sk-label:hover label.sk-toggleable__label {background-color: #d4ebff;}#sk-container-id-14 div.sk-serial::before {content: \"\";position: absolute;border-left: 1px solid gray;box-sizing: border-box;top: 0;bottom: 0;left: 50%;z-index: 0;}#sk-container-id-14 div.sk-serial {display: flex;flex-direction: column;align-items: center;background-color: white;padding-right: 0.2em;padding-left: 0.2em;position: relative;}#sk-container-id-14 div.sk-item {position: relative;z-index: 1;}#sk-container-id-14 div.sk-parallel {display: flex;align-items: stretch;justify-content: center;background-color: white;position: relative;}#sk-container-id-14 div.sk-item::before, #sk-container-id-14 div.sk-parallel-item::before {content: \"\";position: absolute;border-left: 1px solid gray;box-sizing: border-box;top: 0;bottom: 0;left: 50%;z-index: -1;}#sk-container-id-14 div.sk-parallel-item {display: flex;flex-direction: column;z-index: 1;position: relative;background-color: white;}#sk-container-id-14 div.sk-parallel-item:first-child::after {align-self: flex-end;width: 50%;}#sk-container-id-14 div.sk-parallel-item:last-child::after {align-self: flex-start;width: 50%;}#sk-container-id-14 div.sk-parallel-item:only-child::after {width: 0;}#sk-container-id-14 div.sk-dashed-wrapped {border: 1px dashed gray;margin: 0 0.4em 0.5em 0.4em;box-sizing: border-box;padding-bottom: 0.4em;background-color: white;}#sk-container-id-14 div.sk-label label {font-family: monospace;font-weight: bold;display: inline-block;line-height: 1.2em;}#sk-container-id-14 div.sk-label-container {text-align: center;}#sk-container-id-14 div.sk-container {/* jupyter's `normalize.less` sets `[hidden] { display: none; }` but bootstrap.min.css set `[hidden] { display: none !important; }` so we also need the `!important` here to be able to override the default hidden behavior on the sphinx rendered scikit-learn.org. See: https://github.com/scikit-learn/scikit-learn/issues/21755 */display: inline-block !important;position: relative;}#sk-container-id-14 div.sk-text-repr-fallback {display: none;}</style><div id=\"sk-container-id-14\" class=\"sk-top-container\"><div class=\"sk-text-repr-fallback\"><pre>LinearRegression()</pre><b>In a Jupyter environment, please rerun this cell to show the HTML representation or trust the notebook. <br />On GitHub, the HTML representation is unable to render, please try loading this page with nbviewer.org.</b></div><div class=\"sk-container\" hidden><div class=\"sk-item\"><div class=\"sk-estimator sk-toggleable\"><input class=\"sk-toggleable__control sk-hidden--visually\" id=\"sk-estimator-id-14\" type=\"checkbox\" checked><label for=\"sk-estimator-id-14\" class=\"sk-toggleable__label sk-toggleable__label-arrow\">LinearRegression</label><div class=\"sk-toggleable__content\"><pre>LinearRegression()</pre></div></div></div></div></div>"
      ],
      "text/plain": [
       "LinearRegression()"
      ]
     },
     "execution_count": 281,
     "metadata": {},
     "output_type": "execute_result"
    }
   ],
   "source": [
    "from sklearn.linear_model import LinearRegression\n",
    "\n",
    "model = LinearRegression()\n",
    "\n",
    "model.fit(X_train, y_train)"
   ]
  },
  {
   "cell_type": "code",
   "execution_count": 282,
   "id": "b1f02597",
   "metadata": {},
   "outputs": [],
   "source": [
    "y_pred = model.predict(X_test)"
   ]
  },
  {
   "cell_type": "code",
   "execution_count": 283,
   "id": "c76ffc71",
   "metadata": {},
   "outputs": [],
   "source": [
    "y_train_pred = model.predict(X_train)"
   ]
  },
  {
   "cell_type": "code",
   "execution_count": 284,
   "id": "901805bc",
   "metadata": {},
   "outputs": [
    {
     "name": "stdout",
     "output_type": "stream",
     "text": [
      "Model testing performance: \n",
      "---------------------------\n",
      "R2_score \t: 0.8809114920479975\n",
      "MAE \t\t: 12.554882656656083\n",
      "MSE \t\t: 382.0807710064382\n",
      "RMSE \t\t: 19.546886478578582\n"
     ]
    }
   ],
   "source": [
    "eval_metric(y_test, y_pred)"
   ]
  },
  {
   "cell_type": "code",
   "execution_count": 285,
   "id": "c8536dc4",
   "metadata": {
    "scrolled": true
   },
   "outputs": [
    {
     "name": "stdout",
     "output_type": "stream",
     "text": [
      "Model testing performance: \n",
      "---------------------------\n",
      "R2_score \t: 0.8720137721209096\n",
      "MAE \t\t: 13.705715361201515\n",
      "MSE \t\t: 445.007126668622\n",
      "RMSE \t\t: 21.095192027299063\n"
     ]
    }
   ],
   "source": [
    "eval_metric(y_train, y_train_pred)"
   ]
  },
  {
   "cell_type": "code",
   "execution_count": 211,
   "id": "d2ceab22",
   "metadata": {},
   "outputs": [],
   "source": [
    "## it looks like there is no overfitting, but our R2 score is low.(underfitting) lets improve this"
   ]
  },
  {
   "cell_type": "code",
   "execution_count": 286,
   "id": "201f6996",
   "metadata": {},
   "outputs": [
    {
     "data": {
      "text/html": [
       "<div>\n",
       "<style scoped>\n",
       "    .dataframe tbody tr th:only-of-type {\n",
       "        vertical-align: middle;\n",
       "    }\n",
       "\n",
       "    .dataframe tbody tr th {\n",
       "        vertical-align: top;\n",
       "    }\n",
       "\n",
       "    .dataframe thead th {\n",
       "        text-align: right;\n",
       "    }\n",
       "</style>\n",
       "<table border=\"1\" class=\"dataframe\">\n",
       "  <thead>\n",
       "    <tr style=\"text-align: right;\">\n",
       "      <th></th>\n",
       "      <th>train_rmse_errors</th>\n",
       "      <th>test_rmse_errors</th>\n",
       "      <th>number of features</th>\n",
       "    </tr>\n",
       "  </thead>\n",
       "  <tbody>\n",
       "    <tr>\n",
       "      <th>1</th>\n",
       "      <td>20.855262</td>\n",
       "      <td>20.665769</td>\n",
       "      <td>4</td>\n",
       "    </tr>\n",
       "    <tr>\n",
       "      <th>2</th>\n",
       "      <td>16.661711</td>\n",
       "      <td>16.560362</td>\n",
       "      <td>14</td>\n",
       "    </tr>\n",
       "    <tr>\n",
       "      <th>3</th>\n",
       "      <td>15.820798</td>\n",
       "      <td>15.626022</td>\n",
       "      <td>34</td>\n",
       "    </tr>\n",
       "    <tr>\n",
       "      <th>4</th>\n",
       "      <td>14.199758</td>\n",
       "      <td>14.116195</td>\n",
       "      <td>69</td>\n",
       "    </tr>\n",
       "    <tr>\n",
       "      <th>5</th>\n",
       "      <td>13.517681</td>\n",
       "      <td>15.299602</td>\n",
       "      <td>125</td>\n",
       "    </tr>\n",
       "    <tr>\n",
       "      <th>6</th>\n",
       "      <td>12.263047</td>\n",
       "      <td>29.059171</td>\n",
       "      <td>209</td>\n",
       "    </tr>\n",
       "    <tr>\n",
       "      <th>7</th>\n",
       "      <td>11.063917</td>\n",
       "      <td>111.313483</td>\n",
       "      <td>329</td>\n",
       "    </tr>\n",
       "    <tr>\n",
       "      <th>8</th>\n",
       "      <td>11.101389</td>\n",
       "      <td>161.806051</td>\n",
       "      <td>494</td>\n",
       "    </tr>\n",
       "    <tr>\n",
       "      <th>9</th>\n",
       "      <td>15.032857</td>\n",
       "      <td>139.131723</td>\n",
       "      <td>714</td>\n",
       "    </tr>\n",
       "  </tbody>\n",
       "</table>\n",
       "</div>"
      ],
      "text/plain": [
       "   train_rmse_errors  test_rmse_errors  number of features\n",
       "1          20.855262         20.665769                   4\n",
       "2          16.661711         16.560362                  14\n",
       "3          15.820798         15.626022                  34\n",
       "4          14.199758         14.116195                  69\n",
       "5          13.517681         15.299602                 125\n",
       "6          12.263047         29.059171                 209\n",
       "7          11.063917        111.313483                 329\n",
       "8          11.101389        161.806051                 494\n",
       "9          15.032857        139.131723                 714"
      ]
     },
     "execution_count": 286,
     "metadata": {},
     "output_type": "execute_result"
    }
   ],
   "source": [
    "poly(10)"
   ]
  },
  {
   "cell_type": "code",
   "execution_count": 287,
   "id": "336a124f",
   "metadata": {
    "scrolled": false
   },
   "outputs": [
    {
     "name": "stdout",
     "output_type": "stream",
     "text": [
      "degree=1, Mean R2 Score: 0.8710329707510687\n",
      "degree=2, Mean R2 Score: 0.914781204797591\n",
      "degree=3, Mean R2 Score: 0.9235805997242235\n",
      "degree=4, Mean R2 Score: 0.9361731809418231\n",
      "degree=5, Mean R2 Score: 0.9134119297390522\n",
      "degree=6, Mean R2 Score: 0.7876518677555265\n",
      "degree=7, Mean R2 Score: -0.036834400567351745\n",
      "degree=8, Mean R2 Score: -30.964196654788758\n",
      "degree=9, Mean R2 Score: -51.44978130794076\n",
      "degree=10, Mean R2 Score: -522.9021580283909\n"
     ]
    }
   ],
   "source": [
    "r2_Poly(X_train, y_train)"
   ]
  },
  {
   "cell_type": "code",
   "execution_count": 288,
   "id": "287426ff",
   "metadata": {},
   "outputs": [
    {
     "data": {
      "image/png": "[encoded data removed]",
      "text/plain": [
       "<Figure size 1000x600 with 1 Axes>"
      ]
     },
     "metadata": {},
     "output_type": "display_data"
    }
   ],
   "source": [
    "# visualizing \n",
    "plt.plot(range(1,10), poly(10)[\"train_rmse_errors\"], label = \"TRAIN\")\n",
    "plt.plot(range(1,10), poly(10)[\"test_rmse_errors\"], label = \"TEST\")\n",
    "plt.xlabel(\"Polynamial Complex\")\n",
    "plt.ylabel(\"RMSE\")\n",
    "plt.legend();\n",
    "plt.show()"
   ]
  },
  {
   "cell_type": "code",
   "execution_count": 289,
   "id": "02d8b760",
   "metadata": {},
   "outputs": [
    {
     "data": {
      "image/png": "[encoded data removed]",
      "text/plain": [
       "<Figure size 1000x600 with 1 Axes>"
      ]
     },
     "metadata": {},
     "output_type": "display_data"
    }
   ],
   "source": [
    "plt.plot(range(1,6), poly(6)[\"train_rmse_errors\"], label = \"TRAIN\")\n",
    "plt.plot(range(1,6), poly(6)[\"test_rmse_errors\"], label = \"TEST\")\n",
    "plt.xlabel(\"Polynamial Complex\")\n",
    "plt.ylabel(\"RMSE\")\n",
    "plt.legend();\n",
    "plt.show()"
   ]
  },
  {
   "cell_type": "code",
   "execution_count": 217,
   "id": "77e3920b",
   "metadata": {},
   "outputs": [],
   "source": [
    "# 4th degree looks well, so we can re-build our model accordingly"
   ]
  },
  {
   "cell_type": "code",
   "execution_count": 290,
   "id": "cf4fc9f9",
   "metadata": {
    "scrolled": true
   },
   "outputs": [],
   "source": [
    "poly_converter = PolynomialFeatures(degree= 4, include_bias = False)\n",
    "poly_features = poly_converter.fit_transform(X)"
   ]
  },
  {
   "cell_type": "code",
   "execution_count": 296,
   "id": "9c6eebe6",
   "metadata": {},
   "outputs": [
    {
     "data": {
      "text/plain": [
       "(7385, 69)"
      ]
     },
     "execution_count": 296,
     "metadata": {},
     "output_type": "execute_result"
    }
   ],
   "source": [
    "poly_features.shape # we have 69 features now"
   ]
  },
  {
   "cell_type": "code",
   "execution_count": 298,
   "id": "56c9de53",
   "metadata": {},
   "outputs": [],
   "source": [
    "from sklearn.model_selection import train_test_split\n",
    "X_train, X_test, y_train, y_test = train_test_split(poly_features, y, test_size = 0.2)"
   ]
  },
  {
   "cell_type": "markdown",
   "id": "5717f8b0",
   "metadata": {},
   "source": [
    "###  As the degree of the polynomial increases, the model may become too complex and fit the noise in the data, leading to overfitting. Try to identify the point where the R2 scores start becoming negative, as this is an indication of overfittin"
   ]
  },
  {
   "cell_type": "markdown",
   "id": "b560e933",
   "metadata": {},
   "source": [
    "## Data Scaling"
   ]
  },
  {
   "cell_type": "code",
   "execution_count": 294,
   "id": "1d297b0f",
   "metadata": {},
   "outputs": [],
   "source": [
    "from scipy.stats import skew"
   ]
  },
  {
   "cell_type": "code",
   "execution_count": 299,
   "id": "06f2cd47",
   "metadata": {},
   "outputs": [
    {
     "name": "stdout",
     "output_type": "stream",
     "text": [
      "Engine Size(L) 0.8090166237091084\n",
      "Fuel Consumption City (L/100 km) 0.8088403827811873\n",
      "Fuel Consumption Hwy (L/100 km) 1.078997475325438\n",
      "Fuel Consumption Comb (L/100 km) 0.8931342662031229\n",
      "CO2 Emissions(g/km) 0.5259869435378954\n"
     ]
    }
   ],
   "source": [
    "for i in df.columns:\n",
    "    print(i, skew(df[i]))"
   ]
  },
  {
   "cell_type": "code",
   "execution_count": null,
   "id": "c3206297",
   "metadata": {},
   "outputs": [],
   "source": [
    "# -1, +1 arasi skewness normal dagilim olarak kabul edilir\n",
    "# datamiza StandardScaler uygukama karari aldik"
   ]
  },
  {
   "cell_type": "code",
   "execution_count": 305,
   "id": "85708b1e",
   "metadata": {},
   "outputs": [],
   "source": [
    "from sklearn.preprocessing import StandardScaler, MinMaxScaler, RobustScaler\n",
    "scaler = StandardScaler()"
   ]
  },
  {
   "cell_type": "code",
   "execution_count": 306,
   "id": "d1c19fd3",
   "metadata": {},
   "outputs": [
    {
     "data": {
      "text/html": [
       "<style>#sk-container-id-15 {color: black;background-color: white;}#sk-container-id-15 pre{padding: 0;}#sk-container-id-15 div.sk-toggleable {background-color: white;}#sk-container-id-15 label.sk-toggleable__label {cursor: pointer;display: block;width: 100%;margin-bottom: 0;padding: 0.3em;box-sizing: border-box;text-align: center;}#sk-container-id-15 label.sk-toggleable__label-arrow:before {content: \"▸\";float: left;margin-right: 0.25em;color: #696969;}#sk-container-id-15 label.sk-toggleable__label-arrow:hover:before {color: black;}#sk-container-id-15 div.sk-estimator:hover label.sk-toggleable__label-arrow:before {color: black;}#sk-container-id-15 div.sk-toggleable__content {max-height: 0;max-width: 0;overflow: hidden;text-align: left;background-color: #f0f8ff;}#sk-container-id-15 div.sk-toggleable__content pre {margin: 0.2em;color: black;border-radius: 0.25em;background-color: #f0f8ff;}#sk-container-id-15 input.sk-toggleable__control:checked~div.sk-toggleable__content {max-height: 200px;max-width: 100%;overflow: auto;}#sk-container-id-15 input.sk-toggleable__control:checked~label.sk-toggleable__label-arrow:before {content: \"▾\";}#sk-container-id-15 div.sk-estimator input.sk-toggleable__control:checked~label.sk-toggleable__label {background-color: #d4ebff;}#sk-container-id-15 div.sk-label input.sk-toggleable__control:checked~label.sk-toggleable__label {background-color: #d4ebff;}#sk-container-id-15 input.sk-hidden--visually {border: 0;clip: rect(1px 1px 1px 1px);clip: rect(1px, 1px, 1px, 1px);height: 1px;margin: -1px;overflow: hidden;padding: 0;position: absolute;width: 1px;}#sk-container-id-15 div.sk-estimator {font-family: monospace;background-color: #f0f8ff;border: 1px dotted black;border-radius: 0.25em;box-sizing: border-box;margin-bottom: 0.5em;}#sk-container-id-15 div.sk-estimator:hover {background-color: #d4ebff;}#sk-container-id-15 div.sk-parallel-item::after {content: \"\";width: 100%;border-bottom: 1px solid gray;flex-grow: 1;}#sk-container-id-15 div.sk-label:hover label.sk-toggleable__label {background-color: #d4ebff;}#sk-container-id-15 div.sk-serial::before {content: \"\";position: absolute;border-left: 1px solid gray;box-sizing: border-box;top: 0;bottom: 0;left: 50%;z-index: 0;}#sk-container-id-15 div.sk-serial {display: flex;flex-direction: column;align-items: center;background-color: white;padding-right: 0.2em;padding-left: 0.2em;position: relative;}#sk-container-id-15 div.sk-item {position: relative;z-index: 1;}#sk-container-id-15 div.sk-parallel {display: flex;align-items: stretch;justify-content: center;background-color: white;position: relative;}#sk-container-id-15 div.sk-item::before, #sk-container-id-15 div.sk-parallel-item::before {content: \"\";position: absolute;border-left: 1px solid gray;box-sizing: border-box;top: 0;bottom: 0;left: 50%;z-index: -1;}#sk-container-id-15 div.sk-parallel-item {display: flex;flex-direction: column;z-index: 1;position: relative;background-color: white;}#sk-container-id-15 div.sk-parallel-item:first-child::after {align-self: flex-end;width: 50%;}#sk-container-id-15 div.sk-parallel-item:last-child::after {align-self: flex-start;width: 50%;}#sk-container-id-15 div.sk-parallel-item:only-child::after {width: 0;}#sk-container-id-15 div.sk-dashed-wrapped {border: 1px dashed gray;margin: 0 0.4em 0.5em 0.4em;box-sizing: border-box;padding-bottom: 0.4em;background-color: white;}#sk-container-id-15 div.sk-label label {font-family: monospace;font-weight: bold;display: inline-block;line-height: 1.2em;}#sk-container-id-15 div.sk-label-container {text-align: center;}#sk-container-id-15 div.sk-container {/* jupyter's `normalize.less` sets `[hidden] { display: none; }` but bootstrap.min.css set `[hidden] { display: none !important; }` so we also need the `!important` here to be able to override the default hidden behavior on the sphinx rendered scikit-learn.org. See: https://github.com/scikit-learn/scikit-learn/issues/21755 */display: inline-block !important;position: relative;}#sk-container-id-15 div.sk-text-repr-fallback {display: none;}</style><div id=\"sk-container-id-15\" class=\"sk-top-container\"><div class=\"sk-text-repr-fallback\"><pre>StandardScaler()</pre><b>In a Jupyter environment, please rerun this cell to show the HTML representation or trust the notebook. <br />On GitHub, the HTML representation is unable to render, please try loading this page with nbviewer.org.</b></div><div class=\"sk-container\" hidden><div class=\"sk-item\"><div class=\"sk-estimator sk-toggleable\"><input class=\"sk-toggleable__control sk-hidden--visually\" id=\"sk-estimator-id-15\" type=\"checkbox\" checked><label for=\"sk-estimator-id-15\" class=\"sk-toggleable__label sk-toggleable__label-arrow\">StandardScaler</label><div class=\"sk-toggleable__content\"><pre>StandardScaler()</pre></div></div></div></div></div>"
      ],
      "text/plain": [
       "StandardScaler()"
      ]
     },
     "execution_count": 306,
     "metadata": {},
     "output_type": "execute_result"
    }
   ],
   "source": [
    "scaler.fit(X_train)"
   ]
  },
  {
   "cell_type": "code",
   "execution_count": 307,
   "id": "958d571e",
   "metadata": {},
   "outputs": [],
   "source": [
    "X_train_scaled = scaler.transform(X_train)"
   ]
  },
  {
   "cell_type": "code",
   "execution_count": 308,
   "id": "e5a099f9",
   "metadata": {},
   "outputs": [],
   "source": [
    "X_test_scaled = scaler.transform(X_test)\n",
    "# we apply only transform method yo our test data"
   ]
  },
  {
   "cell_type": "code",
   "execution_count": 309,
   "id": "b43166a1",
   "metadata": {},
   "outputs": [],
   "source": [
    "from sklearn.linear_model import LinearRegression\n",
    "scaled_model = LinearRegression()"
   ]
  },
  {
   "cell_type": "code",
   "execution_count": 310,
   "id": "19fc3092",
   "metadata": {},
   "outputs": [
    {
     "data": {
      "text/html": [
       "<style>#sk-container-id-16 {color: black;background-color: white;}#sk-container-id-16 pre{padding: 0;}#sk-container-id-16 div.sk-toggleable {background-color: white;}#sk-container-id-16 label.sk-toggleable__label {cursor: pointer;display: block;width: 100%;margin-bottom: 0;padding: 0.3em;box-sizing: border-box;text-align: center;}#sk-container-id-16 label.sk-toggleable__label-arrow:before {content: \"▸\";float: left;margin-right: 0.25em;color: #696969;}#sk-container-id-16 label.sk-toggleable__label-arrow:hover:before {color: black;}#sk-container-id-16 div.sk-estimator:hover label.sk-toggleable__label-arrow:before {color: black;}#sk-container-id-16 div.sk-toggleable__content {max-height: 0;max-width: 0;overflow: hidden;text-align: left;background-color: #f0f8ff;}#sk-container-id-16 div.sk-toggleable__content pre {margin: 0.2em;color: black;border-radius: 0.25em;background-color: #f0f8ff;}#sk-container-id-16 input.sk-toggleable__control:checked~div.sk-toggleable__content {max-height: 200px;max-width: 100%;overflow: auto;}#sk-container-id-16 input.sk-toggleable__control:checked~label.sk-toggleable__label-arrow:before {content: \"▾\";}#sk-container-id-16 div.sk-estimator input.sk-toggleable__control:checked~label.sk-toggleable__label {background-color: #d4ebff;}#sk-container-id-16 div.sk-label input.sk-toggleable__control:checked~label.sk-toggleable__label {background-color: #d4ebff;}#sk-container-id-16 input.sk-hidden--visually {border: 0;clip: rect(1px 1px 1px 1px);clip: rect(1px, 1px, 1px, 1px);height: 1px;margin: -1px;overflow: hidden;padding: 0;position: absolute;width: 1px;}#sk-container-id-16 div.sk-estimator {font-family: monospace;background-color: #f0f8ff;border: 1px dotted black;border-radius: 0.25em;box-sizing: border-box;margin-bottom: 0.5em;}#sk-container-id-16 div.sk-estimator:hover {background-color: #d4ebff;}#sk-container-id-16 div.sk-parallel-item::after {content: \"\";width: 100%;border-bottom: 1px solid gray;flex-grow: 1;}#sk-container-id-16 div.sk-label:hover label.sk-toggleable__label {background-color: #d4ebff;}#sk-container-id-16 div.sk-serial::before {content: \"\";position: absolute;border-left: 1px solid gray;box-sizing: border-box;top: 0;bottom: 0;left: 50%;z-index: 0;}#sk-container-id-16 div.sk-serial {display: flex;flex-direction: column;align-items: center;background-color: white;padding-right: 0.2em;padding-left: 0.2em;position: relative;}#sk-container-id-16 div.sk-item {position: relative;z-index: 1;}#sk-container-id-16 div.sk-parallel {display: flex;align-items: stretch;justify-content: center;background-color: white;position: relative;}#sk-container-id-16 div.sk-item::before, #sk-container-id-16 div.sk-parallel-item::before {content: \"\";position: absolute;border-left: 1px solid gray;box-sizing: border-box;top: 0;bottom: 0;left: 50%;z-index: -1;}#sk-container-id-16 div.sk-parallel-item {display: flex;flex-direction: column;z-index: 1;position: relative;background-color: white;}#sk-container-id-16 div.sk-parallel-item:first-child::after {align-self: flex-end;width: 50%;}#sk-container-id-16 div.sk-parallel-item:last-child::after {align-self: flex-start;width: 50%;}#sk-container-id-16 div.sk-parallel-item:only-child::after {width: 0;}#sk-container-id-16 div.sk-dashed-wrapped {border: 1px dashed gray;margin: 0 0.4em 0.5em 0.4em;box-sizing: border-box;padding-bottom: 0.4em;background-color: white;}#sk-container-id-16 div.sk-label label {font-family: monospace;font-weight: bold;display: inline-block;line-height: 1.2em;}#sk-container-id-16 div.sk-label-container {text-align: center;}#sk-container-id-16 div.sk-container {/* jupyter's `normalize.less` sets `[hidden] { display: none; }` but bootstrap.min.css set `[hidden] { display: none !important; }` so we also need the `!important` here to be able to override the default hidden behavior on the sphinx rendered scikit-learn.org. See: https://github.com/scikit-learn/scikit-learn/issues/21755 */display: inline-block !important;position: relative;}#sk-container-id-16 div.sk-text-repr-fallback {display: none;}</style><div id=\"sk-container-id-16\" class=\"sk-top-container\"><div class=\"sk-text-repr-fallback\"><pre>LinearRegression()</pre><b>In a Jupyter environment, please rerun this cell to show the HTML representation or trust the notebook. <br />On GitHub, the HTML representation is unable to render, please try loading this page with nbviewer.org.</b></div><div class=\"sk-container\" hidden><div class=\"sk-item\"><div class=\"sk-estimator sk-toggleable\"><input class=\"sk-toggleable__control sk-hidden--visually\" id=\"sk-estimator-id-16\" type=\"checkbox\" checked><label for=\"sk-estimator-id-16\" class=\"sk-toggleable__label sk-toggleable__label-arrow\">LinearRegression</label><div class=\"sk-toggleable__content\"><pre>LinearRegression()</pre></div></div></div></div></div>"
      ],
      "text/plain": [
       "LinearRegression()"
      ]
     },
     "execution_count": 310,
     "metadata": {},
     "output_type": "execute_result"
    }
   ],
   "source": [
    "scaled_model.fit(X_train_scaled, y_train)"
   ]
  },
  {
   "cell_type": "code",
   "execution_count": 311,
   "id": "e4f7e774",
   "metadata": {},
   "outputs": [],
   "source": [
    "y_pred = scaled_model.predict(X_test_scaled)"
   ]
  },
  {
   "cell_type": "code",
   "execution_count": 312,
   "id": "d3648521",
   "metadata": {},
   "outputs": [
    {
     "name": "stdout",
     "output_type": "stream",
     "text": [
      "Model testing performance: \n",
      "---------------------------\n",
      "R2_score \t: 0.9470797395538791\n",
      "MAE \t\t: 7.210266217031297\n",
      "MSE \t\t: 191.20384723934822\n",
      "RMSE \t\t: 13.827647928673489\n"
     ]
    }
   ],
   "source": [
    "eval_metric(y_test, y_pred)"
   ]
  },
  {
   "cell_type": "code",
   "execution_count": 313,
   "id": "f11789b9",
   "metadata": {},
   "outputs": [],
   "source": [
    "y_train_pred = scaled_model.predict(X_train_scaled)"
   ]
  },
  {
   "cell_type": "code",
   "execution_count": 314,
   "id": "44de0fa2",
   "metadata": {},
   "outputs": [
    {
     "name": "stdout",
     "output_type": "stream",
     "text": [
      "Model testing performance: \n",
      "---------------------------\n",
      "R2_score \t: 0.9397878368180601\n",
      "MAE \t\t: 7.2139755296467465\n",
      "MSE \t\t: 203.23147293497638\n",
      "RMSE \t\t: 14.25592764203636\n"
     ]
    }
   ],
   "source": [
    "eval_metric(y_train, y_train_pred)"
   ]
  },
  {
   "cell_type": "markdown",
   "id": "436c2abb",
   "metadata": {},
   "source": [
    "## Cross Validate"
   ]
  },
  {
   "cell_type": "code",
   "execution_count": 315,
   "id": "17858a9b",
   "metadata": {},
   "outputs": [],
   "source": [
    "from sklearn.model_selection import cross_validate, cross_val_score"
   ]
  },
  {
   "cell_type": "code",
   "execution_count": 316,
   "id": "63f2107a",
   "metadata": {},
   "outputs": [],
   "source": [
    "model = LinearRegression()\n",
    "scores = cross_validate(model, X_train_scaled, y_train, \n",
    "                        scoring = ['r2', 'neg_mean_absolute_error','neg_mean_squared_error', \\\n",
    "                                    'neg_root_mean_squared_error'], cv = 10, return_train_score=True)\n"
   ]
  },
  {
   "cell_type": "code",
   "execution_count": 317,
   "id": "a7c227b4",
   "metadata": {},
   "outputs": [
    {
     "data": {
      "text/html": [
       "<div>\n",
       "<style scoped>\n",
       "    .dataframe tbody tr th:only-of-type {\n",
       "        vertical-align: middle;\n",
       "    }\n",
       "\n",
       "    .dataframe tbody tr th {\n",
       "        vertical-align: top;\n",
       "    }\n",
       "\n",
       "    .dataframe thead th {\n",
       "        text-align: right;\n",
       "    }\n",
       "</style>\n",
       "<table border=\"1\" class=\"dataframe\">\n",
       "  <thead>\n",
       "    <tr style=\"text-align: right;\">\n",
       "      <th></th>\n",
       "      <th>fit_time</th>\n",
       "      <th>score_time</th>\n",
       "      <th>test_r2</th>\n",
       "      <th>train_r2</th>\n",
       "      <th>test_neg_mean_absolute_error</th>\n",
       "      <th>train_neg_mean_absolute_error</th>\n",
       "      <th>test_neg_mean_squared_error</th>\n",
       "      <th>train_neg_mean_squared_error</th>\n",
       "      <th>test_neg_root_mean_squared_error</th>\n",
       "      <th>train_neg_root_mean_squared_error</th>\n",
       "    </tr>\n",
       "  </thead>\n",
       "  <tbody>\n",
       "    <tr>\n",
       "      <th>1</th>\n",
       "      <td>0.062386</td>\n",
       "      <td>0.0</td>\n",
       "      <td>0.931121</td>\n",
       "      <td>0.940483</td>\n",
       "      <td>-7.513654</td>\n",
       "      <td>-7.244347</td>\n",
       "      <td>-229.465965</td>\n",
       "      <td>-201.169729</td>\n",
       "      <td>-15.148134</td>\n",
       "      <td>-14.183431</td>\n",
       "    </tr>\n",
       "    <tr>\n",
       "      <th>2</th>\n",
       "      <td>0.008507</td>\n",
       "      <td>0.0</td>\n",
       "      <td>0.934969</td>\n",
       "      <td>0.940006</td>\n",
       "      <td>-7.064129</td>\n",
       "      <td>-7.250487</td>\n",
       "      <td>-218.673912</td>\n",
       "      <td>-202.567567</td>\n",
       "      <td>-14.787627</td>\n",
       "      <td>-14.232623</td>\n",
       "    </tr>\n",
       "    <tr>\n",
       "      <th>3</th>\n",
       "      <td>0.015636</td>\n",
       "      <td>0.0</td>\n",
       "      <td>0.939276</td>\n",
       "      <td>0.939671</td>\n",
       "      <td>-6.926668</td>\n",
       "      <td>-7.279217</td>\n",
       "      <td>-201.395072</td>\n",
       "      <td>-204.017709</td>\n",
       "      <td>-14.191373</td>\n",
       "      <td>-14.283477</td>\n",
       "    </tr>\n",
       "    <tr>\n",
       "      <th>4</th>\n",
       "      <td>0.015823</td>\n",
       "      <td>0.0</td>\n",
       "      <td>0.933375</td>\n",
       "      <td>0.940336</td>\n",
       "      <td>-7.730230</td>\n",
       "      <td>-7.111765</td>\n",
       "      <td>-210.744677</td>\n",
       "      <td>-202.781017</td>\n",
       "      <td>-14.517048</td>\n",
       "      <td>-14.240120</td>\n",
       "    </tr>\n",
       "    <tr>\n",
       "      <th>5</th>\n",
       "      <td>0.019148</td>\n",
       "      <td>0.0</td>\n",
       "      <td>0.929115</td>\n",
       "      <td>0.940522</td>\n",
       "      <td>-7.813805</td>\n",
       "      <td>-7.235937</td>\n",
       "      <td>-223.245227</td>\n",
       "      <td>-202.243989</td>\n",
       "      <td>-14.941393</td>\n",
       "      <td>-14.221251</td>\n",
       "    </tr>\n",
       "    <tr>\n",
       "      <th>6</th>\n",
       "      <td>0.012507</td>\n",
       "      <td>0.0</td>\n",
       "      <td>0.928022</td>\n",
       "      <td>0.940859</td>\n",
       "      <td>-8.013667</td>\n",
       "      <td>-7.006735</td>\n",
       "      <td>-275.922058</td>\n",
       "      <td>-196.582213</td>\n",
       "      <td>-16.610902</td>\n",
       "      <td>-14.020778</td>\n",
       "    </tr>\n",
       "    <tr>\n",
       "      <th>7</th>\n",
       "      <td>0.017797</td>\n",
       "      <td>0.0</td>\n",
       "      <td>0.940292</td>\n",
       "      <td>0.938438</td>\n",
       "      <td>-7.251341</td>\n",
       "      <td>-7.224012</td>\n",
       "      <td>-216.357010</td>\n",
       "      <td>-206.074182</td>\n",
       "      <td>-14.709079</td>\n",
       "      <td>-14.355284</td>\n",
       "    </tr>\n",
       "    <tr>\n",
       "      <th>8</th>\n",
       "      <td>0.015202</td>\n",
       "      <td>0.0</td>\n",
       "      <td>0.931262</td>\n",
       "      <td>0.940069</td>\n",
       "      <td>-7.414898</td>\n",
       "      <td>-7.218608</td>\n",
       "      <td>-227.752858</td>\n",
       "      <td>-202.612838</td>\n",
       "      <td>-15.091483</td>\n",
       "      <td>-14.234214</td>\n",
       "    </tr>\n",
       "    <tr>\n",
       "      <th>9</th>\n",
       "      <td>0.001273</td>\n",
       "      <td>0.0</td>\n",
       "      <td>0.948035</td>\n",
       "      <td>0.938783</td>\n",
       "      <td>-6.978231</td>\n",
       "      <td>-7.302047</td>\n",
       "      <td>-173.505936</td>\n",
       "      <td>-206.869249</td>\n",
       "      <td>-13.172165</td>\n",
       "      <td>-14.382950</td>\n",
       "    </tr>\n",
       "    <tr>\n",
       "      <th>10</th>\n",
       "      <td>0.000000</td>\n",
       "      <td>0.0</td>\n",
       "      <td>0.910860</td>\n",
       "      <td>0.940621</td>\n",
       "      <td>-7.686461</td>\n",
       "      <td>-7.228585</td>\n",
       "      <td>-294.048938</td>\n",
       "      <td>-200.913982</td>\n",
       "      <td>-17.147855</td>\n",
       "      <td>-14.174413</td>\n",
       "    </tr>\n",
       "  </tbody>\n",
       "</table>\n",
       "</div>"
      ],
      "text/plain": [
       "    fit_time  score_time   test_r2  train_r2  test_neg_mean_absolute_error  \\\n",
       "1   0.062386         0.0  0.931121  0.940483                     -7.513654   \n",
       "2   0.008507         0.0  0.934969  0.940006                     -7.064129   \n",
       "3   0.015636         0.0  0.939276  0.939671                     -6.926668   \n",
       "4   0.015823         0.0  0.933375  0.940336                     -7.730230   \n",
       "5   0.019148         0.0  0.929115  0.940522                     -7.813805   \n",
       "6   0.012507         0.0  0.928022  0.940859                     -8.013667   \n",
       "7   0.017797         0.0  0.940292  0.938438                     -7.251341   \n",
       "8   0.015202         0.0  0.931262  0.940069                     -7.414898   \n",
       "9   0.001273         0.0  0.948035  0.938783                     -6.978231   \n",
       "10  0.000000         0.0  0.910860  0.940621                     -7.686461   \n",
       "\n",
       "    train_neg_mean_absolute_error  test_neg_mean_squared_error  \\\n",
       "1                       -7.244347                  -229.465965   \n",
       "2                       -7.250487                  -218.673912   \n",
       "3                       -7.279217                  -201.395072   \n",
       "4                       -7.111765                  -210.744677   \n",
       "5                       -7.235937                  -223.245227   \n",
       "6                       -7.006735                  -275.922058   \n",
       "7                       -7.224012                  -216.357010   \n",
       "8                       -7.218608                  -227.752858   \n",
       "9                       -7.302047                  -173.505936   \n",
       "10                      -7.228585                  -294.048938   \n",
       "\n",
       "    train_neg_mean_squared_error  test_neg_root_mean_squared_error  \\\n",
       "1                    -201.169729                        -15.148134   \n",
       "2                    -202.567567                        -14.787627   \n",
       "3                    -204.017709                        -14.191373   \n",
       "4                    -202.781017                        -14.517048   \n",
       "5                    -202.243989                        -14.941393   \n",
       "6                    -196.582213                        -16.610902   \n",
       "7                    -206.074182                        -14.709079   \n",
       "8                    -202.612838                        -15.091483   \n",
       "9                    -206.869249                        -13.172165   \n",
       "10                   -200.913982                        -17.147855   \n",
       "\n",
       "    train_neg_root_mean_squared_error  \n",
       "1                          -14.183431  \n",
       "2                          -14.232623  \n",
       "3                          -14.283477  \n",
       "4                          -14.240120  \n",
       "5                          -14.221251  \n",
       "6                          -14.020778  \n",
       "7                          -14.355284  \n",
       "8                          -14.234214  \n",
       "9                          -14.382950  \n",
       "10                         -14.174413  "
      ]
     },
     "execution_count": 317,
     "metadata": {},
     "output_type": "execute_result"
    }
   ],
   "source": [
    "pd.DataFrame(scores, index = range(1,11))"
   ]
  },
  {
   "cell_type": "code",
   "execution_count": 318,
   "id": "f372849c",
   "metadata": {},
   "outputs": [
    {
     "data": {
      "text/plain": [
       "test_r2                                0.932633\n",
       "train_r2                               0.939979\n",
       "test_neg_mean_absolute_error          -7.439308\n",
       "train_neg_mean_absolute_error         -7.210174\n",
       "test_neg_mean_squared_error         -227.111165\n",
       "train_neg_mean_squared_error        -202.583247\n",
       "test_neg_root_mean_squared_error     -15.031706\n",
       "train_neg_root_mean_squared_error    -14.232854\n",
       "dtype: float64"
      ]
     },
     "execution_count": 318,
     "metadata": {},
     "output_type": "execute_result"
    }
   ],
   "source": [
    "scores = pd.DataFrame(scores, index=range(1,11))\n",
    "scores.iloc[:, 2:].mean()"
   ]
  },
  {
   "cell_type": "markdown",
   "id": "08b24ad2",
   "metadata": {},
   "source": [
    "## Regularization- Elastic Net"
   ]
  },
  {
   "cell_type": "code",
   "execution_count": 335,
   "id": "331c99e5",
   "metadata": {},
   "outputs": [],
   "source": [
    "from sklearn.linear_model import ElasticNet, ElasticNetCV"
   ]
  },
  {
   "cell_type": "code",
   "execution_count": 336,
   "id": "a588c69d",
   "metadata": {},
   "outputs": [],
   "source": [
    "elastic_model = ElasticNet( alpha = 1.0, l1_ratio = 0.5, random_state = 42, max_iter = 1000)"
   ]
  },
  {
   "cell_type": "code",
   "execution_count": 337,
   "id": "6f28f41e",
   "metadata": {},
   "outputs": [
    {
     "data": {
      "text/html": [
       "<style>#sk-container-id-18 {color: black;background-color: white;}#sk-container-id-18 pre{padding: 0;}#sk-container-id-18 div.sk-toggleable {background-color: white;}#sk-container-id-18 label.sk-toggleable__label {cursor: pointer;display: block;width: 100%;margin-bottom: 0;padding: 0.3em;box-sizing: border-box;text-align: center;}#sk-container-id-18 label.sk-toggleable__label-arrow:before {content: \"▸\";float: left;margin-right: 0.25em;color: #696969;}#sk-container-id-18 label.sk-toggleable__label-arrow:hover:before {color: black;}#sk-container-id-18 div.sk-estimator:hover label.sk-toggleable__label-arrow:before {color: black;}#sk-container-id-18 div.sk-toggleable__content {max-height: 0;max-width: 0;overflow: hidden;text-align: left;background-color: #f0f8ff;}#sk-container-id-18 div.sk-toggleable__content pre {margin: 0.2em;color: black;border-radius: 0.25em;background-color: #f0f8ff;}#sk-container-id-18 input.sk-toggleable__control:checked~div.sk-toggleable__content {max-height: 200px;max-width: 100%;overflow: auto;}#sk-container-id-18 input.sk-toggleable__control:checked~label.sk-toggleable__label-arrow:before {content: \"▾\";}#sk-container-id-18 div.sk-estimator input.sk-toggleable__control:checked~label.sk-toggleable__label {background-color: #d4ebff;}#sk-container-id-18 div.sk-label input.sk-toggleable__control:checked~label.sk-toggleable__label {background-color: #d4ebff;}#sk-container-id-18 input.sk-hidden--visually {border: 0;clip: rect(1px 1px 1px 1px);clip: rect(1px, 1px, 1px, 1px);height: 1px;margin: -1px;overflow: hidden;padding: 0;position: absolute;width: 1px;}#sk-container-id-18 div.sk-estimator {font-family: monospace;background-color: #f0f8ff;border: 1px dotted black;border-radius: 0.25em;box-sizing: border-box;margin-bottom: 0.5em;}#sk-container-id-18 div.sk-estimator:hover {background-color: #d4ebff;}#sk-container-id-18 div.sk-parallel-item::after {content: \"\";width: 100%;border-bottom: 1px solid gray;flex-grow: 1;}#sk-container-id-18 div.sk-label:hover label.sk-toggleable__label {background-color: #d4ebff;}#sk-container-id-18 div.sk-serial::before {content: \"\";position: absolute;border-left: 1px solid gray;box-sizing: border-box;top: 0;bottom: 0;left: 50%;z-index: 0;}#sk-container-id-18 div.sk-serial {display: flex;flex-direction: column;align-items: center;background-color: white;padding-right: 0.2em;padding-left: 0.2em;position: relative;}#sk-container-id-18 div.sk-item {position: relative;z-index: 1;}#sk-container-id-18 div.sk-parallel {display: flex;align-items: stretch;justify-content: center;background-color: white;position: relative;}#sk-container-id-18 div.sk-item::before, #sk-container-id-18 div.sk-parallel-item::before {content: \"\";position: absolute;border-left: 1px solid gray;box-sizing: border-box;top: 0;bottom: 0;left: 50%;z-index: -1;}#sk-container-id-18 div.sk-parallel-item {display: flex;flex-direction: column;z-index: 1;position: relative;background-color: white;}#sk-container-id-18 div.sk-parallel-item:first-child::after {align-self: flex-end;width: 50%;}#sk-container-id-18 div.sk-parallel-item:last-child::after {align-self: flex-start;width: 50%;}#sk-container-id-18 div.sk-parallel-item:only-child::after {width: 0;}#sk-container-id-18 div.sk-dashed-wrapped {border: 1px dashed gray;margin: 0 0.4em 0.5em 0.4em;box-sizing: border-box;padding-bottom: 0.4em;background-color: white;}#sk-container-id-18 div.sk-label label {font-family: monospace;font-weight: bold;display: inline-block;line-height: 1.2em;}#sk-container-id-18 div.sk-label-container {text-align: center;}#sk-container-id-18 div.sk-container {/* jupyter's `normalize.less` sets `[hidden] { display: none; }` but bootstrap.min.css set `[hidden] { display: none !important; }` so we also need the `!important` here to be able to override the default hidden behavior on the sphinx rendered scikit-learn.org. See: https://github.com/scikit-learn/scikit-learn/issues/21755 */display: inline-block !important;position: relative;}#sk-container-id-18 div.sk-text-repr-fallback {display: none;}</style><div id=\"sk-container-id-18\" class=\"sk-top-container\"><div class=\"sk-text-repr-fallback\"><pre>ElasticNet(random_state=42)</pre><b>In a Jupyter environment, please rerun this cell to show the HTML representation or trust the notebook. <br />On GitHub, the HTML representation is unable to render, please try loading this page with nbviewer.org.</b></div><div class=\"sk-container\" hidden><div class=\"sk-item\"><div class=\"sk-estimator sk-toggleable\"><input class=\"sk-toggleable__control sk-hidden--visually\" id=\"sk-estimator-id-18\" type=\"checkbox\" checked><label for=\"sk-estimator-id-18\" class=\"sk-toggleable__label sk-toggleable__label-arrow\">ElasticNet</label><div class=\"sk-toggleable__content\"><pre>ElasticNet(random_state=42)</pre></div></div></div></div></div>"
      ],
      "text/plain": [
       "ElasticNet(random_state=42)"
      ]
     },
     "execution_count": 337,
     "metadata": {},
     "output_type": "execute_result"
    }
   ],
   "source": [
    "elastic_model.fit(X_train_scaled, y_train)"
   ]
  },
  {
   "cell_type": "code",
   "execution_count": 338,
   "id": "cd80c85b",
   "metadata": {},
   "outputs": [],
   "source": [
    "y_pred = elastic_model.predict(X_test_scaled)\n",
    "y_train_pred = elastic_model.predict(X_train_scaled)"
   ]
  },
  {
   "cell_type": "code",
   "execution_count": 339,
   "id": "3cac4b94",
   "metadata": {},
   "outputs": [
    {
     "name": "stdout",
     "output_type": "stream",
     "text": [
      "Model testing performance: \n",
      "---------------------------\n",
      "R2_score \t: 0.8777373462297867\n",
      "MAE \t\t: 15.04420646290745\n",
      "MSE \t\t: 441.74177484175175\n",
      "RMSE \t\t: 21.01765388528776\n"
     ]
    }
   ],
   "source": [
    "eval_metric(y_test, y_pred)"
   ]
  },
  {
   "cell_type": "code",
   "execution_count": 340,
   "id": "d444ff52",
   "metadata": {},
   "outputs": [],
   "source": [
    "model = ElasticNet(alpha=1, l1_ratio=0.5, random_state=42)\n",
    "scores = cross_validate(model, X_train_scaled, y_train,\n",
    "                        scoring=['r2', 'neg_mean_absolute_error','neg_mean_squared_error','neg_root_mean_squared_error'], cv=10)"
   ]
  },
  {
   "cell_type": "code",
   "execution_count": 341,
   "id": "3019826f",
   "metadata": {},
   "outputs": [
    {
     "data": {
      "text/html": [
       "<div>\n",
       "<style scoped>\n",
       "    .dataframe tbody tr th:only-of-type {\n",
       "        vertical-align: middle;\n",
       "    }\n",
       "\n",
       "    .dataframe tbody tr th {\n",
       "        vertical-align: top;\n",
       "    }\n",
       "\n",
       "    .dataframe thead th {\n",
       "        text-align: right;\n",
       "    }\n",
       "</style>\n",
       "<table border=\"1\" class=\"dataframe\">\n",
       "  <thead>\n",
       "    <tr style=\"text-align: right;\">\n",
       "      <th></th>\n",
       "      <th>test_r2</th>\n",
       "      <th>test_neg_mean_absolute_error</th>\n",
       "      <th>test_neg_mean_squared_error</th>\n",
       "      <th>test_neg_root_mean_squared_error</th>\n",
       "    </tr>\n",
       "  </thead>\n",
       "  <tbody>\n",
       "    <tr>\n",
       "      <th>1</th>\n",
       "      <td>0.856658</td>\n",
       "      <td>-15.520411</td>\n",
       "      <td>-477.537702</td>\n",
       "      <td>-21.852636</td>\n",
       "    </tr>\n",
       "    <tr>\n",
       "      <th>2</th>\n",
       "      <td>0.869399</td>\n",
       "      <td>-14.823468</td>\n",
       "      <td>-439.159554</td>\n",
       "      <td>-20.956134</td>\n",
       "    </tr>\n",
       "    <tr>\n",
       "      <th>3</th>\n",
       "      <td>0.871088</td>\n",
       "      <td>-14.464107</td>\n",
       "      <td>-427.544997</td>\n",
       "      <td>-20.677161</td>\n",
       "    </tr>\n",
       "    <tr>\n",
       "      <th>4</th>\n",
       "      <td>0.854017</td>\n",
       "      <td>-15.295547</td>\n",
       "      <td>-461.764428</td>\n",
       "      <td>-21.488705</td>\n",
       "    </tr>\n",
       "    <tr>\n",
       "      <th>5</th>\n",
       "      <td>0.845551</td>\n",
       "      <td>-15.166577</td>\n",
       "      <td>-486.418452</td>\n",
       "      <td>-22.054896</td>\n",
       "    </tr>\n",
       "    <tr>\n",
       "      <th>6</th>\n",
       "      <td>0.866622</td>\n",
       "      <td>-15.908103</td>\n",
       "      <td>-511.298242</td>\n",
       "      <td>-22.611905</td>\n",
       "    </tr>\n",
       "    <tr>\n",
       "      <th>7</th>\n",
       "      <td>0.873859</td>\n",
       "      <td>-15.009993</td>\n",
       "      <td>-457.087052</td>\n",
       "      <td>-21.379594</td>\n",
       "    </tr>\n",
       "    <tr>\n",
       "      <th>8</th>\n",
       "      <td>0.866138</td>\n",
       "      <td>-14.717097</td>\n",
       "      <td>-443.531365</td>\n",
       "      <td>-21.060184</td>\n",
       "    </tr>\n",
       "    <tr>\n",
       "      <th>9</th>\n",
       "      <td>0.868196</td>\n",
       "      <td>-14.795571</td>\n",
       "      <td>-440.083410</td>\n",
       "      <td>-20.978165</td>\n",
       "    </tr>\n",
       "    <tr>\n",
       "      <th>10</th>\n",
       "      <td>0.863545</td>\n",
       "      <td>-15.182432</td>\n",
       "      <td>-450.126022</td>\n",
       "      <td>-21.216174</td>\n",
       "    </tr>\n",
       "  </tbody>\n",
       "</table>\n",
       "</div>"
      ],
      "text/plain": [
       "     test_r2  test_neg_mean_absolute_error  test_neg_mean_squared_error  \\\n",
       "1   0.856658                    -15.520411                  -477.537702   \n",
       "2   0.869399                    -14.823468                  -439.159554   \n",
       "3   0.871088                    -14.464107                  -427.544997   \n",
       "4   0.854017                    -15.295547                  -461.764428   \n",
       "5   0.845551                    -15.166577                  -486.418452   \n",
       "6   0.866622                    -15.908103                  -511.298242   \n",
       "7   0.873859                    -15.009993                  -457.087052   \n",
       "8   0.866138                    -14.717097                  -443.531365   \n",
       "9   0.868196                    -14.795571                  -440.083410   \n",
       "10  0.863545                    -15.182432                  -450.126022   \n",
       "\n",
       "    test_neg_root_mean_squared_error  \n",
       "1                         -21.852636  \n",
       "2                         -20.956134  \n",
       "3                         -20.677161  \n",
       "4                         -21.488705  \n",
       "5                         -22.054896  \n",
       "6                         -22.611905  \n",
       "7                         -21.379594  \n",
       "8                         -21.060184  \n",
       "9                         -20.978165  \n",
       "10                        -21.216174  "
      ]
     },
     "execution_count": 341,
     "metadata": {},
     "output_type": "execute_result"
    }
   ],
   "source": [
    "scores = pd.DataFrame(scores, index = range(1,11))\n",
    "scores.iloc[:, 2:]"
   ]
  },
  {
   "cell_type": "code",
   "execution_count": 342,
   "id": "ae95c78d",
   "metadata": {},
   "outputs": [
    {
     "data": {
      "text/plain": [
       "test_r2                               0.859343\n",
       "test_neg_mean_absolute_error        -15.054022\n",
       "test_neg_mean_squared_error        -458.485026\n",
       "test_neg_root_mean_squared_error    -21.405906\n",
       "dtype: float64"
      ]
     },
     "execution_count": 342,
     "metadata": {},
     "output_type": "execute_result"
    }
   ],
   "source": [
    "scores = pd.DataFrame(scores, index = range(1,6))\n",
    "scores.iloc[:, 2:].mean()"
   ]
  },
  {
   "cell_type": "markdown",
   "id": "7fcd435a",
   "metadata": {},
   "source": [
    "## Grid Search"
   ]
  },
  {
   "cell_type": "code",
   "execution_count": 343,
   "id": "c1a02cdb",
   "metadata": {},
   "outputs": [],
   "source": [
    "from sklearn.model_selection import GridSearchCV"
   ]
  },
  {
   "cell_type": "code",
   "execution_count": 344,
   "id": "3b107757",
   "metadata": {},
   "outputs": [],
   "source": [
    "alpha_space = np.linspace(0.01, 1, 100)\n",
    "\n",
    "param_grid = {\"alpha\": alpha_space}\n",
    "\n",
    "grid_model = GridSearchCV(estimator = elastic_model, param_grid = param_grid, scoring = 'neg_root_mean_squared_error',\n",
    "                         cv =10, verbose =2, return_train_score=True)"
   ]
  },
  {
   "cell_type": "code",
   "execution_count": 345,
   "id": "a93efd2f",
   "metadata": {},
   "outputs": [
    {
     "name": "stdout",
     "output_type": "stream",
     "text": [
      "Fitting 10 folds for each of 100 candidates, totalling 1000 fits\n",
      "[CV] END .........................................alpha=0.01; total time=   0.3s\n",
      "[CV] END .........................................alpha=0.01; total time=   0.2s\n",
      "[CV] END .........................................alpha=0.01; total time=   0.3s\n",
      "[CV] END .........................................alpha=0.01; total time=   0.2s\n",
      "[CV] END .........................................alpha=0.01; total time=   0.2s\n",
      "[CV] END .........................................alpha=0.01; total time=   0.2s\n",
      "[CV] END .........................................alpha=0.01; total time=   0.3s\n",
      "[CV] END .........................................alpha=0.01; total time=   0.3s\n",
      "[CV] END .........................................alpha=0.01; total time=   0.2s\n",
      "[CV] END .........................................alpha=0.01; total time=   0.2s\n",
      "[CV] END .........................................alpha=0.02; total time=   0.3s\n",
      "[CV] END .........................................alpha=0.02; total time=   0.2s\n",
      "[CV] END .........................................alpha=0.02; total time=   0.2s\n",
      "[CV] END .........................................alpha=0.02; total time=   0.2s\n",
      "[CV] END .........................................alpha=0.02; total time=   0.2s\n",
      "[CV] END .........................................alpha=0.02; total time=   0.2s\n",
      "[CV] END .........................................alpha=0.02; total time=   0.2s\n",
      "[CV] END .........................................alpha=0.02; total time=   0.2s\n",
      "[CV] END .........................................alpha=0.02; total time=   0.3s\n",
      "[CV] END .........................................alpha=0.02; total time=   0.2s\n",
      "[CV] END .........................................alpha=0.03; total time=   0.2s\n",
      "[CV] END .........................................alpha=0.03; total time=   0.3s\n",
      "[CV] END .........................................alpha=0.03; total time=   0.2s\n",
      "[CV] END .........................................alpha=0.03; total time=   0.2s\n",
      "[CV] END .........................................alpha=0.03; total time=   0.2s\n",
      "[CV] END .........................................alpha=0.03; total time=   0.2s\n",
      "[CV] END .........................................alpha=0.03; total time=   0.3s\n",
      "[CV] END .........................................alpha=0.03; total time=   0.3s\n",
      "[CV] END .........................................alpha=0.03; total time=   0.2s\n",
      "[CV] END .........................................alpha=0.03; total time=   0.2s\n",
      "[CV] END .........................................alpha=0.04; total time=   0.2s\n",
      "[CV] END .........................................alpha=0.04; total time=   0.3s\n",
      "[CV] END .........................................alpha=0.04; total time=   0.3s\n",
      "[CV] END .........................................alpha=0.04; total time=   0.2s\n",
      "[CV] END .........................................alpha=0.04; total time=   0.2s\n",
      "[CV] END .........................................alpha=0.04; total time=   0.2s\n",
      "[CV] END .........................................alpha=0.04; total time=   0.2s\n",
      "[CV] END .........................................alpha=0.04; total time=   0.3s\n",
      "[CV] END .........................................alpha=0.04; total time=   0.2s\n",
      "[CV] END .........................................alpha=0.04; total time=   0.2s\n",
      "[CV] END .........................................alpha=0.05; total time=   0.2s\n",
      "[CV] END .........................................alpha=0.05; total time=   0.2s\n",
      "[CV] END .........................................alpha=0.05; total time=   0.3s\n",
      "[CV] END .........................................alpha=0.05; total time=   0.3s\n",
      "[CV] END .........................................alpha=0.05; total time=   0.2s\n",
      "[CV] END .........................................alpha=0.05; total time=   0.2s\n",
      "[CV] END .........................................alpha=0.05; total time=   0.1s\n",
      "[CV] END .........................................alpha=0.05; total time=   0.3s\n",
      "[CV] END .........................................alpha=0.05; total time=   0.2s\n",
      "[CV] END .........................................alpha=0.05; total time=   0.2s\n",
      "[CV] END .........................alpha=0.060000000000000005; total time=   0.3s\n",
      "[CV] END .........................alpha=0.060000000000000005; total time=   0.2s\n",
      "[CV] END .........................alpha=0.060000000000000005; total time=   0.2s\n",
      "[CV] END .........................alpha=0.060000000000000005; total time=   0.3s\n",
      "[CV] END .........................alpha=0.060000000000000005; total time=   0.1s\n",
      "[CV] END .........................alpha=0.060000000000000005; total time=   0.1s\n",
      "[CV] END .........................alpha=0.060000000000000005; total time=   0.2s\n",
      "[CV] END .........................alpha=0.060000000000000005; total time=   0.2s\n",
      "[CV] END .........................alpha=0.060000000000000005; total time=   0.2s\n",
      "[CV] END .........................alpha=0.060000000000000005; total time=   0.2s\n",
      "[CV] END ..........................alpha=0.06999999999999999; total time=   0.3s\n",
      "[CV] END ..........................alpha=0.06999999999999999; total time=   0.2s\n",
      "[CV] END ..........................alpha=0.06999999999999999; total time=   0.2s\n",
      "[CV] END ..........................alpha=0.06999999999999999; total time=   0.2s\n",
      "[CV] END ..........................alpha=0.06999999999999999; total time=   0.2s\n",
      "[CV] END ..........................alpha=0.06999999999999999; total time=   0.2s\n",
      "[CV] END ..........................alpha=0.06999999999999999; total time=   0.2s\n",
      "[CV] END ..........................alpha=0.06999999999999999; total time=   0.3s\n",
      "[CV] END ..........................alpha=0.06999999999999999; total time=   0.2s\n",
      "[CV] END ..........................alpha=0.06999999999999999; total time=   0.1s\n",
      "[CV] END .........................................alpha=0.08; total time=   0.2s\n",
      "[CV] END .........................................alpha=0.08; total time=   0.2s\n",
      "[CV] END .........................................alpha=0.08; total time=   0.2s\n",
      "[CV] END .........................................alpha=0.08; total time=   0.2s\n",
      "[CV] END .........................................alpha=0.08; total time=   0.2s\n",
      "[CV] END .........................................alpha=0.08; total time=   0.2s\n",
      "[CV] END .........................................alpha=0.08; total time=   0.1s\n",
      "[CV] END .........................................alpha=0.08; total time=   0.2s\n",
      "[CV] END .........................................alpha=0.08; total time=   0.2s\n",
      "[CV] END .........................................alpha=0.08; total time=   0.2s\n",
      "[CV] END .........................................alpha=0.09; total time=   0.2s\n",
      "[CV] END .........................................alpha=0.09; total time=   0.2s\n",
      "[CV] END .........................................alpha=0.09; total time=   0.2s\n",
      "[CV] END .........................................alpha=0.09; total time=   0.2s\n",
      "[CV] END .........................................alpha=0.09; total time=   0.2s\n",
      "[CV] END .........................................alpha=0.09; total time=   0.2s\n",
      "[CV] END .........................................alpha=0.09; total time=   0.2s\n",
      "[CV] END .........................................alpha=0.09; total time=   0.2s\n",
      "[CV] END .........................................alpha=0.09; total time=   0.1s\n",
      "[CV] END .........................................alpha=0.09; total time=   0.2s\n",
      "[CV] END ..........................alpha=0.09999999999999999; total time=   0.2s\n",
      "[CV] END ..........................alpha=0.09999999999999999; total time=   0.2s\n",
      "[CV] END ..........................alpha=0.09999999999999999; total time=   0.2s\n",
      "[CV] END ..........................alpha=0.09999999999999999; total time=   0.2s\n",
      "[CV] END ..........................alpha=0.09999999999999999; total time=   0.2s\n",
      "[CV] END ..........................alpha=0.09999999999999999; total time=   0.2s\n",
      "[CV] END ..........................alpha=0.09999999999999999; total time=   0.2s\n",
      "[CV] END ..........................alpha=0.09999999999999999; total time=   0.2s\n",
      "[CV] END ..........................alpha=0.09999999999999999; total time=   0.2s\n",
      "[CV] END ..........................alpha=0.09999999999999999; total time=   0.2s\n",
      "[CV] END .........................................alpha=0.11; total time=   0.2s\n"
     ]
    },
    {
     "name": "stdout",
     "output_type": "stream",
     "text": [
      "[CV] END .........................................alpha=0.11; total time=   0.2s\n",
      "[CV] END .........................................alpha=0.11; total time=   0.2s\n",
      "[CV] END .........................................alpha=0.11; total time=   0.1s\n",
      "[CV] END .........................................alpha=0.11; total time=   0.1s\n",
      "[CV] END .........................................alpha=0.11; total time=   0.1s\n",
      "[CV] END .........................................alpha=0.11; total time=   0.2s\n",
      "[CV] END .........................................alpha=0.11; total time=   0.2s\n",
      "[CV] END .........................................alpha=0.11; total time=   0.2s\n",
      "[CV] END .........................................alpha=0.11; total time=   0.2s\n",
      "[CV] END .........................................alpha=0.12; total time=   0.2s\n",
      "[CV] END .........................................alpha=0.12; total time=   0.2s\n",
      "[CV] END .........................................alpha=0.12; total time=   0.2s\n",
      "[CV] END .........................................alpha=0.12; total time=   0.1s\n",
      "[CV] END .........................................alpha=0.12; total time=   0.1s\n",
      "[CV] END .........................................alpha=0.12; total time=   0.2s\n",
      "[CV] END .........................................alpha=0.12; total time=   0.3s\n",
      "[CV] END .........................................alpha=0.12; total time=   0.2s\n",
      "[CV] END .........................................alpha=0.12; total time=   0.2s\n",
      "[CV] END .........................................alpha=0.12; total time=   0.2s\n",
      "[CV] END .........................................alpha=0.13; total time=   0.2s\n",
      "[CV] END .........................................alpha=0.13; total time=   0.2s\n",
      "[CV] END .........................................alpha=0.13; total time=   0.2s\n",
      "[CV] END .........................................alpha=0.13; total time=   0.2s\n",
      "[CV] END .........................................alpha=0.13; total time=   0.2s\n",
      "[CV] END .........................................alpha=0.13; total time=   0.2s\n",
      "[CV] END .........................................alpha=0.13; total time=   0.2s\n",
      "[CV] END .........................................alpha=0.13; total time=   0.2s\n",
      "[CV] END .........................................alpha=0.13; total time=   0.2s\n",
      "[CV] END .........................................alpha=0.13; total time=   0.2s\n",
      "[CV] END .........................................alpha=0.14; total time=   0.2s\n",
      "[CV] END .........................................alpha=0.14; total time=   0.2s\n",
      "[CV] END .........................................alpha=0.14; total time=   0.2s\n",
      "[CV] END .........................................alpha=0.14; total time=   0.2s\n",
      "[CV] END .........................................alpha=0.14; total time=   0.2s\n",
      "[CV] END .........................................alpha=0.14; total time=   0.1s\n",
      "[CV] END .........................................alpha=0.14; total time=   0.2s\n",
      "[CV] END .........................................alpha=0.14; total time=   0.2s\n",
      "[CV] END .........................................alpha=0.14; total time=   0.2s\n",
      "[CV] END .........................................alpha=0.14; total time=   0.2s\n",
      "[CV] END ..........................alpha=0.15000000000000002; total time=   0.2s\n",
      "[CV] END ..........................alpha=0.15000000000000002; total time=   0.2s\n",
      "[CV] END ..........................alpha=0.15000000000000002; total time=   0.2s\n",
      "[CV] END ..........................alpha=0.15000000000000002; total time=   0.2s\n",
      "[CV] END ..........................alpha=0.15000000000000002; total time=   0.2s\n",
      "[CV] END ..........................alpha=0.15000000000000002; total time=   0.2s\n",
      "[CV] END ..........................alpha=0.15000000000000002; total time=   0.2s\n",
      "[CV] END ..........................alpha=0.15000000000000002; total time=   0.2s\n",
      "[CV] END ..........................alpha=0.15000000000000002; total time=   0.2s\n",
      "[CV] END ..........................alpha=0.15000000000000002; total time=   0.2s\n",
      "[CV] END .........................................alpha=0.16; total time=   0.2s\n",
      "[CV] END .........................................alpha=0.16; total time=   0.2s\n",
      "[CV] END .........................................alpha=0.16; total time=   0.2s\n",
      "[CV] END .........................................alpha=0.16; total time=   0.2s\n",
      "[CV] END .........................................alpha=0.16; total time=   0.2s\n",
      "[CV] END .........................................alpha=0.16; total time=   0.1s\n",
      "[CV] END .........................................alpha=0.16; total time=   0.2s\n",
      "[CV] END .........................................alpha=0.16; total time=   0.2s\n",
      "[CV] END .........................................alpha=0.16; total time=   0.2s\n",
      "[CV] END .........................................alpha=0.16; total time=   0.1s\n",
      "[CV] END .........................................alpha=0.17; total time=   0.2s\n",
      "[CV] END .........................................alpha=0.17; total time=   0.1s\n",
      "[CV] END .........................................alpha=0.17; total time=   0.2s\n",
      "[CV] END .........................................alpha=0.17; total time=   0.2s\n",
      "[CV] END .........................................alpha=0.17; total time=   0.2s\n",
      "[CV] END .........................................alpha=0.17; total time=   0.2s\n",
      "[CV] END .........................................alpha=0.17; total time=   0.2s\n",
      "[CV] END .........................................alpha=0.17; total time=   0.2s\n",
      "[CV] END .........................................alpha=0.17; total time=   0.1s\n",
      "[CV] END .........................................alpha=0.17; total time=   0.2s\n",
      "[CV] END ..........................alpha=0.18000000000000002; total time=   0.2s\n",
      "[CV] END ..........................alpha=0.18000000000000002; total time=   0.2s\n",
      "[CV] END ..........................alpha=0.18000000000000002; total time=   0.1s\n",
      "[CV] END ..........................alpha=0.18000000000000002; total time=   0.1s\n",
      "[CV] END ..........................alpha=0.18000000000000002; total time=   0.2s\n",
      "[CV] END ..........................alpha=0.18000000000000002; total time=   0.2s\n",
      "[CV] END ..........................alpha=0.18000000000000002; total time=   0.2s\n",
      "[CV] END ..........................alpha=0.18000000000000002; total time=   0.2s\n",
      "[CV] END ..........................alpha=0.18000000000000002; total time=   0.2s\n",
      "[CV] END ..........................alpha=0.18000000000000002; total time=   0.1s\n",
      "[CV] END .........................................alpha=0.19; total time=   0.1s\n",
      "[CV] END .........................................alpha=0.19; total time=   0.1s\n",
      "[CV] END .........................................alpha=0.19; total time=   0.2s\n",
      "[CV] END .........................................alpha=0.19; total time=   0.1s\n",
      "[CV] END .........................................alpha=0.19; total time=   0.1s\n",
      "[CV] END .........................................alpha=0.19; total time=   0.2s\n",
      "[CV] END .........................................alpha=0.19; total time=   0.2s\n",
      "[CV] END .........................................alpha=0.19; total time=   0.2s\n",
      "[CV] END .........................................alpha=0.19; total time=   0.2s\n",
      "[CV] END .........................................alpha=0.19; total time=   0.2s\n",
      "[CV] END ..........................................alpha=0.2; total time=   0.2s\n",
      "[CV] END ..........................................alpha=0.2; total time=   0.2s\n",
      "[CV] END ..........................................alpha=0.2; total time=   0.2s\n",
      "[CV] END ..........................................alpha=0.2; total time=   0.2s\n",
      "[CV] END ..........................................alpha=0.2; total time=   0.2s\n",
      "[CV] END ..........................................alpha=0.2; total time=   0.2s\n",
      "[CV] END ..........................................alpha=0.2; total time=   0.2s\n",
      "[CV] END ..........................................alpha=0.2; total time=   0.2s\n",
      "[CV] END ..........................................alpha=0.2; total time=   0.2s\n",
      "[CV] END ..........................................alpha=0.2; total time=   0.3s\n",
      "[CV] END ..........................alpha=0.21000000000000002; total time=   0.2s\n",
      "[CV] END ..........................alpha=0.21000000000000002; total time=   0.2s\n",
      "[CV] END ..........................alpha=0.21000000000000002; total time=   0.2s\n"
     ]
    },
    {
     "name": "stdout",
     "output_type": "stream",
     "text": [
      "[CV] END ..........................alpha=0.21000000000000002; total time=   0.2s\n",
      "[CV] END ..........................alpha=0.21000000000000002; total time=   0.2s\n",
      "[CV] END ..........................alpha=0.21000000000000002; total time=   0.2s\n",
      "[CV] END ..........................alpha=0.21000000000000002; total time=   0.2s\n",
      "[CV] END ..........................alpha=0.21000000000000002; total time=   0.2s\n",
      "[CV] END ..........................alpha=0.21000000000000002; total time=   0.2s\n",
      "[CV] END ..........................alpha=0.21000000000000002; total time=   0.2s\n",
      "[CV] END .........................................alpha=0.22; total time=   0.2s\n",
      "[CV] END .........................................alpha=0.22; total time=   0.2s\n",
      "[CV] END .........................................alpha=0.22; total time=   0.2s\n",
      "[CV] END .........................................alpha=0.22; total time=   0.2s\n",
      "[CV] END .........................................alpha=0.22; total time=   0.2s\n",
      "[CV] END .........................................alpha=0.22; total time=   0.2s\n",
      "[CV] END .........................................alpha=0.22; total time=   0.2s\n",
      "[CV] END .........................................alpha=0.22; total time=   0.2s\n",
      "[CV] END .........................................alpha=0.22; total time=   0.2s\n",
      "[CV] END .........................................alpha=0.22; total time=   0.2s\n",
      "[CV] END .........................................alpha=0.23; total time=   0.2s\n",
      "[CV] END .........................................alpha=0.23; total time=   0.2s\n",
      "[CV] END .........................................alpha=0.23; total time=   0.2s\n",
      "[CV] END .........................................alpha=0.23; total time=   0.1s\n",
      "[CV] END .........................................alpha=0.23; total time=   0.2s\n",
      "[CV] END .........................................alpha=0.23; total time=   0.2s\n",
      "[CV] END .........................................alpha=0.23; total time=   0.2s\n",
      "[CV] END .........................................alpha=0.23; total time=   0.1s\n",
      "[CV] END .........................................alpha=0.23; total time=   0.2s\n",
      "[CV] END .........................................alpha=0.23; total time=   0.1s\n",
      "[CV] END ..........................alpha=0.24000000000000002; total time=   0.2s\n",
      "[CV] END ..........................alpha=0.24000000000000002; total time=   0.2s\n",
      "[CV] END ..........................alpha=0.24000000000000002; total time=   0.2s\n",
      "[CV] END ..........................alpha=0.24000000000000002; total time=   0.1s\n",
      "[CV] END ..........................alpha=0.24000000000000002; total time=   0.2s\n",
      "[CV] END ..........................alpha=0.24000000000000002; total time=   0.2s\n",
      "[CV] END ..........................alpha=0.24000000000000002; total time=   0.2s\n",
      "[CV] END ..........................alpha=0.24000000000000002; total time=   0.1s\n",
      "[CV] END ..........................alpha=0.24000000000000002; total time=   0.1s\n",
      "[CV] END ..........................alpha=0.24000000000000002; total time=   0.2s\n",
      "[CV] END .........................................alpha=0.25; total time=   0.2s\n",
      "[CV] END .........................................alpha=0.25; total time=   0.2s\n",
      "[CV] END .........................................alpha=0.25; total time=   0.2s\n",
      "[CV] END .........................................alpha=0.25; total time=   0.2s\n",
      "[CV] END .........................................alpha=0.25; total time=   0.2s\n",
      "[CV] END .........................................alpha=0.25; total time=   0.2s\n",
      "[CV] END .........................................alpha=0.25; total time=   0.2s\n",
      "[CV] END .........................................alpha=0.25; total time=   0.2s\n",
      "[CV] END .........................................alpha=0.25; total time=   0.2s\n",
      "[CV] END .........................................alpha=0.25; total time=   0.1s\n",
      "[CV] END .........................................alpha=0.26; total time=   0.2s\n",
      "[CV] END .........................................alpha=0.26; total time=   0.1s\n",
      "[CV] END .........................................alpha=0.26; total time=   0.1s\n",
      "[CV] END .........................................alpha=0.26; total time=   0.2s\n",
      "[CV] END .........................................alpha=0.26; total time=   0.2s\n",
      "[CV] END .........................................alpha=0.26; total time=   0.2s\n",
      "[CV] END .........................................alpha=0.26; total time=   0.2s\n",
      "[CV] END .........................................alpha=0.26; total time=   0.2s\n",
      "[CV] END .........................................alpha=0.26; total time=   0.1s\n",
      "[CV] END .........................................alpha=0.26; total time=   0.2s\n",
      "[CV] END .........................................alpha=0.27; total time=   0.2s\n",
      "[CV] END .........................................alpha=0.27; total time=   0.2s\n",
      "[CV] END .........................................alpha=0.27; total time=   0.2s\n",
      "[CV] END .........................................alpha=0.27; total time=   0.1s\n",
      "[CV] END .........................................alpha=0.27; total time=   0.2s\n",
      "[CV] END .........................................alpha=0.27; total time=   0.2s\n",
      "[CV] END .........................................alpha=0.27; total time=   0.1s\n",
      "[CV] END .........................................alpha=0.27; total time=   0.2s\n",
      "[CV] END .........................................alpha=0.27; total time=   0.2s\n",
      "[CV] END .........................................alpha=0.27; total time=   0.2s\n",
      "[CV] END .........................................alpha=0.28; total time=   0.2s\n",
      "[CV] END .........................................alpha=0.28; total time=   0.1s\n",
      "[CV] END .........................................alpha=0.28; total time=   0.0s\n",
      "[CV] END .........................................alpha=0.28; total time=   0.1s\n",
      "[CV] END .........................................alpha=0.28; total time=   0.2s\n",
      "[CV] END .........................................alpha=0.28; total time=   0.2s\n",
      "[CV] END .........................................alpha=0.28; total time=   0.1s\n",
      "[CV] END .........................................alpha=0.28; total time=   0.2s\n",
      "[CV] END .........................................alpha=0.28; total time=   0.2s\n",
      "[CV] END .........................................alpha=0.28; total time=   0.1s\n",
      "[CV] END ..........................alpha=0.29000000000000004; total time=   0.2s\n",
      "[CV] END ..........................alpha=0.29000000000000004; total time=   0.1s\n",
      "[CV] END ..........................alpha=0.29000000000000004; total time=   0.1s\n",
      "[CV] END ..........................alpha=0.29000000000000004; total time=   0.2s\n",
      "[CV] END ..........................alpha=0.29000000000000004; total time=   0.2s\n",
      "[CV] END ..........................alpha=0.29000000000000004; total time=   0.2s\n",
      "[CV] END ..........................alpha=0.29000000000000004; total time=   0.1s\n",
      "[CV] END ..........................alpha=0.29000000000000004; total time=   0.1s\n",
      "[CV] END ..........................alpha=0.29000000000000004; total time=   0.1s\n",
      "[CV] END ..........................alpha=0.29000000000000004; total time=   0.2s\n",
      "[CV] END ..........................................alpha=0.3; total time=   0.2s\n",
      "[CV] END ..........................................alpha=0.3; total time=   0.2s\n",
      "[CV] END ..........................................alpha=0.3; total time=   0.1s\n",
      "[CV] END ..........................................alpha=0.3; total time=   0.1s\n",
      "[CV] END ..........................................alpha=0.3; total time=   0.2s\n",
      "[CV] END ..........................................alpha=0.3; total time=   0.1s\n",
      "[CV] END ..........................................alpha=0.3; total time=   0.1s\n",
      "[CV] END ..........................................alpha=0.3; total time=   0.1s\n",
      "[CV] END ..........................................alpha=0.3; total time=   0.1s\n",
      "[CV] END ..........................................alpha=0.3; total time=   0.1s\n",
      "[CV] END .........................................alpha=0.31; total time=   0.1s\n",
      "[CV] END .........................................alpha=0.31; total time=   0.1s\n",
      "[CV] END .........................................alpha=0.31; total time=   0.1s\n",
      "[CV] END .........................................alpha=0.31; total time=   0.1s\n",
      "[CV] END .........................................alpha=0.31; total time=   0.2s\n"
     ]
    },
    {
     "name": "stdout",
     "output_type": "stream",
     "text": [
      "[CV] END .........................................alpha=0.31; total time=   0.2s\n",
      "[CV] END .........................................alpha=0.31; total time=   0.1s\n",
      "[CV] END .........................................alpha=0.31; total time=   0.1s\n",
      "[CV] END .........................................alpha=0.31; total time=   0.1s\n",
      "[CV] END .........................................alpha=0.31; total time=   0.1s\n",
      "[CV] END .........................................alpha=0.32; total time=   0.1s\n",
      "[CV] END .........................................alpha=0.32; total time=   0.2s\n",
      "[CV] END .........................................alpha=0.32; total time=   0.1s\n",
      "[CV] END .........................................alpha=0.32; total time=   0.1s\n",
      "[CV] END .........................................alpha=0.32; total time=   0.1s\n",
      "[CV] END .........................................alpha=0.32; total time=   0.1s\n",
      "[CV] END .........................................alpha=0.32; total time=   0.1s\n",
      "[CV] END .........................................alpha=0.32; total time=   0.1s\n",
      "[CV] END .........................................alpha=0.32; total time=   0.1s\n",
      "[CV] END .........................................alpha=0.32; total time=   0.1s\n",
      "[CV] END .........................................alpha=0.33; total time=   0.1s\n",
      "[CV] END .........................................alpha=0.33; total time=   0.1s\n",
      "[CV] END .........................................alpha=0.33; total time=   0.1s\n",
      "[CV] END .........................................alpha=0.33; total time=   0.1s\n",
      "[CV] END .........................................alpha=0.33; total time=   0.1s\n",
      "[CV] END .........................................alpha=0.33; total time=   0.1s\n",
      "[CV] END .........................................alpha=0.33; total time=   0.1s\n",
      "[CV] END .........................................alpha=0.33; total time=   0.2s\n",
      "[CV] END .........................................alpha=0.33; total time=   0.1s\n",
      "[CV] END .........................................alpha=0.33; total time=   0.0s\n",
      "[CV] END .........................................alpha=0.34; total time=   0.2s\n",
      "[CV] END .........................................alpha=0.34; total time=   0.2s\n",
      "[CV] END .........................................alpha=0.34; total time=   0.1s\n",
      "[CV] END .........................................alpha=0.34; total time=   0.1s\n",
      "[CV] END .........................................alpha=0.34; total time=   0.1s\n",
      "[CV] END .........................................alpha=0.34; total time=   0.1s\n",
      "[CV] END .........................................alpha=0.34; total time=   0.1s\n",
      "[CV] END .........................................alpha=0.34; total time=   0.1s\n",
      "[CV] END .........................................alpha=0.34; total time=   0.1s\n",
      "[CV] END .........................................alpha=0.34; total time=   0.1s\n",
      "[CV] END ..........................alpha=0.35000000000000003; total time=   0.1s\n",
      "[CV] END ..........................alpha=0.35000000000000003; total time=   0.1s\n",
      "[CV] END ..........................alpha=0.35000000000000003; total time=   0.1s\n",
      "[CV] END ..........................alpha=0.35000000000000003; total time=   0.1s\n",
      "[CV] END ..........................alpha=0.35000000000000003; total time=   0.1s\n",
      "[CV] END ..........................alpha=0.35000000000000003; total time=   0.1s\n",
      "[CV] END ..........................alpha=0.35000000000000003; total time=   0.1s\n",
      "[CV] END ..........................alpha=0.35000000000000003; total time=   0.1s\n",
      "[CV] END ..........................alpha=0.35000000000000003; total time=   0.1s\n",
      "[CV] END ..........................alpha=0.35000000000000003; total time=   0.1s\n",
      "[CV] END ..........................alpha=0.36000000000000004; total time=   0.1s\n",
      "[CV] END ..........................alpha=0.36000000000000004; total time=   0.1s\n",
      "[CV] END ..........................alpha=0.36000000000000004; total time=   0.1s\n",
      "[CV] END ..........................alpha=0.36000000000000004; total time=   0.1s\n",
      "[CV] END ..........................alpha=0.36000000000000004; total time=   0.1s\n",
      "[CV] END ..........................alpha=0.36000000000000004; total time=   0.1s\n",
      "[CV] END ..........................alpha=0.36000000000000004; total time=   0.1s\n",
      "[CV] END ..........................alpha=0.36000000000000004; total time=   0.1s\n",
      "[CV] END ..........................alpha=0.36000000000000004; total time=   0.1s\n",
      "[CV] END ..........................alpha=0.36000000000000004; total time=   0.1s\n",
      "[CV] END .........................................alpha=0.37; total time=   0.1s\n",
      "[CV] END .........................................alpha=0.37; total time=   0.1s\n",
      "[CV] END .........................................alpha=0.37; total time=   0.1s\n",
      "[CV] END .........................................alpha=0.37; total time=   0.1s\n",
      "[CV] END .........................................alpha=0.37; total time=   0.0s\n",
      "[CV] END .........................................alpha=0.37; total time=   0.1s\n",
      "[CV] END .........................................alpha=0.37; total time=   0.1s\n",
      "[CV] END .........................................alpha=0.37; total time=   0.1s\n",
      "[CV] END .........................................alpha=0.37; total time=   0.1s\n",
      "[CV] END .........................................alpha=0.37; total time=   0.1s\n",
      "[CV] END .........................................alpha=0.38; total time=   0.1s\n",
      "[CV] END .........................................alpha=0.38; total time=   0.1s\n",
      "[CV] END .........................................alpha=0.38; total time=   0.1s\n",
      "[CV] END .........................................alpha=0.38; total time=   0.1s\n",
      "[CV] END .........................................alpha=0.38; total time=   0.1s\n",
      "[CV] END .........................................alpha=0.38; total time=   0.0s\n",
      "[CV] END .........................................alpha=0.38; total time=   0.1s\n",
      "[CV] END .........................................alpha=0.38; total time=   0.1s\n",
      "[CV] END .........................................alpha=0.38; total time=   0.1s\n",
      "[CV] END .........................................alpha=0.38; total time=   0.1s\n",
      "[CV] END .........................................alpha=0.39; total time=   0.1s\n",
      "[CV] END .........................................alpha=0.39; total time=   0.1s\n",
      "[CV] END .........................................alpha=0.39; total time=   0.1s\n",
      "[CV] END .........................................alpha=0.39; total time=   0.1s\n",
      "[CV] END .........................................alpha=0.39; total time=   0.1s\n",
      "[CV] END .........................................alpha=0.39; total time=   0.0s\n",
      "[CV] END .........................................alpha=0.39; total time=   0.0s\n",
      "[CV] END .........................................alpha=0.39; total time=   0.1s\n",
      "[CV] END .........................................alpha=0.39; total time=   0.1s\n",
      "[CV] END .........................................alpha=0.39; total time=   0.1s\n",
      "[CV] END ..........................................alpha=0.4; total time=   0.1s\n",
      "[CV] END ..........................................alpha=0.4; total time=   0.1s\n",
      "[CV] END ..........................................alpha=0.4; total time=   0.1s\n",
      "[CV] END ..........................................alpha=0.4; total time=   0.1s\n",
      "[CV] END ..........................................alpha=0.4; total time=   0.1s\n",
      "[CV] END ..........................................alpha=0.4; total time=   0.1s\n",
      "[CV] END ..........................................alpha=0.4; total time=   0.1s\n",
      "[CV] END ..........................................alpha=0.4; total time=   0.0s\n",
      "[CV] END ..........................................alpha=0.4; total time=   0.1s\n",
      "[CV] END ..........................................alpha=0.4; total time=   0.1s\n",
      "[CV] END ..........................alpha=0.41000000000000003; total time=   0.1s\n",
      "[CV] END ..........................alpha=0.41000000000000003; total time=   0.1s\n",
      "[CV] END ..........................alpha=0.41000000000000003; total time=   0.1s\n",
      "[CV] END ..........................alpha=0.41000000000000003; total time=   0.1s\n",
      "[CV] END ..........................alpha=0.41000000000000003; total time=   0.1s\n",
      "[CV] END ..........................alpha=0.41000000000000003; total time=   0.1s\n",
      "[CV] END ..........................alpha=0.41000000000000003; total time=   0.1s\n"
     ]
    },
    {
     "name": "stdout",
     "output_type": "stream",
     "text": [
      "[CV] END ..........................alpha=0.41000000000000003; total time=   0.1s\n",
      "[CV] END ..........................alpha=0.41000000000000003; total time=   0.1s\n",
      "[CV] END ..........................alpha=0.41000000000000003; total time=   0.1s\n",
      "[CV] END ..........................alpha=0.42000000000000004; total time=   0.1s\n",
      "[CV] END ..........................alpha=0.42000000000000004; total time=   0.1s\n",
      "[CV] END ..........................alpha=0.42000000000000004; total time=   0.1s\n",
      "[CV] END ..........................alpha=0.42000000000000004; total time=   0.0s\n",
      "[CV] END ..........................alpha=0.42000000000000004; total time=   0.1s\n",
      "[CV] END ..........................alpha=0.42000000000000004; total time=   0.1s\n",
      "[CV] END ..........................alpha=0.42000000000000004; total time=   0.0s\n",
      "[CV] END ..........................alpha=0.42000000000000004; total time=   0.1s\n",
      "[CV] END ..........................alpha=0.42000000000000004; total time=   0.1s\n",
      "[CV] END ..........................alpha=0.42000000000000004; total time=   0.1s\n",
      "[CV] END .........................................alpha=0.43; total time=   0.1s\n",
      "[CV] END .........................................alpha=0.43; total time=   0.0s\n",
      "[CV] END .........................................alpha=0.43; total time=   0.1s\n",
      "[CV] END .........................................alpha=0.43; total time=   0.1s\n",
      "[CV] END .........................................alpha=0.43; total time=   0.1s\n",
      "[CV] END .........................................alpha=0.43; total time=   0.1s\n",
      "[CV] END .........................................alpha=0.43; total time=   0.1s\n",
      "[CV] END .........................................alpha=0.43; total time=   0.1s\n",
      "[CV] END .........................................alpha=0.43; total time=   0.1s\n",
      "[CV] END .........................................alpha=0.43; total time=   0.0s\n",
      "[CV] END .........................................alpha=0.44; total time=   0.1s\n",
      "[CV] END .........................................alpha=0.44; total time=   0.1s\n",
      "[CV] END .........................................alpha=0.44; total time=   0.1s\n",
      "[CV] END .........................................alpha=0.44; total time=   0.0s\n",
      "[CV] END .........................................alpha=0.44; total time=   0.1s\n",
      "[CV] END .........................................alpha=0.44; total time=   0.1s\n",
      "[CV] END .........................................alpha=0.44; total time=   0.1s\n",
      "[CV] END .........................................alpha=0.44; total time=   0.1s\n",
      "[CV] END .........................................alpha=0.44; total time=   0.1s\n",
      "[CV] END .........................................alpha=0.44; total time=   0.0s\n",
      "[CV] END .........................................alpha=0.45; total time=   0.1s\n",
      "[CV] END .........................................alpha=0.45; total time=   0.1s\n",
      "[CV] END .........................................alpha=0.45; total time=   0.0s\n",
      "[CV] END .........................................alpha=0.45; total time=   0.0s\n",
      "[CV] END .........................................alpha=0.45; total time=   0.1s\n",
      "[CV] END .........................................alpha=0.45; total time=   0.0s\n",
      "[CV] END .........................................alpha=0.45; total time=   0.1s\n",
      "[CV] END .........................................alpha=0.45; total time=   0.0s\n",
      "[CV] END .........................................alpha=0.45; total time=   0.0s\n",
      "[CV] END .........................................alpha=0.45; total time=   0.0s\n",
      "[CV] END .........................................alpha=0.46; total time=   0.1s\n",
      "[CV] END .........................................alpha=0.46; total time=   0.0s\n",
      "[CV] END .........................................alpha=0.46; total time=   0.1s\n",
      "[CV] END .........................................alpha=0.46; total time=   0.1s\n",
      "[CV] END .........................................alpha=0.46; total time=   0.1s\n",
      "[CV] END .........................................alpha=0.46; total time=   0.1s\n",
      "[CV] END .........................................alpha=0.46; total time=   0.1s\n",
      "[CV] END .........................................alpha=0.46; total time=   0.1s\n",
      "[CV] END .........................................alpha=0.46; total time=   0.1s\n",
      "[CV] END .........................................alpha=0.46; total time=   0.1s\n",
      "[CV] END ..........................alpha=0.47000000000000003; total time=   0.1s\n",
      "[CV] END ..........................alpha=0.47000000000000003; total time=   0.0s\n",
      "[CV] END ..........................alpha=0.47000000000000003; total time=   0.0s\n",
      "[CV] END ..........................alpha=0.47000000000000003; total time=   0.1s\n",
      "[CV] END ..........................alpha=0.47000000000000003; total time=   0.1s\n",
      "[CV] END ..........................alpha=0.47000000000000003; total time=   0.1s\n",
      "[CV] END ..........................alpha=0.47000000000000003; total time=   0.1s\n",
      "[CV] END ..........................alpha=0.47000000000000003; total time=   0.0s\n",
      "[CV] END ..........................alpha=0.47000000000000003; total time=   0.0s\n",
      "[CV] END ..........................alpha=0.47000000000000003; total time=   0.1s\n",
      "[CV] END ..........................alpha=0.48000000000000004; total time=   0.0s\n",
      "[CV] END ..........................alpha=0.48000000000000004; total time=   0.1s\n",
      "[CV] END ..........................alpha=0.48000000000000004; total time=   0.0s\n",
      "[CV] END ..........................alpha=0.48000000000000004; total time=   0.0s\n",
      "[CV] END ..........................alpha=0.48000000000000004; total time=   0.0s\n",
      "[CV] END ..........................alpha=0.48000000000000004; total time=   0.1s\n",
      "[CV] END ..........................alpha=0.48000000000000004; total time=   0.0s\n",
      "[CV] END ..........................alpha=0.48000000000000004; total time=   0.0s\n",
      "[CV] END ..........................alpha=0.48000000000000004; total time=   0.0s\n",
      "[CV] END ..........................alpha=0.48000000000000004; total time=   0.0s\n",
      "[CV] END .........................................alpha=0.49; total time=   0.1s\n",
      "[CV] END .........................................alpha=0.49; total time=   0.0s\n",
      "[CV] END .........................................alpha=0.49; total time=   0.0s\n",
      "[CV] END .........................................alpha=0.49; total time=   0.1s\n",
      "[CV] END .........................................alpha=0.49; total time=   0.0s\n",
      "[CV] END .........................................alpha=0.49; total time=   0.1s\n",
      "[CV] END .........................................alpha=0.49; total time=   0.1s\n",
      "[CV] END .........................................alpha=0.49; total time=   0.0s\n",
      "[CV] END .........................................alpha=0.49; total time=   0.0s\n",
      "[CV] END .........................................alpha=0.49; total time=   0.0s\n",
      "[CV] END ..........................................alpha=0.5; total time=   0.0s\n",
      "[CV] END ..........................................alpha=0.5; total time=   0.1s\n",
      "[CV] END ..........................................alpha=0.5; total time=   0.0s\n",
      "[CV] END ..........................................alpha=0.5; total time=   0.0s\n",
      "[CV] END ..........................................alpha=0.5; total time=   0.1s\n",
      "[CV] END ..........................................alpha=0.5; total time=   0.0s\n",
      "[CV] END ..........................................alpha=0.5; total time=   0.0s\n",
      "[CV] END ..........................................alpha=0.5; total time=   0.0s\n",
      "[CV] END ..........................................alpha=0.5; total time=   0.1s\n",
      "[CV] END ..........................................alpha=0.5; total time=   0.1s\n",
      "[CV] END .........................................alpha=0.51; total time=   0.0s\n",
      "[CV] END .........................................alpha=0.51; total time=   0.0s\n",
      "[CV] END .........................................alpha=0.51; total time=   0.1s\n",
      "[CV] END .........................................alpha=0.51; total time=   0.1s\n",
      "[CV] END .........................................alpha=0.51; total time=   0.1s\n",
      "[CV] END .........................................alpha=0.51; total time=   0.0s\n",
      "[CV] END .........................................alpha=0.51; total time=   0.1s\n",
      "[CV] END .........................................alpha=0.51; total time=   0.0s\n",
      "[CV] END .........................................alpha=0.51; total time=   0.1s\n",
      "[CV] END .........................................alpha=0.51; total time=   0.1s\n"
     ]
    },
    {
     "name": "stdout",
     "output_type": "stream",
     "text": [
      "[CV] END .........................................alpha=0.52; total time=   0.0s\n",
      "[CV] END .........................................alpha=0.52; total time=   0.1s\n",
      "[CV] END .........................................alpha=0.52; total time=   0.1s\n",
      "[CV] END .........................................alpha=0.52; total time=   0.1s\n",
      "[CV] END .........................................alpha=0.52; total time=   0.1s\n",
      "[CV] END .........................................alpha=0.52; total time=   0.1s\n",
      "[CV] END .........................................alpha=0.52; total time=   0.1s\n",
      "[CV] END .........................................alpha=0.52; total time=   0.1s\n",
      "[CV] END .........................................alpha=0.52; total time=   0.0s\n",
      "[CV] END .........................................alpha=0.52; total time=   0.1s\n",
      "[CV] END .........................................alpha=0.53; total time=   0.0s\n",
      "[CV] END .........................................alpha=0.53; total time=   0.1s\n",
      "[CV] END .........................................alpha=0.53; total time=   0.1s\n",
      "[CV] END .........................................alpha=0.53; total time=   0.0s\n",
      "[CV] END .........................................alpha=0.53; total time=   0.0s\n",
      "[CV] END .........................................alpha=0.53; total time=   0.1s\n",
      "[CV] END .........................................alpha=0.53; total time=   0.0s\n",
      "[CV] END .........................................alpha=0.53; total time=   0.0s\n",
      "[CV] END .........................................alpha=0.53; total time=   0.1s\n",
      "[CV] END .........................................alpha=0.53; total time=   0.0s\n",
      "[CV] END .........................................alpha=0.54; total time=   0.1s\n",
      "[CV] END .........................................alpha=0.54; total time=   0.0s\n",
      "[CV] END .........................................alpha=0.54; total time=   0.0s\n",
      "[CV] END .........................................alpha=0.54; total time=   0.1s\n",
      "[CV] END .........................................alpha=0.54; total time=   0.1s\n",
      "[CV] END .........................................alpha=0.54; total time=   0.1s\n",
      "[CV] END .........................................alpha=0.54; total time=   0.1s\n",
      "[CV] END .........................................alpha=0.54; total time=   0.1s\n",
      "[CV] END .........................................alpha=0.54; total time=   0.0s\n",
      "[CV] END .........................................alpha=0.54; total time=   0.1s\n",
      "[CV] END .........................................alpha=0.55; total time=   0.1s\n",
      "[CV] END .........................................alpha=0.55; total time=   0.1s\n",
      "[CV] END .........................................alpha=0.55; total time=   0.1s\n",
      "[CV] END .........................................alpha=0.55; total time=   0.0s\n",
      "[CV] END .........................................alpha=0.55; total time=   0.1s\n",
      "[CV] END .........................................alpha=0.55; total time=   0.0s\n",
      "[CV] END .........................................alpha=0.55; total time=   0.0s\n",
      "[CV] END .........................................alpha=0.55; total time=   0.0s\n",
      "[CV] END .........................................alpha=0.55; total time=   0.0s\n",
      "[CV] END .........................................alpha=0.55; total time=   0.1s\n",
      "[CV] END .........................................alpha=0.56; total time=   0.1s\n",
      "[CV] END .........................................alpha=0.56; total time=   0.0s\n",
      "[CV] END .........................................alpha=0.56; total time=   0.0s\n",
      "[CV] END .........................................alpha=0.56; total time=   0.0s\n",
      "[CV] END .........................................alpha=0.56; total time=   0.0s\n",
      "[CV] END .........................................alpha=0.56; total time=   0.0s\n",
      "[CV] END .........................................alpha=0.56; total time=   0.0s\n",
      "[CV] END .........................................alpha=0.56; total time=   0.1s\n",
      "[CV] END .........................................alpha=0.56; total time=   0.0s\n",
      "[CV] END .........................................alpha=0.56; total time=   0.0s\n",
      "[CV] END ...........................alpha=0.5700000000000001; total time=   0.1s\n",
      "[CV] END ...........................alpha=0.5700000000000001; total time=   0.1s\n",
      "[CV] END ...........................alpha=0.5700000000000001; total time=   0.0s\n",
      "[CV] END ...........................alpha=0.5700000000000001; total time=   0.0s\n",
      "[CV] END ...........................alpha=0.5700000000000001; total time=   0.0s\n",
      "[CV] END ...........................alpha=0.5700000000000001; total time=   0.0s\n",
      "[CV] END ...........................alpha=0.5700000000000001; total time=   0.1s\n",
      "[CV] END ...........................alpha=0.5700000000000001; total time=   0.1s\n",
      "[CV] END ...........................alpha=0.5700000000000001; total time=   0.0s\n",
      "[CV] END ...........................alpha=0.5700000000000001; total time=   0.0s\n",
      "[CV] END ...........................alpha=0.5800000000000001; total time=   0.0s\n",
      "[CV] END ...........................alpha=0.5800000000000001; total time=   0.0s\n",
      "[CV] END ...........................alpha=0.5800000000000001; total time=   0.0s\n",
      "[CV] END ...........................alpha=0.5800000000000001; total time=   0.0s\n",
      "[CV] END ...........................alpha=0.5800000000000001; total time=   0.0s\n",
      "[CV] END ...........................alpha=0.5800000000000001; total time=   0.0s\n",
      "[CV] END ...........................alpha=0.5800000000000001; total time=   0.0s\n",
      "[CV] END ...........................alpha=0.5800000000000001; total time=   0.0s\n",
      "[CV] END ...........................alpha=0.5800000000000001; total time=   0.0s\n",
      "[CV] END ...........................alpha=0.5800000000000001; total time=   0.0s\n",
      "[CV] END .........................................alpha=0.59; total time=   0.0s\n",
      "[CV] END .........................................alpha=0.59; total time=   0.0s\n",
      "[CV] END .........................................alpha=0.59; total time=   0.0s\n",
      "[CV] END .........................................alpha=0.59; total time=   0.0s\n",
      "[CV] END .........................................alpha=0.59; total time=   0.0s\n",
      "[CV] END .........................................alpha=0.59; total time=   0.0s\n",
      "[CV] END .........................................alpha=0.59; total time=   0.0s\n",
      "[CV] END .........................................alpha=0.59; total time=   0.0s\n",
      "[CV] END .........................................alpha=0.59; total time=   0.0s\n",
      "[CV] END .........................................alpha=0.59; total time=   0.0s\n",
      "[CV] END ..........................................alpha=0.6; total time=   0.0s\n",
      "[CV] END ..........................................alpha=0.6; total time=   0.0s\n",
      "[CV] END ..........................................alpha=0.6; total time=   0.0s\n",
      "[CV] END ..........................................alpha=0.6; total time=   0.0s\n",
      "[CV] END ..........................................alpha=0.6; total time=   0.0s\n",
      "[CV] END ..........................................alpha=0.6; total time=   0.0s\n",
      "[CV] END ..........................................alpha=0.6; total time=   0.0s\n",
      "[CV] END ..........................................alpha=0.6; total time=   0.0s\n",
      "[CV] END ..........................................alpha=0.6; total time=   0.0s\n",
      "[CV] END ..........................................alpha=0.6; total time=   0.0s\n",
      "[CV] END .........................................alpha=0.61; total time=   0.0s\n",
      "[CV] END .........................................alpha=0.61; total time=   0.1s\n",
      "[CV] END .........................................alpha=0.61; total time=   0.0s\n",
      "[CV] END .........................................alpha=0.61; total time=   0.0s\n",
      "[CV] END .........................................alpha=0.61; total time=   0.0s\n",
      "[CV] END .........................................alpha=0.61; total time=   0.0s\n",
      "[CV] END .........................................alpha=0.61; total time=   0.0s\n",
      "[CV] END .........................................alpha=0.61; total time=   0.0s\n",
      "[CV] END .........................................alpha=0.61; total time=   0.0s\n",
      "[CV] END .........................................alpha=0.61; total time=   0.0s\n",
      "[CV] END .........................................alpha=0.62; total time=   0.0s\n",
      "[CV] END .........................................alpha=0.62; total time=   0.0s\n",
      "[CV] END .........................................alpha=0.62; total time=   0.0s\n"
     ]
    },
    {
     "name": "stdout",
     "output_type": "stream",
     "text": [
      "[CV] END .........................................alpha=0.62; total time=   0.1s\n",
      "[CV] END .........................................alpha=0.62; total time=   0.1s\n",
      "[CV] END .........................................alpha=0.62; total time=   0.0s\n",
      "[CV] END .........................................alpha=0.62; total time=   0.0s\n",
      "[CV] END .........................................alpha=0.62; total time=   0.0s\n",
      "[CV] END .........................................alpha=0.62; total time=   0.0s\n",
      "[CV] END .........................................alpha=0.62; total time=   0.0s\n",
      "[CV] END .........................................alpha=0.63; total time=   0.0s\n",
      "[CV] END .........................................alpha=0.63; total time=   0.0s\n",
      "[CV] END .........................................alpha=0.63; total time=   0.0s\n",
      "[CV] END .........................................alpha=0.63; total time=   0.0s\n",
      "[CV] END .........................................alpha=0.63; total time=   0.0s\n",
      "[CV] END .........................................alpha=0.63; total time=   0.0s\n",
      "[CV] END .........................................alpha=0.63; total time=   0.0s\n",
      "[CV] END .........................................alpha=0.63; total time=   0.0s\n",
      "[CV] END .........................................alpha=0.63; total time=   0.0s\n",
      "[CV] END .........................................alpha=0.63; total time=   0.0s\n",
      "[CV] END .........................................alpha=0.64; total time=   0.0s\n",
      "[CV] END .........................................alpha=0.64; total time=   0.0s\n",
      "[CV] END .........................................alpha=0.64; total time=   0.0s\n",
      "[CV] END .........................................alpha=0.64; total time=   0.0s\n",
      "[CV] END .........................................alpha=0.64; total time=   0.0s\n",
      "[CV] END .........................................alpha=0.64; total time=   0.0s\n",
      "[CV] END .........................................alpha=0.64; total time=   0.0s\n",
      "[CV] END .........................................alpha=0.64; total time=   0.0s\n",
      "[CV] END .........................................alpha=0.64; total time=   0.0s\n",
      "[CV] END .........................................alpha=0.64; total time=   0.0s\n",
      "[CV] END .........................................alpha=0.65; total time=   0.0s\n",
      "[CV] END .........................................alpha=0.65; total time=   0.0s\n",
      "[CV] END .........................................alpha=0.65; total time=   0.0s\n",
      "[CV] END .........................................alpha=0.65; total time=   0.0s\n",
      "[CV] END .........................................alpha=0.65; total time=   0.0s\n",
      "[CV] END .........................................alpha=0.65; total time=   0.0s\n",
      "[CV] END .........................................alpha=0.65; total time=   0.0s\n",
      "[CV] END .........................................alpha=0.65; total time=   0.0s\n",
      "[CV] END .........................................alpha=0.65; total time=   0.0s\n",
      "[CV] END .........................................alpha=0.65; total time=   0.0s\n",
      "[CV] END .........................................alpha=0.66; total time=   0.0s\n",
      "[CV] END .........................................alpha=0.66; total time=   0.0s\n",
      "[CV] END .........................................alpha=0.66; total time=   0.0s\n",
      "[CV] END .........................................alpha=0.66; total time=   0.0s\n",
      "[CV] END .........................................alpha=0.66; total time=   0.0s\n",
      "[CV] END .........................................alpha=0.66; total time=   0.0s\n",
      "[CV] END .........................................alpha=0.66; total time=   0.0s\n",
      "[CV] END .........................................alpha=0.66; total time=   0.0s\n",
      "[CV] END .........................................alpha=0.66; total time=   0.0s\n",
      "[CV] END .........................................alpha=0.66; total time=   0.0s\n",
      "[CV] END .........................................alpha=0.67; total time=   0.0s\n",
      "[CV] END .........................................alpha=0.67; total time=   0.0s\n",
      "[CV] END .........................................alpha=0.67; total time=   0.0s\n",
      "[CV] END .........................................alpha=0.67; total time=   0.0s\n",
      "[CV] END .........................................alpha=0.67; total time=   0.0s\n",
      "[CV] END .........................................alpha=0.67; total time=   0.0s\n",
      "[CV] END .........................................alpha=0.67; total time=   0.0s\n",
      "[CV] END .........................................alpha=0.67; total time=   0.0s\n",
      "[CV] END .........................................alpha=0.67; total time=   0.0s\n",
      "[CV] END .........................................alpha=0.67; total time=   0.0s\n",
      "[CV] END .........................................alpha=0.68; total time=   0.0s\n",
      "[CV] END .........................................alpha=0.68; total time=   0.0s\n",
      "[CV] END .........................................alpha=0.68; total time=   0.0s\n",
      "[CV] END .........................................alpha=0.68; total time=   0.0s\n",
      "[CV] END .........................................alpha=0.68; total time=   0.0s\n",
      "[CV] END .........................................alpha=0.68; total time=   0.0s\n",
      "[CV] END .........................................alpha=0.68; total time=   0.0s\n",
      "[CV] END .........................................alpha=0.68; total time=   0.0s\n",
      "[CV] END .........................................alpha=0.68; total time=   0.0s\n",
      "[CV] END .........................................alpha=0.68; total time=   0.0s\n",
      "[CV] END ...........................alpha=0.6900000000000001; total time=   0.0s\n",
      "[CV] END ...........................alpha=0.6900000000000001; total time=   0.0s\n",
      "[CV] END ...........................alpha=0.6900000000000001; total time=   0.0s\n",
      "[CV] END ...........................alpha=0.6900000000000001; total time=   0.0s\n",
      "[CV] END ...........................alpha=0.6900000000000001; total time=   0.0s\n",
      "[CV] END ...........................alpha=0.6900000000000001; total time=   0.0s\n",
      "[CV] END ...........................alpha=0.6900000000000001; total time=   0.0s\n",
      "[CV] END ...........................alpha=0.6900000000000001; total time=   0.0s\n",
      "[CV] END ...........................alpha=0.6900000000000001; total time=   0.0s\n",
      "[CV] END ...........................alpha=0.6900000000000001; total time=   0.0s\n",
      "[CV] END ...........................alpha=0.7000000000000001; total time=   0.0s\n",
      "[CV] END ...........................alpha=0.7000000000000001; total time=   0.0s\n",
      "[CV] END ...........................alpha=0.7000000000000001; total time=   0.0s\n",
      "[CV] END ...........................alpha=0.7000000000000001; total time=   0.0s\n",
      "[CV] END ...........................alpha=0.7000000000000001; total time=   0.0s\n",
      "[CV] END ...........................alpha=0.7000000000000001; total time=   0.0s\n",
      "[CV] END ...........................alpha=0.7000000000000001; total time=   0.0s\n",
      "[CV] END ...........................alpha=0.7000000000000001; total time=   0.0s\n",
      "[CV] END ...........................alpha=0.7000000000000001; total time=   0.0s\n",
      "[CV] END ...........................alpha=0.7000000000000001; total time=   0.0s\n",
      "[CV] END ...........................alpha=0.7100000000000001; total time=   0.0s\n",
      "[CV] END ...........................alpha=0.7100000000000001; total time=   0.0s\n",
      "[CV] END ...........................alpha=0.7100000000000001; total time=   0.0s\n",
      "[CV] END ...........................alpha=0.7100000000000001; total time=   0.0s\n",
      "[CV] END ...........................alpha=0.7100000000000001; total time=   0.0s\n",
      "[CV] END ...........................alpha=0.7100000000000001; total time=   0.0s\n",
      "[CV] END ...........................alpha=0.7100000000000001; total time=   0.0s\n",
      "[CV] END ...........................alpha=0.7100000000000001; total time=   0.0s\n",
      "[CV] END ...........................alpha=0.7100000000000001; total time=   0.0s\n",
      "[CV] END ...........................alpha=0.7100000000000001; total time=   0.0s\n",
      "[CV] END .........................................alpha=0.72; total time=   0.0s\n",
      "[CV] END .........................................alpha=0.72; total time=   0.0s\n",
      "[CV] END .........................................alpha=0.72; total time=   0.0s\n",
      "[CV] END .........................................alpha=0.72; total time=   0.0s\n",
      "[CV] END .........................................alpha=0.72; total time=   0.0s\n",
      "[CV] END .........................................alpha=0.72; total time=   0.0s\n"
     ]
    },
    {
     "name": "stdout",
     "output_type": "stream",
     "text": [
      "[CV] END .........................................alpha=0.72; total time=   0.0s\n",
      "[CV] END .........................................alpha=0.72; total time=   0.0s\n",
      "[CV] END .........................................alpha=0.72; total time=   0.0s\n",
      "[CV] END .........................................alpha=0.72; total time=   0.0s\n",
      "[CV] END .........................................alpha=0.73; total time=   0.0s\n",
      "[CV] END .........................................alpha=0.73; total time=   0.0s\n",
      "[CV] END .........................................alpha=0.73; total time=   0.0s\n",
      "[CV] END .........................................alpha=0.73; total time=   0.0s\n",
      "[CV] END .........................................alpha=0.73; total time=   0.0s\n",
      "[CV] END .........................................alpha=0.73; total time=   0.0s\n",
      "[CV] END .........................................alpha=0.73; total time=   0.0s\n",
      "[CV] END .........................................alpha=0.73; total time=   0.0s\n",
      "[CV] END .........................................alpha=0.73; total time=   0.0s\n",
      "[CV] END .........................................alpha=0.73; total time=   0.0s\n",
      "[CV] END .........................................alpha=0.74; total time=   0.0s\n",
      "[CV] END .........................................alpha=0.74; total time=   0.0s\n",
      "[CV] END .........................................alpha=0.74; total time=   0.0s\n",
      "[CV] END .........................................alpha=0.74; total time=   0.0s\n",
      "[CV] END .........................................alpha=0.74; total time=   0.0s\n",
      "[CV] END .........................................alpha=0.74; total time=   0.0s\n",
      "[CV] END .........................................alpha=0.74; total time=   0.0s\n",
      "[CV] END .........................................alpha=0.74; total time=   0.0s\n",
      "[CV] END .........................................alpha=0.74; total time=   0.0s\n",
      "[CV] END .........................................alpha=0.74; total time=   0.0s\n",
      "[CV] END .........................................alpha=0.75; total time=   0.0s\n",
      "[CV] END .........................................alpha=0.75; total time=   0.0s\n",
      "[CV] END .........................................alpha=0.75; total time=   0.0s\n",
      "[CV] END .........................................alpha=0.75; total time=   0.0s\n",
      "[CV] END .........................................alpha=0.75; total time=   0.0s\n",
      "[CV] END .........................................alpha=0.75; total time=   0.0s\n",
      "[CV] END .........................................alpha=0.75; total time=   0.0s\n",
      "[CV] END .........................................alpha=0.75; total time=   0.0s\n",
      "[CV] END .........................................alpha=0.75; total time=   0.0s\n",
      "[CV] END .........................................alpha=0.75; total time=   0.0s\n",
      "[CV] END .........................................alpha=0.76; total time=   0.0s\n",
      "[CV] END .........................................alpha=0.76; total time=   0.0s\n",
      "[CV] END .........................................alpha=0.76; total time=   0.0s\n",
      "[CV] END .........................................alpha=0.76; total time=   0.0s\n",
      "[CV] END .........................................alpha=0.76; total time=   0.0s\n",
      "[CV] END .........................................alpha=0.76; total time=   0.0s\n",
      "[CV] END .........................................alpha=0.76; total time=   0.0s\n",
      "[CV] END .........................................alpha=0.76; total time=   0.0s\n",
      "[CV] END .........................................alpha=0.76; total time=   0.0s\n",
      "[CV] END .........................................alpha=0.76; total time=   0.0s\n",
      "[CV] END .........................................alpha=0.77; total time=   0.0s\n",
      "[CV] END .........................................alpha=0.77; total time=   0.0s\n",
      "[CV] END .........................................alpha=0.77; total time=   0.0s\n",
      "[CV] END .........................................alpha=0.77; total time=   0.0s\n",
      "[CV] END .........................................alpha=0.77; total time=   0.0s\n",
      "[CV] END .........................................alpha=0.77; total time=   0.0s\n",
      "[CV] END .........................................alpha=0.77; total time=   0.0s\n",
      "[CV] END .........................................alpha=0.77; total time=   0.0s\n",
      "[CV] END .........................................alpha=0.77; total time=   0.0s\n",
      "[CV] END .........................................alpha=0.77; total time=   0.0s\n",
      "[CV] END .........................................alpha=0.78; total time=   0.0s\n",
      "[CV] END .........................................alpha=0.78; total time=   0.0s\n",
      "[CV] END .........................................alpha=0.78; total time=   0.0s\n",
      "[CV] END .........................................alpha=0.78; total time=   0.0s\n",
      "[CV] END .........................................alpha=0.78; total time=   0.0s\n",
      "[CV] END .........................................alpha=0.78; total time=   0.0s\n",
      "[CV] END .........................................alpha=0.78; total time=   0.0s\n",
      "[CV] END .........................................alpha=0.78; total time=   0.0s\n",
      "[CV] END .........................................alpha=0.78; total time=   0.0s\n",
      "[CV] END .........................................alpha=0.78; total time=   0.0s\n",
      "[CV] END .........................................alpha=0.79; total time=   0.0s\n",
      "[CV] END .........................................alpha=0.79; total time=   0.0s\n",
      "[CV] END .........................................alpha=0.79; total time=   0.0s\n",
      "[CV] END .........................................alpha=0.79; total time=   0.0s\n",
      "[CV] END .........................................alpha=0.79; total time=   0.0s\n",
      "[CV] END .........................................alpha=0.79; total time=   0.0s\n",
      "[CV] END .........................................alpha=0.79; total time=   0.0s\n",
      "[CV] END .........................................alpha=0.79; total time=   0.0s\n",
      "[CV] END .........................................alpha=0.79; total time=   0.0s\n",
      "[CV] END .........................................alpha=0.79; total time=   0.0s\n",
      "[CV] END ..........................................alpha=0.8; total time=   0.0s\n",
      "[CV] END ..........................................alpha=0.8; total time=   0.0s\n",
      "[CV] END ..........................................alpha=0.8; total time=   0.0s\n",
      "[CV] END ..........................................alpha=0.8; total time=   0.0s\n",
      "[CV] END ..........................................alpha=0.8; total time=   0.0s\n",
      "[CV] END ..........................................alpha=0.8; total time=   0.0s\n",
      "[CV] END ..........................................alpha=0.8; total time=   0.0s\n",
      "[CV] END ..........................................alpha=0.8; total time=   0.0s\n",
      "[CV] END ..........................................alpha=0.8; total time=   0.0s\n",
      "[CV] END ..........................................alpha=0.8; total time=   0.0s\n",
      "[CV] END .........................................alpha=0.81; total time=   0.0s\n",
      "[CV] END .........................................alpha=0.81; total time=   0.0s\n",
      "[CV] END .........................................alpha=0.81; total time=   0.0s\n",
      "[CV] END .........................................alpha=0.81; total time=   0.0s\n",
      "[CV] END .........................................alpha=0.81; total time=   0.0s\n",
      "[CV] END .........................................alpha=0.81; total time=   0.0s\n",
      "[CV] END .........................................alpha=0.81; total time=   0.0s\n",
      "[CV] END .........................................alpha=0.81; total time=   0.0s\n",
      "[CV] END .........................................alpha=0.81; total time=   0.0s\n",
      "[CV] END .........................................alpha=0.81; total time=   0.0s\n",
      "[CV] END ...........................alpha=0.8200000000000001; total time=   0.0s\n",
      "[CV] END ...........................alpha=0.8200000000000001; total time=   0.0s\n",
      "[CV] END ...........................alpha=0.8200000000000001; total time=   0.0s\n",
      "[CV] END ...........................alpha=0.8200000000000001; total time=   0.0s\n",
      "[CV] END ...........................alpha=0.8200000000000001; total time=   0.0s\n",
      "[CV] END ...........................alpha=0.8200000000000001; total time=   0.0s\n",
      "[CV] END ...........................alpha=0.8200000000000001; total time=   0.0s\n",
      "[CV] END ...........................alpha=0.8200000000000001; total time=   0.0s\n"
     ]
    },
    {
     "name": "stdout",
     "output_type": "stream",
     "text": [
      "[CV] END ...........................alpha=0.8200000000000001; total time=   0.0s\n",
      "[CV] END ...........................alpha=0.8200000000000001; total time=   0.0s\n",
      "[CV] END ...........................alpha=0.8300000000000001; total time=   0.0s\n",
      "[CV] END ...........................alpha=0.8300000000000001; total time=   0.0s\n",
      "[CV] END ...........................alpha=0.8300000000000001; total time=   0.0s\n",
      "[CV] END ...........................alpha=0.8300000000000001; total time=   0.0s\n",
      "[CV] END ...........................alpha=0.8300000000000001; total time=   0.0s\n",
      "[CV] END ...........................alpha=0.8300000000000001; total time=   0.0s\n",
      "[CV] END ...........................alpha=0.8300000000000001; total time=   0.0s\n",
      "[CV] END ...........................alpha=0.8300000000000001; total time=   0.0s\n",
      "[CV] END ...........................alpha=0.8300000000000001; total time=   0.0s\n",
      "[CV] END ...........................alpha=0.8300000000000001; total time=   0.0s\n",
      "[CV] END ...........................alpha=0.8400000000000001; total time=   0.0s\n",
      "[CV] END ...........................alpha=0.8400000000000001; total time=   0.0s\n",
      "[CV] END ...........................alpha=0.8400000000000001; total time=   0.0s\n",
      "[CV] END ...........................alpha=0.8400000000000001; total time=   0.0s\n",
      "[CV] END ...........................alpha=0.8400000000000001; total time=   0.0s\n",
      "[CV] END ...........................alpha=0.8400000000000001; total time=   0.0s\n",
      "[CV] END ...........................alpha=0.8400000000000001; total time=   0.0s\n",
      "[CV] END ...........................alpha=0.8400000000000001; total time=   0.0s\n",
      "[CV] END ...........................alpha=0.8400000000000001; total time=   0.0s\n",
      "[CV] END ...........................alpha=0.8400000000000001; total time=   0.0s\n",
      "[CV] END .........................................alpha=0.85; total time=   0.0s\n",
      "[CV] END .........................................alpha=0.85; total time=   0.0s\n",
      "[CV] END .........................................alpha=0.85; total time=   0.0s\n",
      "[CV] END .........................................alpha=0.85; total time=   0.0s\n",
      "[CV] END .........................................alpha=0.85; total time=   0.0s\n",
      "[CV] END .........................................alpha=0.85; total time=   0.0s\n",
      "[CV] END .........................................alpha=0.85; total time=   0.0s\n",
      "[CV] END .........................................alpha=0.85; total time=   0.0s\n",
      "[CV] END .........................................alpha=0.85; total time=   0.0s\n",
      "[CV] END .........................................alpha=0.85; total time=   0.0s\n",
      "[CV] END .........................................alpha=0.86; total time=   0.0s\n",
      "[CV] END .........................................alpha=0.86; total time=   0.0s\n",
      "[CV] END .........................................alpha=0.86; total time=   0.0s\n",
      "[CV] END .........................................alpha=0.86; total time=   0.0s\n",
      "[CV] END .........................................alpha=0.86; total time=   0.0s\n",
      "[CV] END .........................................alpha=0.86; total time=   0.0s\n",
      "[CV] END .........................................alpha=0.86; total time=   0.0s\n",
      "[CV] END .........................................alpha=0.86; total time=   0.0s\n",
      "[CV] END .........................................alpha=0.86; total time=   0.0s\n",
      "[CV] END .........................................alpha=0.86; total time=   0.0s\n",
      "[CV] END .........................................alpha=0.87; total time=   0.0s\n",
      "[CV] END .........................................alpha=0.87; total time=   0.0s\n",
      "[CV] END .........................................alpha=0.87; total time=   0.0s\n",
      "[CV] END .........................................alpha=0.87; total time=   0.0s\n",
      "[CV] END .........................................alpha=0.87; total time=   0.0s\n",
      "[CV] END .........................................alpha=0.87; total time=   0.0s\n",
      "[CV] END .........................................alpha=0.87; total time=   0.0s\n",
      "[CV] END .........................................alpha=0.87; total time=   0.0s\n",
      "[CV] END .........................................alpha=0.87; total time=   0.0s\n",
      "[CV] END .........................................alpha=0.87; total time=   0.0s\n",
      "[CV] END .........................................alpha=0.88; total time=   0.0s\n",
      "[CV] END .........................................alpha=0.88; total time=   0.0s\n",
      "[CV] END .........................................alpha=0.88; total time=   0.0s\n",
      "[CV] END .........................................alpha=0.88; total time=   0.0s\n",
      "[CV] END .........................................alpha=0.88; total time=   0.0s\n",
      "[CV] END .........................................alpha=0.88; total time=   0.0s\n",
      "[CV] END .........................................alpha=0.88; total time=   0.0s\n",
      "[CV] END .........................................alpha=0.88; total time=   0.0s\n",
      "[CV] END .........................................alpha=0.88; total time=   0.0s\n",
      "[CV] END .........................................alpha=0.88; total time=   0.0s\n",
      "[CV] END .........................................alpha=0.89; total time=   0.0s\n",
      "[CV] END .........................................alpha=0.89; total time=   0.0s\n",
      "[CV] END .........................................alpha=0.89; total time=   0.0s\n",
      "[CV] END .........................................alpha=0.89; total time=   0.0s\n",
      "[CV] END .........................................alpha=0.89; total time=   0.0s\n",
      "[CV] END .........................................alpha=0.89; total time=   0.0s\n",
      "[CV] END .........................................alpha=0.89; total time=   0.0s\n",
      "[CV] END .........................................alpha=0.89; total time=   0.0s\n",
      "[CV] END .........................................alpha=0.89; total time=   0.0s\n",
      "[CV] END .........................................alpha=0.89; total time=   0.0s\n",
      "[CV] END ..........................................alpha=0.9; total time=   0.0s\n",
      "[CV] END ..........................................alpha=0.9; total time=   0.0s\n",
      "[CV] END ..........................................alpha=0.9; total time=   0.0s\n",
      "[CV] END ..........................................alpha=0.9; total time=   0.0s\n",
      "[CV] END ..........................................alpha=0.9; total time=   0.0s\n",
      "[CV] END ..........................................alpha=0.9; total time=   0.0s\n",
      "[CV] END ..........................................alpha=0.9; total time=   0.0s\n",
      "[CV] END ..........................................alpha=0.9; total time=   0.0s\n",
      "[CV] END ..........................................alpha=0.9; total time=   0.0s\n",
      "[CV] END ..........................................alpha=0.9; total time=   0.0s\n",
      "[CV] END .........................................alpha=0.91; total time=   0.0s\n",
      "[CV] END .........................................alpha=0.91; total time=   0.0s\n",
      "[CV] END .........................................alpha=0.91; total time=   0.0s\n",
      "[CV] END .........................................alpha=0.91; total time=   0.0s\n",
      "[CV] END .........................................alpha=0.91; total time=   0.0s\n",
      "[CV] END .........................................alpha=0.91; total time=   0.0s\n",
      "[CV] END .........................................alpha=0.91; total time=   0.0s\n",
      "[CV] END .........................................alpha=0.91; total time=   0.0s\n",
      "[CV] END .........................................alpha=0.91; total time=   0.0s\n",
      "[CV] END .........................................alpha=0.91; total time=   0.0s\n",
      "[CV] END .........................................alpha=0.92; total time=   0.0s\n",
      "[CV] END .........................................alpha=0.92; total time=   0.0s\n",
      "[CV] END .........................................alpha=0.92; total time=   0.0s\n",
      "[CV] END .........................................alpha=0.92; total time=   0.0s\n",
      "[CV] END .........................................alpha=0.92; total time=   0.0s\n",
      "[CV] END .........................................alpha=0.92; total time=   0.0s\n",
      "[CV] END .........................................alpha=0.92; total time=   0.0s\n",
      "[CV] END .........................................alpha=0.92; total time=   0.0s\n",
      "[CV] END .........................................alpha=0.92; total time=   0.0s\n",
      "[CV] END .........................................alpha=0.92; total time=   0.0s\n"
     ]
    },
    {
     "name": "stdout",
     "output_type": "stream",
     "text": [
      "[CV] END .........................................alpha=0.93; total time=   0.0s\n",
      "[CV] END .........................................alpha=0.93; total time=   0.0s\n",
      "[CV] END .........................................alpha=0.93; total time=   0.0s\n",
      "[CV] END .........................................alpha=0.93; total time=   0.0s\n",
      "[CV] END .........................................alpha=0.93; total time=   0.0s\n",
      "[CV] END .........................................alpha=0.93; total time=   0.0s\n",
      "[CV] END .........................................alpha=0.93; total time=   0.0s\n",
      "[CV] END .........................................alpha=0.93; total time=   0.0s\n",
      "[CV] END .........................................alpha=0.93; total time=   0.0s\n",
      "[CV] END .........................................alpha=0.93; total time=   0.0s\n",
      "[CV] END ...........................alpha=0.9400000000000001; total time=   0.0s\n",
      "[CV] END ...........................alpha=0.9400000000000001; total time=   0.0s\n",
      "[CV] END ...........................alpha=0.9400000000000001; total time=   0.0s\n",
      "[CV] END ...........................alpha=0.9400000000000001; total time=   0.0s\n",
      "[CV] END ...........................alpha=0.9400000000000001; total time=   0.0s\n",
      "[CV] END ...........................alpha=0.9400000000000001; total time=   0.0s\n",
      "[CV] END ...........................alpha=0.9400000000000001; total time=   0.0s\n",
      "[CV] END ...........................alpha=0.9400000000000001; total time=   0.0s\n",
      "[CV] END ...........................alpha=0.9400000000000001; total time=   0.0s\n",
      "[CV] END ...........................alpha=0.9400000000000001; total time=   0.0s\n",
      "[CV] END ...........................alpha=0.9500000000000001; total time=   0.0s\n",
      "[CV] END ...........................alpha=0.9500000000000001; total time=   0.0s\n",
      "[CV] END ...........................alpha=0.9500000000000001; total time=   0.0s\n",
      "[CV] END ...........................alpha=0.9500000000000001; total time=   0.0s\n",
      "[CV] END ...........................alpha=0.9500000000000001; total time=   0.0s\n",
      "[CV] END ...........................alpha=0.9500000000000001; total time=   0.0s\n",
      "[CV] END ...........................alpha=0.9500000000000001; total time=   0.0s\n",
      "[CV] END ...........................alpha=0.9500000000000001; total time=   0.0s\n",
      "[CV] END ...........................alpha=0.9500000000000001; total time=   0.0s\n",
      "[CV] END ...........................alpha=0.9500000000000001; total time=   0.0s\n",
      "[CV] END ...........................alpha=0.9600000000000001; total time=   0.0s\n",
      "[CV] END ...........................alpha=0.9600000000000001; total time=   0.0s\n",
      "[CV] END ...........................alpha=0.9600000000000001; total time=   0.0s\n",
      "[CV] END ...........................alpha=0.9600000000000001; total time=   0.0s\n",
      "[CV] END ...........................alpha=0.9600000000000001; total time=   0.0s\n",
      "[CV] END ...........................alpha=0.9600000000000001; total time=   0.0s\n",
      "[CV] END ...........................alpha=0.9600000000000001; total time=   0.0s\n",
      "[CV] END ...........................alpha=0.9600000000000001; total time=   0.0s\n",
      "[CV] END ...........................alpha=0.9600000000000001; total time=   0.0s\n",
      "[CV] END ...........................alpha=0.9600000000000001; total time=   0.0s\n",
      "[CV] END .........................................alpha=0.97; total time=   0.0s\n",
      "[CV] END .........................................alpha=0.97; total time=   0.0s\n",
      "[CV] END .........................................alpha=0.97; total time=   0.0s\n",
      "[CV] END .........................................alpha=0.97; total time=   0.0s\n",
      "[CV] END .........................................alpha=0.97; total time=   0.0s\n",
      "[CV] END .........................................alpha=0.97; total time=   0.0s\n",
      "[CV] END .........................................alpha=0.97; total time=   0.0s\n",
      "[CV] END .........................................alpha=0.97; total time=   0.0s\n",
      "[CV] END .........................................alpha=0.97; total time=   0.0s\n",
      "[CV] END .........................................alpha=0.97; total time=   0.0s\n",
      "[CV] END .........................................alpha=0.98; total time=   0.0s\n",
      "[CV] END .........................................alpha=0.98; total time=   0.0s\n",
      "[CV] END .........................................alpha=0.98; total time=   0.0s\n",
      "[CV] END .........................................alpha=0.98; total time=   0.0s\n",
      "[CV] END .........................................alpha=0.98; total time=   0.0s\n",
      "[CV] END .........................................alpha=0.98; total time=   0.0s\n",
      "[CV] END .........................................alpha=0.98; total time=   0.0s\n",
      "[CV] END .........................................alpha=0.98; total time=   0.0s\n",
      "[CV] END .........................................alpha=0.98; total time=   0.0s\n",
      "[CV] END .........................................alpha=0.98; total time=   0.0s\n",
      "[CV] END .........................................alpha=0.99; total time=   0.0s\n",
      "[CV] END .........................................alpha=0.99; total time=   0.0s\n",
      "[CV] END .........................................alpha=0.99; total time=   0.0s\n",
      "[CV] END .........................................alpha=0.99; total time=   0.0s\n",
      "[CV] END .........................................alpha=0.99; total time=   0.0s\n",
      "[CV] END .........................................alpha=0.99; total time=   0.0s\n",
      "[CV] END .........................................alpha=0.99; total time=   0.0s\n",
      "[CV] END .........................................alpha=0.99; total time=   0.0s\n",
      "[CV] END .........................................alpha=0.99; total time=   0.0s\n",
      "[CV] END .........................................alpha=0.99; total time=   0.0s\n",
      "[CV] END ..........................................alpha=1.0; total time=   0.0s\n",
      "[CV] END ..........................................alpha=1.0; total time=   0.0s\n",
      "[CV] END ..........................................alpha=1.0; total time=   0.0s\n",
      "[CV] END ..........................................alpha=1.0; total time=   0.0s\n",
      "[CV] END ..........................................alpha=1.0; total time=   0.0s\n",
      "[CV] END ..........................................alpha=1.0; total time=   0.0s\n",
      "[CV] END ..........................................alpha=1.0; total time=   0.0s\n",
      "[CV] END ..........................................alpha=1.0; total time=   0.0s\n",
      "[CV] END ..........................................alpha=1.0; total time=   0.0s\n",
      "[CV] END ..........................................alpha=1.0; total time=   0.0s\n"
     ]
    },
    {
     "data": {
      "text/html": [
       "<style>#sk-container-id-19 {color: black;background-color: white;}#sk-container-id-19 pre{padding: 0;}#sk-container-id-19 div.sk-toggleable {background-color: white;}#sk-container-id-19 label.sk-toggleable__label {cursor: pointer;display: block;width: 100%;margin-bottom: 0;padding: 0.3em;box-sizing: border-box;text-align: center;}#sk-container-id-19 label.sk-toggleable__label-arrow:before {content: \"▸\";float: left;margin-right: 0.25em;color: #696969;}#sk-container-id-19 label.sk-toggleable__label-arrow:hover:before {color: black;}#sk-container-id-19 div.sk-estimator:hover label.sk-toggleable__label-arrow:before {color: black;}#sk-container-id-19 div.sk-toggleable__content {max-height: 0;max-width: 0;overflow: hidden;text-align: left;background-color: #f0f8ff;}#sk-container-id-19 div.sk-toggleable__content pre {margin: 0.2em;color: black;border-radius: 0.25em;background-color: #f0f8ff;}#sk-container-id-19 input.sk-toggleable__control:checked~div.sk-toggleable__content {max-height: 200px;max-width: 100%;overflow: auto;}#sk-container-id-19 input.sk-toggleable__control:checked~label.sk-toggleable__label-arrow:before {content: \"▾\";}#sk-container-id-19 div.sk-estimator input.sk-toggleable__control:checked~label.sk-toggleable__label {background-color: #d4ebff;}#sk-container-id-19 div.sk-label input.sk-toggleable__control:checked~label.sk-toggleable__label {background-color: #d4ebff;}#sk-container-id-19 input.sk-hidden--visually {border: 0;clip: rect(1px 1px 1px 1px);clip: rect(1px, 1px, 1px, 1px);height: 1px;margin: -1px;overflow: hidden;padding: 0;position: absolute;width: 1px;}#sk-container-id-19 div.sk-estimator {font-family: monospace;background-color: #f0f8ff;border: 1px dotted black;border-radius: 0.25em;box-sizing: border-box;margin-bottom: 0.5em;}#sk-container-id-19 div.sk-estimator:hover {background-color: #d4ebff;}#sk-container-id-19 div.sk-parallel-item::after {content: \"\";width: 100%;border-bottom: 1px solid gray;flex-grow: 1;}#sk-container-id-19 div.sk-label:hover label.sk-toggleable__label {background-color: #d4ebff;}#sk-container-id-19 div.sk-serial::before {content: \"\";position: absolute;border-left: 1px solid gray;box-sizing: border-box;top: 0;bottom: 0;left: 50%;z-index: 0;}#sk-container-id-19 div.sk-serial {display: flex;flex-direction: column;align-items: center;background-color: white;padding-right: 0.2em;padding-left: 0.2em;position: relative;}#sk-container-id-19 div.sk-item {position: relative;z-index: 1;}#sk-container-id-19 div.sk-parallel {display: flex;align-items: stretch;justify-content: center;background-color: white;position: relative;}#sk-container-id-19 div.sk-item::before, #sk-container-id-19 div.sk-parallel-item::before {content: \"\";position: absolute;border-left: 1px solid gray;box-sizing: border-box;top: 0;bottom: 0;left: 50%;z-index: -1;}#sk-container-id-19 div.sk-parallel-item {display: flex;flex-direction: column;z-index: 1;position: relative;background-color: white;}#sk-container-id-19 div.sk-parallel-item:first-child::after {align-self: flex-end;width: 50%;}#sk-container-id-19 div.sk-parallel-item:last-child::after {align-self: flex-start;width: 50%;}#sk-container-id-19 div.sk-parallel-item:only-child::after {width: 0;}#sk-container-id-19 div.sk-dashed-wrapped {border: 1px dashed gray;margin: 0 0.4em 0.5em 0.4em;box-sizing: border-box;padding-bottom: 0.4em;background-color: white;}#sk-container-id-19 div.sk-label label {font-family: monospace;font-weight: bold;display: inline-block;line-height: 1.2em;}#sk-container-id-19 div.sk-label-container {text-align: center;}#sk-container-id-19 div.sk-container {/* jupyter's `normalize.less` sets `[hidden] { display: none; }` but bootstrap.min.css set `[hidden] { display: none !important; }` so we also need the `!important` here to be able to override the default hidden behavior on the sphinx rendered scikit-learn.org. See: https://github.com/scikit-learn/scikit-learn/issues/21755 */display: inline-block !important;position: relative;}#sk-container-id-19 div.sk-text-repr-fallback {display: none;}</style><div id=\"sk-container-id-19\" class=\"sk-top-container\"><div class=\"sk-text-repr-fallback\"><pre>GridSearchCV(cv=10, estimator=ElasticNet(random_state=42),\n",
       "             param_grid={&#x27;alpha&#x27;: array([0.01, 0.02, 0.03, 0.04, 0.05, 0.06, 0.07, 0.08, 0.09, 0.1 , 0.11,\n",
       "       0.12, 0.13, 0.14, 0.15, 0.16, 0.17, 0.18, 0.19, 0.2 , 0.21, 0.22,\n",
       "       0.23, 0.24, 0.25, 0.26, 0.27, 0.28, 0.29, 0.3 , 0.31, 0.32, 0.33,\n",
       "       0.34, 0.35, 0.36, 0.37, 0.38, 0.39, 0.4 , 0.41, 0.42, 0.43, 0.44,\n",
       "       0.45, 0.46, 0.47, 0.48, 0.49, 0.5 , 0.51, 0.52, 0.53, 0.54, 0.55,\n",
       "       0.56, 0.57, 0.58, 0.59, 0.6 , 0.61, 0.62, 0.63, 0.64, 0.65, 0.66,\n",
       "       0.67, 0.68, 0.69, 0.7 , 0.71, 0.72, 0.73, 0.74, 0.75, 0.76, 0.77,\n",
       "       0.78, 0.79, 0.8 , 0.81, 0.82, 0.83, 0.84, 0.85, 0.86, 0.87, 0.88,\n",
       "       0.89, 0.9 , 0.91, 0.92, 0.93, 0.94, 0.95, 0.96, 0.97, 0.98, 0.99,\n",
       "       1.  ])},\n",
       "             return_train_score=True, scoring=&#x27;neg_root_mean_squared_error&#x27;,\n",
       "             verbose=2)</pre><b>In a Jupyter environment, please rerun this cell to show the HTML representation or trust the notebook. <br />On GitHub, the HTML representation is unable to render, please try loading this page with nbviewer.org.</b></div><div class=\"sk-container\" hidden><div class=\"sk-item sk-dashed-wrapped\"><div class=\"sk-label-container\"><div class=\"sk-label sk-toggleable\"><input class=\"sk-toggleable__control sk-hidden--visually\" id=\"sk-estimator-id-19\" type=\"checkbox\" ><label for=\"sk-estimator-id-19\" class=\"sk-toggleable__label sk-toggleable__label-arrow\">GridSearchCV</label><div class=\"sk-toggleable__content\"><pre>GridSearchCV(cv=10, estimator=ElasticNet(random_state=42),\n",
       "             param_grid={&#x27;alpha&#x27;: array([0.01, 0.02, 0.03, 0.04, 0.05, 0.06, 0.07, 0.08, 0.09, 0.1 , 0.11,\n",
       "       0.12, 0.13, 0.14, 0.15, 0.16, 0.17, 0.18, 0.19, 0.2 , 0.21, 0.22,\n",
       "       0.23, 0.24, 0.25, 0.26, 0.27, 0.28, 0.29, 0.3 , 0.31, 0.32, 0.33,\n",
       "       0.34, 0.35, 0.36, 0.37, 0.38, 0.39, 0.4 , 0.41, 0.42, 0.43, 0.44,\n",
       "       0.45, 0.46, 0.47, 0.48, 0.49, 0.5 , 0.51, 0.52, 0.53, 0.54, 0.55,\n",
       "       0.56, 0.57, 0.58, 0.59, 0.6 , 0.61, 0.62, 0.63, 0.64, 0.65, 0.66,\n",
       "       0.67, 0.68, 0.69, 0.7 , 0.71, 0.72, 0.73, 0.74, 0.75, 0.76, 0.77,\n",
       "       0.78, 0.79, 0.8 , 0.81, 0.82, 0.83, 0.84, 0.85, 0.86, 0.87, 0.88,\n",
       "       0.89, 0.9 , 0.91, 0.92, 0.93, 0.94, 0.95, 0.96, 0.97, 0.98, 0.99,\n",
       "       1.  ])},\n",
       "             return_train_score=True, scoring=&#x27;neg_root_mean_squared_error&#x27;,\n",
       "             verbose=2)</pre></div></div></div><div class=\"sk-parallel\"><div class=\"sk-parallel-item\"><div class=\"sk-item\"><div class=\"sk-label-container\"><div class=\"sk-label sk-toggleable\"><input class=\"sk-toggleable__control sk-hidden--visually\" id=\"sk-estimator-id-20\" type=\"checkbox\" ><label for=\"sk-estimator-id-20\" class=\"sk-toggleable__label sk-toggleable__label-arrow\">estimator: ElasticNet</label><div class=\"sk-toggleable__content\"><pre>ElasticNet(random_state=42)</pre></div></div></div><div class=\"sk-serial\"><div class=\"sk-item\"><div class=\"sk-estimator sk-toggleable\"><input class=\"sk-toggleable__control sk-hidden--visually\" id=\"sk-estimator-id-21\" type=\"checkbox\" ><label for=\"sk-estimator-id-21\" class=\"sk-toggleable__label sk-toggleable__label-arrow\">ElasticNet</label><div class=\"sk-toggleable__content\"><pre>ElasticNet(random_state=42)</pre></div></div></div></div></div></div></div></div></div></div>"
      ],
      "text/plain": [
       "GridSearchCV(cv=10, estimator=ElasticNet(random_state=42),\n",
       "             param_grid={'alpha': array([0.01, 0.02, 0.03, 0.04, 0.05, 0.06, 0.07, 0.08, 0.09, 0.1 , 0.11,\n",
       "       0.12, 0.13, 0.14, 0.15, 0.16, 0.17, 0.18, 0.19, 0.2 , 0.21, 0.22,\n",
       "       0.23, 0.24, 0.25, 0.26, 0.27, 0.28, 0.29, 0.3 , 0.31, 0.32, 0.33,\n",
       "       0.34, 0.35, 0.36, 0.37, 0.38, 0.39, 0.4 , 0.41, 0.42, 0.43, 0.44,\n",
       "       0.45, 0.46, 0.47, 0.48, 0.49, 0.5 , 0.51, 0.52, 0.53, 0.54, 0.55,\n",
       "       0.56, 0.57, 0.58, 0.59, 0.6 , 0.61, 0.62, 0.63, 0.64, 0.65, 0.66,\n",
       "       0.67, 0.68, 0.69, 0.7 , 0.71, 0.72, 0.73, 0.74, 0.75, 0.76, 0.77,\n",
       "       0.78, 0.79, 0.8 , 0.81, 0.82, 0.83, 0.84, 0.85, 0.86, 0.87, 0.88,\n",
       "       0.89, 0.9 , 0.91, 0.92, 0.93, 0.94, 0.95, 0.96, 0.97, 0.98, 0.99,\n",
       "       1.  ])},\n",
       "             return_train_score=True, scoring='neg_root_mean_squared_error',\n",
       "             verbose=2)"
      ]
     },
     "execution_count": 345,
     "metadata": {},
     "output_type": "execute_result"
    }
   ],
   "source": [
    "grid_model.fit(X_train_scaled, y_train)"
   ]
  },
  {
   "cell_type": "code",
   "execution_count": 346,
   "id": "30276d3e",
   "metadata": {},
   "outputs": [
    {
     "data": {
      "text/plain": [
       "{'alpha': 0.01}"
      ]
     },
     "execution_count": 346,
     "metadata": {},
     "output_type": "execute_result"
    }
   ],
   "source": [
    "grid_model.best_params_"
   ]
  },
  {
   "cell_type": "markdown",
   "id": "daadbebc",
   "metadata": {},
   "source": [
    "## Final Model"
   ]
  },
  {
   "cell_type": "code",
   "execution_count": 347,
   "id": "3094cde3",
   "metadata": {},
   "outputs": [],
   "source": [
    "final_scaler = StandardScaler()\n",
    "X_scaled = final_scaler.fit_transform(poly_features)"
   ]
  },
  {
   "cell_type": "code",
   "execution_count": 348,
   "id": "81c7f9ac",
   "metadata": {},
   "outputs": [],
   "source": [
    "final_model =ElasticNet(alpha=0.01)"
   ]
  },
  {
   "cell_type": "code",
   "execution_count": 349,
   "id": "7c8eafb4",
   "metadata": {},
   "outputs": [
    {
     "data": {
      "text/html": [
       "<style>#sk-container-id-20 {color: black;background-color: white;}#sk-container-id-20 pre{padding: 0;}#sk-container-id-20 div.sk-toggleable {background-color: white;}#sk-container-id-20 label.sk-toggleable__label {cursor: pointer;display: block;width: 100%;margin-bottom: 0;padding: 0.3em;box-sizing: border-box;text-align: center;}#sk-container-id-20 label.sk-toggleable__label-arrow:before {content: \"▸\";float: left;margin-right: 0.25em;color: #696969;}#sk-container-id-20 label.sk-toggleable__label-arrow:hover:before {color: black;}#sk-container-id-20 div.sk-estimator:hover label.sk-toggleable__label-arrow:before {color: black;}#sk-container-id-20 div.sk-toggleable__content {max-height: 0;max-width: 0;overflow: hidden;text-align: left;background-color: #f0f8ff;}#sk-container-id-20 div.sk-toggleable__content pre {margin: 0.2em;color: black;border-radius: 0.25em;background-color: #f0f8ff;}#sk-container-id-20 input.sk-toggleable__control:checked~div.sk-toggleable__content {max-height: 200px;max-width: 100%;overflow: auto;}#sk-container-id-20 input.sk-toggleable__control:checked~label.sk-toggleable__label-arrow:before {content: \"▾\";}#sk-container-id-20 div.sk-estimator input.sk-toggleable__control:checked~label.sk-toggleable__label {background-color: #d4ebff;}#sk-container-id-20 div.sk-label input.sk-toggleable__control:checked~label.sk-toggleable__label {background-color: #d4ebff;}#sk-container-id-20 input.sk-hidden--visually {border: 0;clip: rect(1px 1px 1px 1px);clip: rect(1px, 1px, 1px, 1px);height: 1px;margin: -1px;overflow: hidden;padding: 0;position: absolute;width: 1px;}#sk-container-id-20 div.sk-estimator {font-family: monospace;background-color: #f0f8ff;border: 1px dotted black;border-radius: 0.25em;box-sizing: border-box;margin-bottom: 0.5em;}#sk-container-id-20 div.sk-estimator:hover {background-color: #d4ebff;}#sk-container-id-20 div.sk-parallel-item::after {content: \"\";width: 100%;border-bottom: 1px solid gray;flex-grow: 1;}#sk-container-id-20 div.sk-label:hover label.sk-toggleable__label {background-color: #d4ebff;}#sk-container-id-20 div.sk-serial::before {content: \"\";position: absolute;border-left: 1px solid gray;box-sizing: border-box;top: 0;bottom: 0;left: 50%;z-index: 0;}#sk-container-id-20 div.sk-serial {display: flex;flex-direction: column;align-items: center;background-color: white;padding-right: 0.2em;padding-left: 0.2em;position: relative;}#sk-container-id-20 div.sk-item {position: relative;z-index: 1;}#sk-container-id-20 div.sk-parallel {display: flex;align-items: stretch;justify-content: center;background-color: white;position: relative;}#sk-container-id-20 div.sk-item::before, #sk-container-id-20 div.sk-parallel-item::before {content: \"\";position: absolute;border-left: 1px solid gray;box-sizing: border-box;top: 0;bottom: 0;left: 50%;z-index: -1;}#sk-container-id-20 div.sk-parallel-item {display: flex;flex-direction: column;z-index: 1;position: relative;background-color: white;}#sk-container-id-20 div.sk-parallel-item:first-child::after {align-self: flex-end;width: 50%;}#sk-container-id-20 div.sk-parallel-item:last-child::after {align-self: flex-start;width: 50%;}#sk-container-id-20 div.sk-parallel-item:only-child::after {width: 0;}#sk-container-id-20 div.sk-dashed-wrapped {border: 1px dashed gray;margin: 0 0.4em 0.5em 0.4em;box-sizing: border-box;padding-bottom: 0.4em;background-color: white;}#sk-container-id-20 div.sk-label label {font-family: monospace;font-weight: bold;display: inline-block;line-height: 1.2em;}#sk-container-id-20 div.sk-label-container {text-align: center;}#sk-container-id-20 div.sk-container {/* jupyter's `normalize.less` sets `[hidden] { display: none; }` but bootstrap.min.css set `[hidden] { display: none !important; }` so we also need the `!important` here to be able to override the default hidden behavior on the sphinx rendered scikit-learn.org. See: https://github.com/scikit-learn/scikit-learn/issues/21755 */display: inline-block !important;position: relative;}#sk-container-id-20 div.sk-text-repr-fallback {display: none;}</style><div id=\"sk-container-id-20\" class=\"sk-top-container\"><div class=\"sk-text-repr-fallback\"><pre>ElasticNet(alpha=0.01)</pre><b>In a Jupyter environment, please rerun this cell to show the HTML representation or trust the notebook. <br />On GitHub, the HTML representation is unable to render, please try loading this page with nbviewer.org.</b></div><div class=\"sk-container\" hidden><div class=\"sk-item\"><div class=\"sk-estimator sk-toggleable\"><input class=\"sk-toggleable__control sk-hidden--visually\" id=\"sk-estimator-id-22\" type=\"checkbox\" checked><label for=\"sk-estimator-id-22\" class=\"sk-toggleable__label sk-toggleable__label-arrow\">ElasticNet</label><div class=\"sk-toggleable__content\"><pre>ElasticNet(alpha=0.01)</pre></div></div></div></div></div>"
      ],
      "text/plain": [
       "ElasticNet(alpha=0.01)"
      ]
     },
     "execution_count": 349,
     "metadata": {},
     "output_type": "execute_result"
    }
   ],
   "source": [
    "final_model.fit(X_scaled, y)"
   ]
  },
  {
   "cell_type": "code",
   "execution_count": 350,
   "id": "761db886",
   "metadata": {},
   "outputs": [
    {
     "data": {
      "text/plain": [
       "[[3.5, 12.1, 8.7, 10.6]]"
      ]
     },
     "execution_count": 350,
     "metadata": {},
     "output_type": "execute_result"
    }
   ],
   "source": [
    "new_data = [[3.5, 12.1, 8.7, 10.6]]\n",
    "new_data"
   ]
  },
  {
   "cell_type": "code",
   "execution_count": 352,
   "id": "a62a4f53",
   "metadata": {},
   "outputs": [
    {
     "data": {
      "text/plain": [
       "array([[3.50000000e+00, 1.21000000e+01, 8.70000000e+00, 1.06000000e+01,\n",
       "        1.22500000e+01, 4.23500000e+01, 3.04500000e+01, 3.71000000e+01,\n",
       "        1.46410000e+02, 1.05270000e+02, 1.28260000e+02, 7.56900000e+01,\n",
       "        9.22200000e+01, 1.12360000e+02, 4.28750000e+01, 1.48225000e+02,\n",
       "        1.06575000e+02, 1.29850000e+02, 5.12435000e+02, 3.68445000e+02,\n",
       "        4.48910000e+02, 2.64915000e+02, 3.22770000e+02, 3.93260000e+02,\n",
       "        1.77156100e+03, 1.27376700e+03, 1.55194600e+03, 9.15849000e+02,\n",
       "        1.11586200e+03, 1.35955600e+03, 6.58503000e+02, 8.02314000e+02,\n",
       "        9.77532000e+02, 1.19101600e+03, 1.50062500e+02, 5.18787500e+02,\n",
       "        3.73012500e+02, 4.54475000e+02, 1.79352250e+03, 1.28955750e+03,\n",
       "        1.57118500e+03, 9.27202500e+02, 1.12969500e+03, 1.37641000e+03,\n",
       "        6.20046350e+03, 4.45818450e+03, 5.43181100e+03, 3.20547150e+03,\n",
       "        3.90551700e+03, 4.75844600e+03, 2.30476050e+03, 2.80809900e+03,\n",
       "        3.42136200e+03, 4.16855600e+03, 2.14358881e+04, 1.54125807e+04,\n",
       "        1.87785466e+04, 1.10817729e+04, 1.35019302e+04, 1.64506276e+04,\n",
       "        7.96788630e+03, 9.70799940e+03, 1.18281372e+04, 1.44112936e+04,\n",
       "        5.72897610e+03, 6.98013180e+03, 8.50452840e+03, 1.03618392e+04,\n",
       "        1.26247696e+04]])"
      ]
     },
     "execution_count": 352,
     "metadata": {},
     "output_type": "execute_result"
    }
   ],
   "source": [
    "poly_sample = poly_converter.transform(new_data)\n",
    "poly_sample"
   ]
  },
  {
   "cell_type": "code",
   "execution_count": 353,
   "id": "b0fdad90",
   "metadata": {},
   "outputs": [
    {
     "data": {
      "text/plain": [
       "array([[ 0.25104322, -0.13043676, -0.15362374, -0.12967871,  0.04202587,\n",
       "        -0.04201405, -0.02074105, -0.03055723, -0.23569251, -0.23383016,\n",
       "        -0.23146817, -0.23770061, -0.23153372, -0.22786323, -0.12198331,\n",
       "        -0.1447442 , -0.12664735, -0.13642364, -0.20428932, -0.19164026,\n",
       "        -0.19785591, -0.1812901 , -0.18583478, -0.19157318, -0.29538204,\n",
       "        -0.2903639 , -0.29192235, -0.28639169, -0.28716984, -0.28851552,\n",
       "        -0.28417811, -0.28376977, -0.28415515, -0.28521218, -0.22461876,\n",
       "        -0.23318266, -0.22339636, -0.22882876, -0.25160262, -0.24286094,\n",
       "        -0.2475593 , -0.23369836, -0.23854484, -0.24337534, -0.27868392,\n",
       "        -0.27225226, -0.27550531, -0.26533133, -0.26879795, -0.27219267,\n",
       "        -0.25852776, -0.26182988, -0.26529412, -0.26877671, -0.30785729,\n",
       "        -0.30420655, -0.30581178, -0.3000285 , -0.30190468, -0.30365113,\n",
       "        -0.29571417, -0.29762152, -0.29954517, -0.30139688, -0.29164348,\n",
       "        -0.293356  , -0.29521798, -0.29715185, -0.29907176]])"
      ]
     },
     "execution_count": 353,
     "metadata": {},
     "output_type": "execute_result"
    }
   ],
   "source": [
    "scaled_sample = final_scaler.transform(poly_sample)\n",
    "scaled_sample"
   ]
  },
  {
   "cell_type": "code",
   "execution_count": 354,
   "id": "e06d0a33",
   "metadata": {},
   "outputs": [
    {
     "data": {
      "text/plain": [
       "array([252.62944363])"
      ]
     },
     "execution_count": 354,
     "metadata": {},
     "output_type": "execute_result"
    }
   ],
   "source": [
    "final_model.predict(scaled_sample)"
   ]
  }
 ],
 "metadata": {
  "kernelspec": {
   "display_name": "Python 3 (ipykernel)",
   "language": "python",
   "name": "python3"
  },
  "language_info": {
   "codemirror_mode": {
    "name": "ipython",
    "version": 3
   },
   "file_extension": ".py",
   "mimetype": "text/x-python",
   "name": "python",
   "nbconvert_exporter": "python",
   "pygments_lexer": "ipython3",
   "version": "3.10.12"
  }
 },
 "nbformat": 4,
 "nbformat_minor": 5
}
